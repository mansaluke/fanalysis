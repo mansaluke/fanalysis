{
 "cells": [
  {
   "cell_type": "code",
   "execution_count": 1,
   "metadata": {},
   "outputs": [],
   "source": [
    "%load_ext autoreload\n",
    "%autoreload 2\n",
    "%matplotlib inline"
   ]
  },
  {
   "cell_type": "code",
   "execution_count": 2,
   "metadata": {
    "scrolled": true
   },
   "outputs": [
    {
     "name": "stdout",
     "output_type": "stream",
     "text": [
      "Ipython active\n",
      "2019-08-08 15:22:46,439 - findatapy.market.datavendorweb - INFO - Request Dukascopy data\n",
      "2019-08-08 15:22:46,482 - findatapy.market.datavendorweb - INFO - About to download from Dukascopy... for EURUSD\n",
      "2019-08-08 15:22:47,006 - findatapy.market.datavendorweb - INFO - Downloading... 2019-08-01 00:00:00\n",
      "2019-08-08 15:22:53,264 - findatapy.market.datavendorweb - INFO - Downloading... 2019-08-02 00:00:00\n",
      "2019-08-08 15:23:00,527 - findatapy.market.datavendorweb - INFO - Downloading... 2019-08-03 00:00:00\n",
      "2019-08-08 15:23:02,485 - findatapy.market.datavendorweb - INFO - Downloading... 2019-08-04 00:00:00\n",
      "2019-08-08 15:23:04,616 - findatapy.market.datavendorweb - INFO - Downloading... 2019-08-05 00:00:00\n",
      "2019-08-08 15:23:11,741 - findatapy.market.datavendorweb - INFO - Downloading... 2019-08-06 00:00:00\n",
      "2019-08-08 15:23:18,952 - findatapy.market.datavendorweb - INFO - Completed request from Dukascopy\n",
      "2019-08-08 15:23:21,022 - findatapy.market.ioengine - WARNING - Couldn't push MarketDataRequest_445__abstract_curve_key-None__alpha_vantage_api_key-x__category-fx__category_key-backtest_fx_dukascopy_tick_NYC_EURUSD__cut-NYC__data_source-dukascopy__environment-backtest__expiry_date-NaT__fields-bid__finish_date-2019-08-07 00:00:00__fred_api_key-x__freq-tick__freq_mult-1__gran_freq-None__quandl_api_key-x__resample-None__resample_how-last__start_date-2019-08-01 00:00:00__tickers-EURUSD__trade_side-trade__vendor_fields-None__vendor_tickers-None to Redis: Error 10061 connecting to 127.0.0.1:6379. No connection could be made because the target machine actively refused it.\n",
      "Storing h5: data\\EURUSD_tick_2019_08_07.h5...\n",
      "dataframe stored successfully\n"
     ]
    }
   ],
   "source": [
    "from findatapy.market import MarketDataGenerator, Market, MarketDataRequest\n",
    "from dfconvert import df_store\n",
    "\n",
    "\n",
    "def generate_market_data_for_tests():\n",
    "\n",
    "    md_request = MarketDataRequest(start_date='01 Aug 2019', finish_date='07 Aug 2019', cut='NYC', category='fx',\n",
    "                                   fields=['bid'], freq='tick', data_source='dukascopy',\n",
    "                                   tickers=['EURUSD'])\n",
    "\n",
    "    market = Market(market_data_generator=MarketDataGenerator())\n",
    "    df = market.fetch_market(md_request)\n",
    "    df.head()\n",
    "    df_store('EURUSD_tick_2019_08_07.h5').store_df(df)\n",
    "\n",
    "#generate_market_data_for_tests()"
   ]
  },
  {
   "cell_type": "code",
   "execution_count": 3,
   "metadata": {
    "scrolled": true
   },
   "outputs": [
    {
     "name": "stdout",
     "output_type": "stream",
     "text": [
      "Loading h5: data\\EURUSD_tick_2019_08_07.h5...\n",
      "dataframe loaded successfully\n"
     ]
    },
    {
     "data": {
      "text/html": [
       "<div>\n",
       "<style scoped>\n",
       "    .dataframe tbody tr th:only-of-type {\n",
       "        vertical-align: middle;\n",
       "    }\n",
       "\n",
       "    .dataframe tbody tr th {\n",
       "        vertical-align: top;\n",
       "    }\n",
       "\n",
       "    .dataframe thead th {\n",
       "        text-align: right;\n",
       "    }\n",
       "</style>\n",
       "<table border=\"1\" class=\"dataframe\">\n",
       "  <thead>\n",
       "    <tr style=\"text-align: right;\">\n",
       "      <th></th>\n",
       "      <th>EURUSD.bid</th>\n",
       "    </tr>\n",
       "    <tr>\n",
       "      <th>Date</th>\n",
       "      <th></th>\n",
       "    </tr>\n",
       "  </thead>\n",
       "  <tbody>\n",
       "    <tr>\n",
       "      <th>2019-08-01 00:00:00.134</th>\n",
       "      <td>1.10715</td>\n",
       "    </tr>\n",
       "    <tr>\n",
       "      <th>2019-08-01 00:00:00.236</th>\n",
       "      <td>1.10715</td>\n",
       "    </tr>\n",
       "    <tr>\n",
       "      <th>2019-08-01 00:00:00.404</th>\n",
       "      <td>1.10716</td>\n",
       "    </tr>\n",
       "    <tr>\n",
       "      <th>2019-08-01 00:00:00.984</th>\n",
       "      <td>1.10716</td>\n",
       "    </tr>\n",
       "    <tr>\n",
       "      <th>2019-08-01 00:00:01.160</th>\n",
       "      <td>1.10717</td>\n",
       "    </tr>\n",
       "  </tbody>\n",
       "</table>\n",
       "</div>"
      ],
      "text/plain": [
       "                         EURUSD.bid\n",
       "Date                               \n",
       "2019-08-01 00:00:00.134     1.10715\n",
       "2019-08-01 00:00:00.236     1.10715\n",
       "2019-08-01 00:00:00.404     1.10716\n",
       "2019-08-01 00:00:00.984     1.10716\n",
       "2019-08-01 00:00:01.160     1.10717"
      ]
     },
     "execution_count": 3,
     "metadata": {},
     "output_type": "execute_result"
    }
   ],
   "source": [
    "from dfconvert import df_store\n",
    "df = df_store('EURUSD_tick_2019_08_07.h5').load_df()\n",
    "df.head()"
   ]
  },
  {
   "cell_type": "code",
   "execution_count": 4,
   "metadata": {},
   "outputs": [
    {
     "data": {
      "text/plain": [
       "696466"
      ]
     },
     "execution_count": 4,
     "metadata": {},
     "output_type": "execute_result"
    }
   ],
   "source": [
    "len(df)"
   ]
  },
  {
   "cell_type": "code",
   "execution_count": 5,
   "metadata": {},
   "outputs": [],
   "source": [
    "\n",
    "def sampler(df, n):\n",
    "    \"\"\"\n",
    "    e.g. for 1 in every 1000 ticks:\n",
    "    df = sampler(df, 10000)\n",
    "    \"\"\"\n",
    "    a = int(round(len(df)/n, 0))\n",
    "    print(a)\n",
    "    return df.sample(n= a)\n",
    "\n",
    " \n",
    "    \n",
    "    "
   ]
  },
  {
   "cell_type": "code",
   "execution_count": 6,
   "metadata": {},
   "outputs": [
    {
     "name": "stdout",
     "output_type": "stream",
     "text": [
      "69647\n"
     ]
    }
   ],
   "source": [
    "df = sampler(df, 10)"
   ]
  },
  {
   "cell_type": "code",
   "execution_count": 9,
   "metadata": {},
   "outputs": [],
   "source": [
    "import structureforfinance"
   ]
  },
  {
   "cell_type": "code",
   "execution_count": null,
   "metadata": {},
   "outputs": [],
   "source": []
  }
 ],
 "metadata": {
  "kernelspec": {
   "display_name": "Python 3",
   "language": "python",
   "name": "python3"
  },
  "language_info": {
   "codemirror_mode": {
    "name": "ipython",
    "version": 3
   },
   "file_extension": ".py",
   "mimetype": "text/x-python",
   "name": "python",
   "nbconvert_exporter": "python",
   "pygments_lexer": "ipython3",
   "version": "3.7.3"
  }
 },
 "nbformat": 4,
 "nbformat_minor": 2
}
