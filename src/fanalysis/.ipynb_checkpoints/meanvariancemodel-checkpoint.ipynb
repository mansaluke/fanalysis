{
 "cells": [
  {
   "cell_type": "code",
   "execution_count": 1,
   "metadata": {},
   "outputs": [
    {
     "name": "stdout",
     "output_type": "stream",
     "text": [
      "Ipython active\n"
     ]
    }
   ],
   "source": [
    "from dfconvert import df_store\n",
    "import numpy as np"
   ]
  },
  {
   "cell_type": "code",
   "execution_count": 2,
   "metadata": {},
   "outputs": [
    {
     "name": "stdout",
     "output_type": "stream",
     "text": [
      "Loading h5: data\\data.h5...\n",
      "dataframe loaded successfully\n"
     ]
    },
    {
     "data": {
      "text/html": [
       "<div>\n",
       "<style scoped>\n",
       "    .dataframe tbody tr th:only-of-type {\n",
       "        vertical-align: middle;\n",
       "    }\n",
       "\n",
       "    .dataframe tbody tr th {\n",
       "        vertical-align: top;\n",
       "    }\n",
       "\n",
       "    .dataframe thead th {\n",
       "        text-align: right;\n",
       "    }\n",
       "</style>\n",
       "<table border=\"1\" class=\"dataframe\">\n",
       "  <thead>\n",
       "    <tr style=\"text-align: right;\">\n",
       "      <th></th>\n",
       "      <th>date</th>\n",
       "      <th>Bar OPEN Bid Quote</th>\n",
       "      <th>Bar HIGH Bid Quote</th>\n",
       "      <th>Bar LOW Bid Quote</th>\n",
       "      <th>Bar CLOSE Bid Quote</th>\n",
       "      <th>Volume</th>\n",
       "      <th>Year</th>\n",
       "      <th>Month</th>\n",
       "      <th>Week</th>\n",
       "      <th>Day</th>\n",
       "      <th>...</th>\n",
       "      <th>Is_quarter_start</th>\n",
       "      <th>Is_year_end</th>\n",
       "      <th>Is_year_start</th>\n",
       "      <th>not_dupym</th>\n",
       "      <th>daysinmonth</th>\n",
       "      <th>aggdays</th>\n",
       "      <th>Bar OPEN Bid Quote_lag-1</th>\n",
       "      <th>Hour</th>\n",
       "      <th>Minute</th>\n",
       "      <th>Second</th>\n",
       "    </tr>\n",
       "  </thead>\n",
       "  <tbody>\n",
       "    <tr>\n",
       "      <th>0</th>\n",
       "      <td>2002-03-03 19:04:00</td>\n",
       "      <td>0.6100</td>\n",
       "      <td>0.6100</td>\n",
       "      <td>0.6099</td>\n",
       "      <td>0.6100</td>\n",
       "      <td>0</td>\n",
       "      <td>2002</td>\n",
       "      <td>3</td>\n",
       "      <td>9</td>\n",
       "      <td>3</td>\n",
       "      <td>...</td>\n",
       "      <td>False</td>\n",
       "      <td>False</td>\n",
       "      <td>False</td>\n",
       "      <td>1</td>\n",
       "      <td>0</td>\n",
       "      <td>3</td>\n",
       "      <td>0.6100</td>\n",
       "      <td>19</td>\n",
       "      <td>4</td>\n",
       "      <td>0</td>\n",
       "    </tr>\n",
       "    <tr>\n",
       "      <th>1</th>\n",
       "      <td>2002-03-03 19:05:00</td>\n",
       "      <td>0.6100</td>\n",
       "      <td>0.6100</td>\n",
       "      <td>0.6099</td>\n",
       "      <td>0.6099</td>\n",
       "      <td>0</td>\n",
       "      <td>2002</td>\n",
       "      <td>3</td>\n",
       "      <td>9</td>\n",
       "      <td>3</td>\n",
       "      <td>...</td>\n",
       "      <td>False</td>\n",
       "      <td>False</td>\n",
       "      <td>False</td>\n",
       "      <td>0</td>\n",
       "      <td>0</td>\n",
       "      <td>3</td>\n",
       "      <td>0.6099</td>\n",
       "      <td>19</td>\n",
       "      <td>5</td>\n",
       "      <td>0</td>\n",
       "    </tr>\n",
       "    <tr>\n",
       "      <th>2</th>\n",
       "      <td>2002-03-03 19:06:00</td>\n",
       "      <td>0.6099</td>\n",
       "      <td>0.6099</td>\n",
       "      <td>0.6099</td>\n",
       "      <td>0.6099</td>\n",
       "      <td>0</td>\n",
       "      <td>2002</td>\n",
       "      <td>3</td>\n",
       "      <td>9</td>\n",
       "      <td>3</td>\n",
       "      <td>...</td>\n",
       "      <td>False</td>\n",
       "      <td>False</td>\n",
       "      <td>False</td>\n",
       "      <td>0</td>\n",
       "      <td>0</td>\n",
       "      <td>3</td>\n",
       "      <td>0.6099</td>\n",
       "      <td>19</td>\n",
       "      <td>6</td>\n",
       "      <td>0</td>\n",
       "    </tr>\n",
       "    <tr>\n",
       "      <th>3</th>\n",
       "      <td>2002-03-03 19:07:00</td>\n",
       "      <td>0.6099</td>\n",
       "      <td>0.6100</td>\n",
       "      <td>0.6099</td>\n",
       "      <td>0.6100</td>\n",
       "      <td>0</td>\n",
       "      <td>2002</td>\n",
       "      <td>3</td>\n",
       "      <td>9</td>\n",
       "      <td>3</td>\n",
       "      <td>...</td>\n",
       "      <td>False</td>\n",
       "      <td>False</td>\n",
       "      <td>False</td>\n",
       "      <td>0</td>\n",
       "      <td>0</td>\n",
       "      <td>3</td>\n",
       "      <td>0.6099</td>\n",
       "      <td>19</td>\n",
       "      <td>7</td>\n",
       "      <td>0</td>\n",
       "    </tr>\n",
       "    <tr>\n",
       "      <th>4</th>\n",
       "      <td>2002-03-03 19:08:00</td>\n",
       "      <td>0.6099</td>\n",
       "      <td>0.6101</td>\n",
       "      <td>0.6099</td>\n",
       "      <td>0.6101</td>\n",
       "      <td>0</td>\n",
       "      <td>2002</td>\n",
       "      <td>3</td>\n",
       "      <td>9</td>\n",
       "      <td>3</td>\n",
       "      <td>...</td>\n",
       "      <td>False</td>\n",
       "      <td>False</td>\n",
       "      <td>False</td>\n",
       "      <td>0</td>\n",
       "      <td>0</td>\n",
       "      <td>3</td>\n",
       "      <td>0.6099</td>\n",
       "      <td>19</td>\n",
       "      <td>8</td>\n",
       "      <td>0</td>\n",
       "    </tr>\n",
       "  </tbody>\n",
       "</table>\n",
       "<p>5 rows × 25 columns</p>\n",
       "</div>"
      ],
      "text/plain": [
       "                 date  Bar OPEN Bid Quote  Bar HIGH Bid Quote  \\\n",
       "0 2002-03-03 19:04:00              0.6100              0.6100   \n",
       "1 2002-03-03 19:05:00              0.6100              0.6100   \n",
       "2 2002-03-03 19:06:00              0.6099              0.6099   \n",
       "3 2002-03-03 19:07:00              0.6099              0.6100   \n",
       "4 2002-03-03 19:08:00              0.6099              0.6101   \n",
       "\n",
       "   Bar LOW Bid Quote  Bar CLOSE Bid Quote  Volume  Year  Month  Week  Day  \\\n",
       "0             0.6099               0.6100       0  2002      3     9    3   \n",
       "1             0.6099               0.6099       0  2002      3     9    3   \n",
       "2             0.6099               0.6099       0  2002      3     9    3   \n",
       "3             0.6099               0.6100       0  2002      3     9    3   \n",
       "4             0.6099               0.6101       0  2002      3     9    3   \n",
       "\n",
       "   ...  Is_quarter_start  Is_year_end  Is_year_start  not_dupym  daysinmonth  \\\n",
       "0  ...             False        False          False          1            0   \n",
       "1  ...             False        False          False          0            0   \n",
       "2  ...             False        False          False          0            0   \n",
       "3  ...             False        False          False          0            0   \n",
       "4  ...             False        False          False          0            0   \n",
       "\n",
       "   aggdays  Bar OPEN Bid Quote_lag-1  Hour  Minute  Second  \n",
       "0        3                    0.6100    19       4       0  \n",
       "1        3                    0.6099    19       5       0  \n",
       "2        3                    0.6099    19       6       0  \n",
       "3        3                    0.6099    19       7       0  \n",
       "4        3                    0.6099    19       8       0  \n",
       "\n",
       "[5 rows x 25 columns]"
      ]
     },
     "execution_count": 2,
     "metadata": {},
     "output_type": "execute_result"
    }
   ],
   "source": [
    "df = df_store('data.h5').load_df()\n",
    "df.head()"
   ]
  },
  {
   "cell_type": "code",
   "execution_count": 3,
   "metadata": {},
   "outputs": [
    {
     "data": {
      "text/plain": [
       "0    0.6100\n",
       "1    0.6100\n",
       "2    0.6099\n",
       "3    0.6099\n",
       "4    0.6099\n",
       "Name: Bar OPEN Bid Quote, dtype: float64"
      ]
     },
     "execution_count": 3,
     "metadata": {},
     "output_type": "execute_result"
    }
   ],
   "source": [
    "df['Bar OPEN Bid Quote'].head()"
   ]
  },
  {
   "cell_type": "code",
   "execution_count": null,
   "metadata": {},
   "outputs": [],
   "source": [
    "def datapoint_return(variable):\n",
    "    returns = []\n",
    "    for i in range(0, len(variable)-1):\n",
    "        current = variable[i+1]\n",
    "        previous = variable[i]\n",
    "        datapoint_return = (current - previous)/previous\n",
    "        returns.append(datapoint_return)\n",
    "    return returns\n",
    "\n",
    "returns = datapoint_return(df['Bar OPEN Bid Quote'])\n",
    "\n",
    "mu = np.mean(returns)          # drift coefficient\n",
    "sig = np.std(returns) # diffusion coefficient\n",
    "\n",
    "print(mu, sig)"
   ]
  },
  {
   "cell_type": "code",
   "execution_count": null,
   "metadata": {},
   "outputs": [],
   "source": [
    "mu"
   ]
  },
  {
   "cell_type": "code",
   "execution_count": null,
   "metadata": {},
   "outputs": [],
   "source": [
    "sig"
   ]
  },
  {
   "cell_type": "code",
   "execution_count": null,
   "metadata": {},
   "outputs": [],
   "source": [
    "mu * len(df['d1'])"
   ]
  },
  {
   "cell_type": "code",
   "execution_count": null,
   "metadata": {},
   "outputs": [],
   "source": [
    "def mean_var_basic(mu, sig, r, a, T, N):\n",
    "    gamma = a/(1-a)\n",
    "    return ((mu-r)/(gamma*sig**2))*(1+r)**-(T-N-1)\n",
    "\n",
    "mean_var_basic(mu * len(df['d1']), sig * len(df['d1']), 0.1, 0.1, len(df['d1']), len(df['d1'])-1)\n"
   ]
  },
  {
   "cell_type": "code",
   "execution_count": null,
   "metadata": {},
   "outputs": [],
   "source": [
    "0.999/(1-0.999)"
   ]
  },
  {
   "cell_type": "code",
   "execution_count": null,
   "metadata": {},
   "outputs": [],
   "source": []
  }
 ],
 "metadata": {
  "kernelspec": {
   "display_name": "Python 3",
   "language": "python",
   "name": "python3"
  },
  "language_info": {
   "codemirror_mode": {
    "name": "ipython",
    "version": 3
   },
   "file_extension": ".py",
   "mimetype": "text/x-python",
   "name": "python",
   "nbconvert_exporter": "python",
   "pygments_lexer": "ipython3",
   "version": "3.7.3"
  }
 },
 "nbformat": 4,
 "nbformat_minor": 2
}
