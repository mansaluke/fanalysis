{
 "cells": [
  {
   "cell_type": "code",
   "execution_count": 1,
   "metadata": {},
   "outputs": [],
   "source": [
    "%load_ext autoreload\n",
    "%autoreload 2\n",
    "%matplotlib inline"
   ]
  },
  {
   "cell_type": "code",
   "execution_count": 2,
   "metadata": {
    "scrolled": true
   },
   "outputs": [],
   "source": [
    "import warnings\n",
    "import itertools\n",
    "import numpy as np\n",
    "import matplotlib.pyplot as plt\n",
    "warnings.filterwarnings(\"ignore\")\n",
    "plt.style.use('fivethirtyeight')\n",
    "import pandas as pd\n",
    "import statsmodels.api as sm\n",
    "import matplotlib\n",
    "matplotlib.rcParams['axes.labelsize'] = 14\n",
    "matplotlib.rcParams['xtick.labelsize'] = 12\n",
    "matplotlib.rcParams['ytick.labelsize'] = 12\n",
    "matplotlib.rcParams['text.color'] = 'k'"
   ]
  },
  {
   "cell_type": "code",
   "execution_count": 3,
   "metadata": {},
   "outputs": [],
   "source": [
    "#pathname = os.path.dirname(os.getcwd())"
   ]
  },
  {
   "cell_type": "code",
   "execution_count": 4,
   "metadata": {},
   "outputs": [],
   "source": [
    "import sys, os\n",
    "sys.path.append('..\\\\src')"
   ]
  },
  {
   "cell_type": "code",
   "execution_count": 5,
   "metadata": {},
   "outputs": [],
   "source": [
    "import sys, os\n",
    "sys.path.append('..src\\\\fanalysis')"
   ]
  },
  {
   "cell_type": "code",
   "execution_count": 9,
   "metadata": {
    "scrolled": true
   },
   "outputs": [
    {
     "name": "stdout",
     "output_type": "stream",
     "text": [
      "Ipython active\n"
     ]
    }
   ],
   "source": [
    "from fanalysis.generatedata import create_data\n",
    "from fanalysis.dfconvert import df_store"
   ]
  },
  {
   "cell_type": "code",
   "execution_count": 7,
   "metadata": {},
   "outputs": [],
   "source": [
    "\n",
    "from datetime import datetime"
   ]
  },
  {
   "cell_type": "code",
   "execution_count": 12,
   "metadata": {},
   "outputs": [
    {
     "name": "stdout",
     "output_type": "stream",
     "text": [
      "Loading h5: C:\\Users\\luke\\Documents\\Python Scripts\\fanalysis\\data\\EURUSD_tick_historicals.h5...\n",
      "dataframe loaded successfully\n"
     ]
    },
    {
     "data": {
      "text/plain": [
       "21546392"
      ]
     },
     "execution_count": 12,
     "metadata": {},
     "output_type": "execute_result"
    }
   ],
   "source": [
    "pathname = os.path.dirname(os.getcwd())\n",
    "\n",
    "df = df_store('EURUSD_tick_historicals.h5', pathname, 'data').load_df()\n",
    "\n",
    "len(df)"
   ]
  },
  {
   "cell_type": "code",
   "execution_count": 22,
   "metadata": {},
   "outputs": [],
   "source": [
    "df = df.sample(n=100000)"
   ]
  },
  {
   "cell_type": "code",
   "execution_count": 98,
   "metadata": {},
   "outputs": [],
   "source": [
    "\n",
    "def df_islarge(df):\n",
    "    print(df.memory_usage().sum())\n",
    "    if df.memory_usage().sum()>100*10^6:\n",
    "        return True\n",
    "\n",
    "    \n",
    "    \n",
    "def df_describe(df, col_details = True, columns = None):\n",
    "    \"\"\"\n",
    "    returns dataframe statistics\n",
    "    col_details : column analysis\n",
    "    \n",
    "    \"\"\"\n",
    "    \n",
    "    print('dataframe length: {}, number of columns: {}, dataframe size: {} mb'\n",
    "          .format(len(df), len(df.columns), df.memory_usage().sum()/1000000))\n",
    "    \n",
    "    \n",
    "    if df_islarge(df):\n",
    "        print('Large dataset warning')\n",
    "    \n",
    "    if col_details == True:\n",
    "        if columns == None:\n",
    "            print('columns: ', df.columns.values)\n",
    "            print(df.describe().T)\n",
    "            print(df.isnull().sum())\n",
    "        \n",
    "        else:\n",
    "            for col in columns:\n",
    "                print('Column: {}. Type: {}. Memory usage: {}'.format(col, df[col].dtype, df[col].memory_usage()/1000000))\n",
    "                print(df[col].describe())\n",
    "                print('Number of nulls: ', df[col].isnull().sum())\n",
    "                \n",
    "                \n",
    "    \n",
    "    "
   ]
  },
  {
   "cell_type": "code",
   "execution_count": 99,
   "metadata": {
    "scrolled": true
   },
   "outputs": [
    {
     "name": "stdout",
     "output_type": "stream",
     "text": [
      "dataframe length: 10, number of columns: 3, dataframe size: 0.00032 mb\n",
      "320\n",
      "Column: col1. Type: float64. Memory usage: 0.00016\n",
      "count    10.000000\n",
      "mean     -0.442406\n",
      "std       1.336966\n",
      "min      -1.928537\n",
      "25%      -1.567740\n",
      "50%      -0.665290\n",
      "75%       0.563632\n",
      "max       1.725038\n",
      "Name: col1, dtype: float64\n",
      "Number of nulls:  0\n",
      "Column: 2. Type: float64. Memory usage: 0.00016\n",
      "count    8.000000\n",
      "mean    -0.209157\n",
      "std      1.251255\n",
      "min     -2.181747\n",
      "25%     -0.767762\n",
      "50%      0.122713\n",
      "75%      0.317613\n",
      "max      1.609121\n",
      "Name: 2, dtype: float64\n",
      "Number of nulls:  2\n",
      "Column: 3. Type: float64. Memory usage: 0.00016\n",
      "count    10.000000\n",
      "mean     -0.176932\n",
      "std       0.809596\n",
      "min      -1.168220\n",
      "25%      -0.813553\n",
      "50%      -0.242834\n",
      "75%       0.341892\n",
      "max       1.293657\n",
      "Name: 3, dtype: float64\n",
      "Number of nulls:  0\n"
     ]
    }
   ],
   "source": [
    "df_describe(df, columns =list(df.columns.values))"
   ]
  },
  {
   "cell_type": "code",
   "execution_count": 55,
   "metadata": {},
   "outputs": [],
   "source": [
    "df = pd.DataFrame(np.random.randn(10,3), columns = ['col1','2', '3'])\n",
    "# Make a few areas have NaN values\n",
    "df.iloc[1:3,1] = np.nan\n"
   ]
  },
  {
   "cell_type": "code",
   "execution_count": 90,
   "metadata": {},
   "outputs": [
    {
     "data": {
      "text/plain": [
       "['col1', '2', '3']"
      ]
     },
     "execution_count": 90,
     "metadata": {},
     "output_type": "execute_result"
    }
   ],
   "source": [
    "list(df.columns.values)"
   ]
  },
  {
   "cell_type": "code",
   "execution_count": 65,
   "metadata": {},
   "outputs": [
    {
     "data": {
      "text/plain": [
       "dtype('float64')"
      ]
     },
     "execution_count": 65,
     "metadata": {},
     "output_type": "execute_result"
    }
   ],
   "source": [
    "df['col1'].dtype"
   ]
  },
  {
   "cell_type": "code",
   "execution_count": null,
   "metadata": {},
   "outputs": [],
   "source": []
  },
  {
   "cell_type": "code",
   "execution_count": null,
   "metadata": {},
   "outputs": [],
   "source": []
  },
  {
   "cell_type": "code",
   "execution_count": null,
   "metadata": {},
   "outputs": [],
   "source": []
  }
 ],
 "metadata": {
  "kernelspec": {
   "display_name": "Python 3",
   "language": "python",
   "name": "python3"
  },
  "language_info": {
   "codemirror_mode": {
    "name": "ipython",
    "version": 3
   },
   "file_extension": ".py",
   "mimetype": "text/x-python",
   "name": "python",
   "nbconvert_exporter": "python",
   "pygments_lexer": "ipython3",
   "version": "3.7.3"
  }
 },
 "nbformat": 4,
 "nbformat_minor": 2
}
