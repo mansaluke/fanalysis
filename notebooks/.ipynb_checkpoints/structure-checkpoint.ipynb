{
 "cells": [
  {
   "cell_type": "code",
   "execution_count": 2,
   "metadata": {},
   "outputs": [],
   "source": [
    "%load_ext autoreload\n",
    "%autoreload 2\n",
    "%matplotlib inline"
   ]
  },
  {
   "cell_type": "code",
   "execution_count": 3,
   "metadata": {},
   "outputs": [],
   "source": [
    "import sys\n",
    "sys.path.append('../src')"
   ]
  },
  {
   "cell_type": "code",
   "execution_count": 4,
   "metadata": {},
   "outputs": [],
   "source": [
    "import matplotlib.pyplot as plt\n",
    "import pandas as pd\n",
    "import numpy as np\n",
    "from datetime import datetime\n",
    "import os"
   ]
  },
  {
   "cell_type": "code",
   "execution_count": 8,
   "metadata": {},
   "outputs": [
    {
     "name": "stdout",
     "output_type": "stream",
     "text": [
      "Ipython active\n"
     ]
    }
   ],
   "source": [
    "import fanalysis.models.random_forest as rf\n",
    "import fanalysis.plotting as p\n",
    "from fanalysis import dfconvert as dfc\n",
    "from fanalysis import structure as s\n",
    "from fanalysis import utils"
   ]
  },
  {
   "cell_type": "code",
   "execution_count": 10,
   "metadata": {},
   "outputs": [
    {
     "data": {
      "text/plain": [
       "'C:\\\\Users\\\\luke\\\\Documents\\\\Python Scripts\\\\fanalysis'"
      ]
     },
     "execution_count": 10,
     "metadata": {},
     "output_type": "execute_result"
    }
   ],
   "source": [
    "pathname = os.path.dirname(os.getcwd())\n",
    "pathname"
   ]
  },
  {
   "cell_type": "code",
   "execution_count": 14,
   "metadata": {},
   "outputs": [
    {
     "name": "stdout",
     "output_type": "stream",
     "text": [
      "Loading h5: C:\\Users\\luke\\Documents\\Python Scripts\\fanalysis\\data\\EURUSD_tick_historicals_2019.h5...\n",
      "dataframe loaded successfully\n",
      "Number of rows:                21546392 \n",
      "Number of columns:                    1 \n",
      "Dataframe size:           258.556704 mb\n",
      "Large dataset warning\n",
      "columns:  ['EURUSD.bid']\n",
      "                 count      mean       std      min      25%      50%  \\\n",
      "EURUSD.bid  21546392.0  1.127574  0.010414  1.10268  1.12014  1.12712   \n",
      "\n",
      "                75%      max  \n",
      "EURUSD.bid  1.13526  1.15697  \n",
      "EURUSD.bid    0\n",
      "dtype: int64\n"
     ]
    }
   ],
   "source": [
    "indep_col='EURUSD.bid'\n",
    "df = dfc.df_store('EURUSD_tick_historicals_2019.h5', pathname, 'data').load_df()\n",
    "df = rf.drop_col(df, ['d2', 'd2', 'd3', 'd4', 'v'])\n",
    "utils.df_describe(df)\n"
   ]
  },
  {
   "cell_type": "code",
   "execution_count": 15,
   "metadata": {},
   "outputs": [
    {
     "data": {
      "text/html": [
       "<div>\n",
       "<style scoped>\n",
       "    .dataframe tbody tr th:only-of-type {\n",
       "        vertical-align: middle;\n",
       "    }\n",
       "\n",
       "    .dataframe tbody tr th {\n",
       "        vertical-align: top;\n",
       "    }\n",
       "\n",
       "    .dataframe thead th {\n",
       "        text-align: right;\n",
       "    }\n",
       "</style>\n",
       "<table border=\"1\" class=\"dataframe\">\n",
       "  <thead>\n",
       "    <tr style=\"text-align: right;\">\n",
       "      <th></th>\n",
       "      <th>Date</th>\n",
       "      <th>EURUSD.bid</th>\n",
       "    </tr>\n",
       "  </thead>\n",
       "  <tbody>\n",
       "    <tr>\n",
       "      <th>0</th>\n",
       "      <td>2019-05-07 14:59:24.125</td>\n",
       "      <td>1.11877</td>\n",
       "    </tr>\n",
       "    <tr>\n",
       "      <th>1</th>\n",
       "      <td>2019-07-16 08:49:27.806</td>\n",
       "      <td>1.12445</td>\n",
       "    </tr>\n",
       "    <tr>\n",
       "      <th>2</th>\n",
       "      <td>2019-03-01 07:48:29.370</td>\n",
       "      <td>1.13695</td>\n",
       "    </tr>\n",
       "    <tr>\n",
       "      <th>3</th>\n",
       "      <td>2019-04-12 14:35:44.555</td>\n",
       "      <td>1.13180</td>\n",
       "    </tr>\n",
       "    <tr>\n",
       "      <th>4</th>\n",
       "      <td>2019-07-02 09:02:52.865</td>\n",
       "      <td>1.12917</td>\n",
       "    </tr>\n",
       "  </tbody>\n",
       "</table>\n",
       "</div>"
      ],
      "text/plain": [
       "                     Date  EURUSD.bid\n",
       "0 2019-05-07 14:59:24.125     1.11877\n",
       "1 2019-07-16 08:49:27.806     1.12445\n",
       "2 2019-03-01 07:48:29.370     1.13695\n",
       "3 2019-04-12 14:35:44.555     1.13180\n",
       "4 2019-07-02 09:02:52.865     1.12917"
      ]
     },
     "execution_count": 15,
     "metadata": {},
     "output_type": "execute_result"
    }
   ],
   "source": [
    "if len(df) > 100000:\n",
    "    df = df.sample(n=100000)\n",
    "    \n",
    "df=df.reset_index()\n",
    "df.head()\n"
   ]
  },
  {
   "cell_type": "code",
   "execution_count": 20,
   "metadata": {},
   "outputs": [
    {
     "data": {
      "image/png": "[encoded data removed]",
      "text/plain": [
       "<Figure size 432x288 with 1 Axes>"
      ]
     },
     "metadata": {
      "needs_background": "light"
     },
     "output_type": "display_data"
    }
   ],
   "source": [
    "p.graph_vars(df, fmt= '.').show()"
   ]
  },
  {
   "cell_type": "code",
   "execution_count": 21,
   "metadata": {},
   "outputs": [],
   "source": [
    "df = s.date_split(df, datename = 'Date', time=True)"
   ]
  },
  {
   "cell_type": "code",
   "execution_count": 22,
   "metadata": {},
   "outputs": [
    {
     "data": {
      "text/html": [
       "<div>\n",
       "<style scoped>\n",
       "    .dataframe tbody tr th:only-of-type {\n",
       "        vertical-align: middle;\n",
       "    }\n",
       "\n",
       "    .dataframe tbody tr th {\n",
       "        vertical-align: top;\n",
       "    }\n",
       "\n",
       "    .dataframe thead th {\n",
       "        text-align: right;\n",
       "    }\n",
       "</style>\n",
       "<table border=\"1\" class=\"dataframe\">\n",
       "  <thead>\n",
       "    <tr style=\"text-align: right;\">\n",
       "      <th></th>\n",
       "      <th>Date</th>\n",
       "      <th>EURUSD.bid</th>\n",
       "      <th>Year</th>\n",
       "      <th>Month</th>\n",
       "      <th>Week</th>\n",
       "      <th>Day</th>\n",
       "      <th>Dayofweek</th>\n",
       "      <th>Dayofyear</th>\n",
       "      <th>Is_month_end</th>\n",
       "      <th>Is_month_start</th>\n",
       "      <th>Is_quarter_end</th>\n",
       "      <th>Is_quarter_start</th>\n",
       "      <th>Is_year_end</th>\n",
       "      <th>Is_year_start</th>\n",
       "      <th>Hour</th>\n",
       "      <th>Minute</th>\n",
       "      <th>Second</th>\n",
       "      <th>not_dupym</th>\n",
       "      <th>daysinmonth</th>\n",
       "      <th>aggdays</th>\n",
       "    </tr>\n",
       "  </thead>\n",
       "  <tbody>\n",
       "    <tr>\n",
       "      <th>0</th>\n",
       "      <td>2019-05-07 14:59:24.125</td>\n",
       "      <td>1.11877</td>\n",
       "      <td>2019</td>\n",
       "      <td>5</td>\n",
       "      <td>19</td>\n",
       "      <td>7</td>\n",
       "      <td>1</td>\n",
       "      <td>127</td>\n",
       "      <td>False</td>\n",
       "      <td>False</td>\n",
       "      <td>False</td>\n",
       "      <td>False</td>\n",
       "      <td>False</td>\n",
       "      <td>False</td>\n",
       "      <td>14</td>\n",
       "      <td>59</td>\n",
       "      <td>24</td>\n",
       "      <td>1</td>\n",
       "      <td>120</td>\n",
       "      <td>127</td>\n",
       "    </tr>\n",
       "    <tr>\n",
       "      <th>1</th>\n",
       "      <td>2019-07-16 08:49:27.806</td>\n",
       "      <td>1.12445</td>\n",
       "      <td>2019</td>\n",
       "      <td>7</td>\n",
       "      <td>29</td>\n",
       "      <td>16</td>\n",
       "      <td>1</td>\n",
       "      <td>197</td>\n",
       "      <td>False</td>\n",
       "      <td>False</td>\n",
       "      <td>False</td>\n",
       "      <td>False</td>\n",
       "      <td>False</td>\n",
       "      <td>False</td>\n",
       "      <td>8</td>\n",
       "      <td>49</td>\n",
       "      <td>27</td>\n",
       "      <td>1</td>\n",
       "      <td>181</td>\n",
       "      <td>197</td>\n",
       "    </tr>\n",
       "    <tr>\n",
       "      <th>2</th>\n",
       "      <td>2019-03-01 07:48:29.370</td>\n",
       "      <td>1.13695</td>\n",
       "      <td>2019</td>\n",
       "      <td>3</td>\n",
       "      <td>9</td>\n",
       "      <td>1</td>\n",
       "      <td>4</td>\n",
       "      <td>60</td>\n",
       "      <td>False</td>\n",
       "      <td>True</td>\n",
       "      <td>False</td>\n",
       "      <td>False</td>\n",
       "      <td>False</td>\n",
       "      <td>False</td>\n",
       "      <td>7</td>\n",
       "      <td>48</td>\n",
       "      <td>29</td>\n",
       "      <td>1</td>\n",
       "      <td>59</td>\n",
       "      <td>60</td>\n",
       "    </tr>\n",
       "    <tr>\n",
       "      <th>3</th>\n",
       "      <td>2019-04-12 14:35:44.555</td>\n",
       "      <td>1.13180</td>\n",
       "      <td>2019</td>\n",
       "      <td>4</td>\n",
       "      <td>15</td>\n",
       "      <td>12</td>\n",
       "      <td>4</td>\n",
       "      <td>102</td>\n",
       "      <td>False</td>\n",
       "      <td>False</td>\n",
       "      <td>False</td>\n",
       "      <td>False</td>\n",
       "      <td>False</td>\n",
       "      <td>False</td>\n",
       "      <td>14</td>\n",
       "      <td>35</td>\n",
       "      <td>44</td>\n",
       "      <td>1</td>\n",
       "      <td>89</td>\n",
       "      <td>101</td>\n",
       "    </tr>\n",
       "    <tr>\n",
       "      <th>4</th>\n",
       "      <td>2019-07-02 09:02:52.865</td>\n",
       "      <td>1.12917</td>\n",
       "      <td>2019</td>\n",
       "      <td>7</td>\n",
       "      <td>27</td>\n",
       "      <td>2</td>\n",
       "      <td>1</td>\n",
       "      <td>183</td>\n",
       "      <td>False</td>\n",
       "      <td>False</td>\n",
       "      <td>False</td>\n",
       "      <td>False</td>\n",
       "      <td>False</td>\n",
       "      <td>False</td>\n",
       "      <td>9</td>\n",
       "      <td>2</td>\n",
       "      <td>52</td>\n",
       "      <td>0</td>\n",
       "      <td>181</td>\n",
       "      <td>183</td>\n",
       "    </tr>\n",
       "  </tbody>\n",
       "</table>\n",
       "</div>"
      ],
      "text/plain": [
       "                     Date  EURUSD.bid  Year  Month  Week  Day  Dayofweek  \\\n",
       "0 2019-05-07 14:59:24.125     1.11877  2019      5    19    7          1   \n",
       "1 2019-07-16 08:49:27.806     1.12445  2019      7    29   16          1   \n",
       "2 2019-03-01 07:48:29.370     1.13695  2019      3     9    1          4   \n",
       "3 2019-04-12 14:35:44.555     1.13180  2019      4    15   12          4   \n",
       "4 2019-07-02 09:02:52.865     1.12917  2019      7    27    2          1   \n",
       "\n",
       "   Dayofyear  Is_month_end  Is_month_start  Is_quarter_end  Is_quarter_start  \\\n",
       "0        127         False           False           False             False   \n",
       "1        197         False           False           False             False   \n",
       "2         60         False            True           False             False   \n",
       "3        102         False           False           False             False   \n",
       "4        183         False           False           False             False   \n",
       "\n",
       "   Is_year_end  Is_year_start  Hour  Minute  Second  not_dupym  daysinmonth  \\\n",
       "0        False          False    14      59      24          1          120   \n",
       "1        False          False     8      49      27          1          181   \n",
       "2        False          False     7      48      29          1           59   \n",
       "3        False          False    14      35      44          1           89   \n",
       "4        False          False     9       2      52          0          181   \n",
       "\n",
       "   aggdays  \n",
       "0      127  \n",
       "1      197  \n",
       "2       60  \n",
       "3      101  \n",
       "4      183  "
      ]
     },
     "execution_count": 22,
     "metadata": {},
     "output_type": "execute_result"
    }
   ],
   "source": [
    "df.head()"
   ]
  },
  {
   "cell_type": "code",
   "execution_count": 23,
   "metadata": {},
   "outputs": [
    {
     "name": "stdout",
     "output_type": "stream",
     "text": [
      "Storing h5: C:\\Users\\luke\\Documents\\Python Scripts\\fanalysis\\data\\EURUSD_tick_historicals_2019_post.h5...\n",
      "dataframe stored successfully\n"
     ]
    },
    {
     "data": {
      "text/plain": [
       "'C:\\\\Users\\\\luke\\\\Documents\\\\Python Scripts\\\\fanalysis\\\\data\\\\EURUSD_tick_historicals_2019_post.h5'"
      ]
     },
     "execution_count": 23,
     "metadata": {},
     "output_type": "execute_result"
    }
   ],
   "source": [
    "dfc.df_store('EURUSD_tick_historicals_2019_post.h5', pathname, 'data').store_df(df)"
   ]
  },
  {
   "cell_type": "code",
   "execution_count": null,
   "metadata": {},
   "outputs": [],
   "source": []
  }
 ],
 "metadata": {
  "kernelspec": {
   "display_name": "fan",
   "language": "python",
   "name": "fan"
  },
  "language_info": {
   "codemirror_mode": {
    "name": "ipython",
    "version": 3
   },
   "file_extension": ".py",
   "mimetype": "text/x-python",
   "name": "python",
   "nbconvert_exporter": "python",
   "pygments_lexer": "ipython3",
   "version": "3.7.3"
  }
 },
 "nbformat": 4,
 "nbformat_minor": 2
}
