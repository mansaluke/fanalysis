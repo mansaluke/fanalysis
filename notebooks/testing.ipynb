{
 "cells": [
  {
   "cell_type": "code",
   "execution_count": 1,
   "metadata": {},
   "outputs": [],
   "source": [
    "%load_ext autoreload\n",
    "%autoreload 2\n",
    "%matplotlib inline"
   ]
  },
  {
   "cell_type": "code",
   "execution_count": 42,
   "metadata": {
    "scrolled": true
   },
   "outputs": [],
   "source": [
    "#from findatapy.market import MarketDataGenerator, Market, MarketDataRequest\n",
    "#from dfconvert import df_store\n",
    "#\n",
    "#\n",
    "#def generate_market_data_for_tests():\n",
    "#\n",
    "#    md_request = MarketDataRequest(start_date='01 Aug 2019', finish_date='07 Aug 2019', cut='NYC', category='fx',\n",
    "#                                   fields=['bid'], freq='tick', data_source='dukascopy',\n",
    "#                                   tickers=['EURUSD'])\n",
    "#\n",
    "#    market = Market(market_data_generator=MarketDataGenerator())\n",
    "#    df = market.fetch_market(md_request)\n",
    "#    df.head()\n",
    "#    df_store('EURUSD_tick_2019_08_07.h5').store_df(df)\n",
    "\n",
    "#generate_market_data_for_tests()"
   ]
  },
  {
   "cell_type": "code",
   "execution_count": 2,
   "metadata": {},
   "outputs": [],
   "source": [
    "import sys, os\n",
    "sys.path.append('..\\\\src')"
   ]
  },
  {
   "cell_type": "code",
   "execution_count": 3,
   "metadata": {},
   "outputs": [],
   "source": [
    "from fanalysis import utils"
   ]
  },
  {
   "cell_type": "code",
   "execution_count": 11,
   "metadata": {
    "scrolled": true
   },
   "outputs": [
    {
     "name": "stdout",
     "output_type": "stream",
     "text": [
      "Unable to import feather, pyarrow.parquet as pq\n",
      "Ipython active\n"
     ]
    }
   ],
   "source": [
    "from fanalysis.Models import Random_Forest\n",
    "from fanalysis import dfconvert"
   ]
  },
  {
   "cell_type": "code",
   "execution_count": 33,
   "metadata": {},
   "outputs": [],
   "source": [
    "pathname = os.path.dirname(os.getcwd())"
   ]
  },
  {
   "cell_type": "code",
   "execution_count": 37,
   "metadata": {
    "scrolled": false
   },
   "outputs": [
    {
     "name": "stdout",
     "output_type": "stream",
     "text": [
      "Loading h5: C:\\Users\\lmcleary\\Documents\\python\\fanalysis\\data\\EURUSD_tick_historicals_aug.h5...\n",
      "dataframe loaded successfully\n"
     ]
    },
    {
     "data": {
      "text/html": [
       "<div>\n",
       "<style scoped>\n",
       "    .dataframe tbody tr th:only-of-type {\n",
       "        vertical-align: middle;\n",
       "    }\n",
       "\n",
       "    .dataframe tbody tr th {\n",
       "        vertical-align: top;\n",
       "    }\n",
       "\n",
       "    .dataframe thead th {\n",
       "        text-align: right;\n",
       "    }\n",
       "</style>\n",
       "<table border=\"1\" class=\"dataframe\">\n",
       "  <thead>\n",
       "    <tr style=\"text-align: right;\">\n",
       "      <th></th>\n",
       "      <th>EURUSD.bid</th>\n",
       "    </tr>\n",
       "    <tr>\n",
       "      <th>Date</th>\n",
       "      <th></th>\n",
       "    </tr>\n",
       "  </thead>\n",
       "  <tbody>\n",
       "    <tr>\n",
       "      <th>2019-08-01 00:00:00.134</th>\n",
       "      <td>1.10715</td>\n",
       "    </tr>\n",
       "    <tr>\n",
       "      <th>2019-08-01 00:00:00.236</th>\n",
       "      <td>1.10715</td>\n",
       "    </tr>\n",
       "    <tr>\n",
       "      <th>2019-08-01 00:00:00.404</th>\n",
       "      <td>1.10716</td>\n",
       "    </tr>\n",
       "    <tr>\n",
       "      <th>2019-08-01 00:00:00.984</th>\n",
       "      <td>1.10716</td>\n",
       "    </tr>\n",
       "    <tr>\n",
       "      <th>2019-08-01 00:00:01.160</th>\n",
       "      <td>1.10717</td>\n",
       "    </tr>\n",
       "  </tbody>\n",
       "</table>\n",
       "</div>"
      ],
      "text/plain": [
       "                         EURUSD.bid\n",
       "Date                               \n",
       "2019-08-01 00:00:00.134     1.10715\n",
       "2019-08-01 00:00:00.236     1.10715\n",
       "2019-08-01 00:00:00.404     1.10716\n",
       "2019-08-01 00:00:00.984     1.10716\n",
       "2019-08-01 00:00:01.160     1.10717"
      ]
     },
     "execution_count": 37,
     "metadata": {},
     "output_type": "execute_result"
    }
   ],
   "source": [
    "df = dfconvert.df_store('EURUSD_tick_historicals_aug.h5', pathname, 'data').load_df()\n",
    "df.head()"
   ]
  },
  {
   "cell_type": "code",
   "execution_count": 41,
   "metadata": {},
   "outputs": [
    {
     "data": {
      "text/plain": [
       "10000"
      ]
     },
     "execution_count": 41,
     "metadata": {},
     "output_type": "execute_result"
    }
   ],
   "source": [
    "len(df)"
   ]
  },
  {
   "cell_type": "code",
   "execution_count": 40,
   "metadata": {},
   "outputs": [],
   "source": [
    "df = df.sample(n=10000)"
   ]
  },
  {
   "cell_type": "code",
   "execution_count": null,
   "metadata": {},
   "outputs": [],
   "source": []
  }
 ],
 "metadata": {
  "kernelspec": {
   "display_name": "Python 3",
   "language": "python",
   "name": "python3"
  },
  "language_info": {
   "codemirror_mode": {
    "name": "ipython",
    "version": 3
   },
   "file_extension": ".py",
   "mimetype": "text/x-python",
   "name": "python",
   "nbconvert_exporter": "python",
   "pygments_lexer": "ipython3",
   "version": "3.7.3"
  }
 },
 "nbformat": 4,
 "nbformat_minor": 2
}
