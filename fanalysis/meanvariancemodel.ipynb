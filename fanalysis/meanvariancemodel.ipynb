{
 "cells": [
  {
   "cell_type": "code",
   "execution_count": 1,
   "metadata": {},
   "outputs": [
    {
     "name": "stdout",
     "output_type": "stream",
     "text": [
      "Ipython active\n"
     ]
    }
   ],
   "source": [
    "from dfconvert import df_store\n",
    "import numpy as np"
   ]
  },
  {
   "cell_type": "code",
   "execution_count": 2,
   "metadata": {},
   "outputs": [
    {
     "name": "stdout",
     "output_type": "stream",
     "text": [
      "Loading pickle: data\\data...\n",
      "dataframe loaded successfully\n"
     ]
    },
    {
     "data": {
      "text/html": [
       "<div>\n",
       "<style scoped>\n",
       "    .dataframe tbody tr th:only-of-type {\n",
       "        vertical-align: middle;\n",
       "    }\n",
       "\n",
       "    .dataframe tbody tr th {\n",
       "        vertical-align: top;\n",
       "    }\n",
       "\n",
       "    .dataframe thead th {\n",
       "        text-align: right;\n",
       "    }\n",
       "</style>\n",
       "<table border=\"1\" class=\"dataframe\">\n",
       "  <thead>\n",
       "    <tr style=\"text-align: right;\">\n",
       "      <th></th>\n",
       "      <th>date</th>\n",
       "      <th>d1</th>\n",
       "      <th>d2</th>\n",
       "      <th>d3</th>\n",
       "      <th>d4</th>\n",
       "      <th>v</th>\n",
       "      <th>Year</th>\n",
       "      <th>Month</th>\n",
       "      <th>Week</th>\n",
       "      <th>Day</th>\n",
       "      <th>...</th>\n",
       "      <th>Is_month_end</th>\n",
       "      <th>Is_month_start</th>\n",
       "      <th>Is_quarter_end</th>\n",
       "      <th>Is_quarter_start</th>\n",
       "      <th>Is_year_end</th>\n",
       "      <th>Is_year_start</th>\n",
       "      <th>not_dupym</th>\n",
       "      <th>daysinmonth</th>\n",
       "      <th>aggdays</th>\n",
       "      <th>d1_lag-1</th>\n",
       "    </tr>\n",
       "  </thead>\n",
       "  <tbody>\n",
       "    <tr>\n",
       "      <th>0</th>\n",
       "      <td>2002-03-03 19:04:00</td>\n",
       "      <td>0.6100</td>\n",
       "      <td>0.6100</td>\n",
       "      <td>0.6099</td>\n",
       "      <td>0.6100</td>\n",
       "      <td>0.0</td>\n",
       "      <td>2002</td>\n",
       "      <td>3</td>\n",
       "      <td>9</td>\n",
       "      <td>3</td>\n",
       "      <td>...</td>\n",
       "      <td>False</td>\n",
       "      <td>False</td>\n",
       "      <td>False</td>\n",
       "      <td>False</td>\n",
       "      <td>False</td>\n",
       "      <td>False</td>\n",
       "      <td>1</td>\n",
       "      <td>0</td>\n",
       "      <td>3</td>\n",
       "      <td>0.6100</td>\n",
       "    </tr>\n",
       "    <tr>\n",
       "      <th>1</th>\n",
       "      <td>2002-03-03 19:05:00</td>\n",
       "      <td>0.6100</td>\n",
       "      <td>0.6100</td>\n",
       "      <td>0.6099</td>\n",
       "      <td>0.6099</td>\n",
       "      <td>0.0</td>\n",
       "      <td>2002</td>\n",
       "      <td>3</td>\n",
       "      <td>9</td>\n",
       "      <td>3</td>\n",
       "      <td>...</td>\n",
       "      <td>False</td>\n",
       "      <td>False</td>\n",
       "      <td>False</td>\n",
       "      <td>False</td>\n",
       "      <td>False</td>\n",
       "      <td>False</td>\n",
       "      <td>0</td>\n",
       "      <td>0</td>\n",
       "      <td>3</td>\n",
       "      <td>0.6099</td>\n",
       "    </tr>\n",
       "    <tr>\n",
       "      <th>2</th>\n",
       "      <td>2002-03-03 19:06:00</td>\n",
       "      <td>0.6099</td>\n",
       "      <td>0.6099</td>\n",
       "      <td>0.6099</td>\n",
       "      <td>0.6099</td>\n",
       "      <td>0.0</td>\n",
       "      <td>2002</td>\n",
       "      <td>3</td>\n",
       "      <td>9</td>\n",
       "      <td>3</td>\n",
       "      <td>...</td>\n",
       "      <td>False</td>\n",
       "      <td>False</td>\n",
       "      <td>False</td>\n",
       "      <td>False</td>\n",
       "      <td>False</td>\n",
       "      <td>False</td>\n",
       "      <td>0</td>\n",
       "      <td>0</td>\n",
       "      <td>3</td>\n",
       "      <td>0.6099</td>\n",
       "    </tr>\n",
       "    <tr>\n",
       "      <th>3</th>\n",
       "      <td>2002-03-03 19:07:00</td>\n",
       "      <td>0.6099</td>\n",
       "      <td>0.6100</td>\n",
       "      <td>0.6099</td>\n",
       "      <td>0.6100</td>\n",
       "      <td>0.0</td>\n",
       "      <td>2002</td>\n",
       "      <td>3</td>\n",
       "      <td>9</td>\n",
       "      <td>3</td>\n",
       "      <td>...</td>\n",
       "      <td>False</td>\n",
       "      <td>False</td>\n",
       "      <td>False</td>\n",
       "      <td>False</td>\n",
       "      <td>False</td>\n",
       "      <td>False</td>\n",
       "      <td>0</td>\n",
       "      <td>0</td>\n",
       "      <td>3</td>\n",
       "      <td>0.6099</td>\n",
       "    </tr>\n",
       "    <tr>\n",
       "      <th>4</th>\n",
       "      <td>2002-03-03 19:08:00</td>\n",
       "      <td>0.6099</td>\n",
       "      <td>0.6101</td>\n",
       "      <td>0.6099</td>\n",
       "      <td>0.6101</td>\n",
       "      <td>0.0</td>\n",
       "      <td>2002</td>\n",
       "      <td>3</td>\n",
       "      <td>9</td>\n",
       "      <td>3</td>\n",
       "      <td>...</td>\n",
       "      <td>False</td>\n",
       "      <td>False</td>\n",
       "      <td>False</td>\n",
       "      <td>False</td>\n",
       "      <td>False</td>\n",
       "      <td>False</td>\n",
       "      <td>0</td>\n",
       "      <td>0</td>\n",
       "      <td>3</td>\n",
       "      <td>0.6099</td>\n",
       "    </tr>\n",
       "  </tbody>\n",
       "</table>\n",
       "<p>5 rows × 22 columns</p>\n",
       "</div>"
      ],
      "text/plain": [
       "                 date      d1      d2      d3      d4    v  Year  Month  Week  \\\n",
       "0 2002-03-03 19:04:00  0.6100  0.6100  0.6099  0.6100  0.0  2002      3     9   \n",
       "1 2002-03-03 19:05:00  0.6100  0.6100  0.6099  0.6099  0.0  2002      3     9   \n",
       "2 2002-03-03 19:06:00  0.6099  0.6099  0.6099  0.6099  0.0  2002      3     9   \n",
       "3 2002-03-03 19:07:00  0.6099  0.6100  0.6099  0.6100  0.0  2002      3     9   \n",
       "4 2002-03-03 19:08:00  0.6099  0.6101  0.6099  0.6101  0.0  2002      3     9   \n",
       "\n",
       "   Day  ...  Is_month_end  Is_month_start  Is_quarter_end  Is_quarter_start  \\\n",
       "0    3  ...         False           False           False             False   \n",
       "1    3  ...         False           False           False             False   \n",
       "2    3  ...         False           False           False             False   \n",
       "3    3  ...         False           False           False             False   \n",
       "4    3  ...         False           False           False             False   \n",
       "\n",
       "   Is_year_end  Is_year_start  not_dupym  daysinmonth  aggdays  d1_lag-1  \n",
       "0        False          False          1            0        3    0.6100  \n",
       "1        False          False          0            0        3    0.6099  \n",
       "2        False          False          0            0        3    0.6099  \n",
       "3        False          False          0            0        3    0.6099  \n",
       "4        False          False          0            0        3    0.6099  \n",
       "\n",
       "[5 rows x 22 columns]"
      ]
     },
     "execution_count": 2,
     "metadata": {},
     "output_type": "execute_result"
    }
   ],
   "source": [
    "df = df_store('data').load_df()\n",
    "df.head()"
   ]
  },
  {
   "cell_type": "code",
   "execution_count": 3,
   "metadata": {},
   "outputs": [
    {
     "data": {
      "text/plain": [
       "0    0.6100\n",
       "1    0.6100\n",
       "2    0.6099\n",
       "3    0.6099\n",
       "4    0.6099\n",
       "Name: d1, dtype: float32"
      ]
     },
     "execution_count": 3,
     "metadata": {},
     "output_type": "execute_result"
    }
   ],
   "source": [
    "df['d1'].head()"
   ]
  },
  {
   "cell_type": "code",
   "execution_count": 5,
   "metadata": {},
   "outputs": [
    {
     "name": "stdout",
     "output_type": "stream",
     "text": [
      "8.703816e-08 0.00017802102\n"
     ]
    }
   ],
   "source": [
    "def datapoint_return(variable):\n",
    "    returns = []\n",
    "    for i in range(0, len(variable)-1):\n",
    "        current = variable[i+1]\n",
    "        previous = variable[i]\n",
    "        datapoint_return = (current - previous)/previous\n",
    "        returns.append(datapoint_return)\n",
    "    return returns\n",
    "\n",
    "returns = datapoint_return(df['d1'])\n",
    "\n",
    "mu = np.mean(returns)          # drift coefficient\n",
    "sig = np.std(returns) # diffusion coefficient\n",
    "\n",
    "print(mu, sig)"
   ]
  },
  {
   "cell_type": "code",
   "execution_count": 12,
   "metadata": {},
   "outputs": [
    {
     "data": {
      "text/plain": [
       "8.703816e-08"
      ]
     },
     "execution_count": 12,
     "metadata": {},
     "output_type": "execute_result"
    }
   ],
   "source": [
    "mu"
   ]
  },
  {
   "cell_type": "code",
   "execution_count": 13,
   "metadata": {},
   "outputs": [
    {
     "data": {
      "text/plain": [
       "0.00017802102"
      ]
     },
     "execution_count": 13,
     "metadata": {},
     "output_type": "execute_result"
    }
   ],
   "source": [
    "sig"
   ]
  },
  {
   "cell_type": "code",
   "execution_count": 6,
   "metadata": {},
   "outputs": [
    {
     "data": {
      "text/plain": [
       "0.47430470350502674"
      ]
     },
     "execution_count": 6,
     "metadata": {},
     "output_type": "execute_result"
    }
   ],
   "source": [
    "mu * len(df['d1'])"
   ]
  },
  {
   "cell_type": "code",
   "execution_count": 28,
   "metadata": {},
   "outputs": [
    {
     "data": {
      "text/plain": [
       "3.579561150597459e-06"
      ]
     },
     "execution_count": 28,
     "metadata": {},
     "output_type": "execute_result"
    }
   ],
   "source": [
    "def mean_var_basic(mu, sig, r, a, T, N):\n",
    "    gamma = a/(1-a)\n",
    "    return ((mu-r)/(gamma*sig**2))*(1+r)**-(T-N-1)\n",
    "\n",
    "mean_var_basic(mu * len(df['d1']), sig * len(df['d1']), 0.1, 0.1, len(df['d1']), len(df['d1'])-1)\n"
   ]
  },
  {
   "cell_type": "code",
   "execution_count": 23,
   "metadata": {},
   "outputs": [
    {
     "data": {
      "text/plain": [
       "998.9999999999991"
      ]
     },
     "execution_count": 23,
     "metadata": {},
     "output_type": "execute_result"
    }
   ],
   "source": [
    "0.999/(1-0.999)"
   ]
  },
  {
   "cell_type": "code",
   "execution_count": null,
   "metadata": {},
   "outputs": [],
   "source": []
  }
 ],
 "metadata": {
  "kernelspec": {
   "display_name": "Python 3",
   "language": "python",
   "name": "python3"
  },
  "language_info": {
   "codemirror_mode": {
    "name": "ipython",
    "version": 3
   },
   "file_extension": ".py",
   "mimetype": "text/x-python",
   "name": "python",
   "nbconvert_exporter": "python",
   "pygments_lexer": "ipython3",
   "version": "3.7.3"
  }
 },
 "nbformat": 4,
 "nbformat_minor": 2
}
