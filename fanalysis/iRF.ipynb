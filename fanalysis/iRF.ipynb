{
 "cells": [
  {
   "cell_type": "code",
   "execution_count": null,
   "metadata": {},
   "outputs": [],
   "source": [
    "%reload_ext autoreload"
   ]
  },
  {
   "cell_type": "code",
   "execution_count": 1,
   "metadata": {},
   "outputs": [],
   "source": [
    "%load_ext autoreload\n",
    "%autoreload 2\n",
    "%matplotlib inline"
   ]
  },
  {
   "cell_type": "code",
   "execution_count": 2,
   "metadata": {},
   "outputs": [],
   "source": [
    "import sys, os\n",
    "import extract as e\n",
    "import structure as s\n",
    "#import matplotlib.pyplot as plt\n",
    "import pandas as pd\n",
    "import numpy as np\n",
    "from sklearn.model_selection import train_test_split\n",
    "from datetime import datetime"
   ]
  },
  {
   "cell_type": "code",
   "execution_count": 3,
   "metadata": {},
   "outputs": [],
   "source": [
    "from plotting import plots"
   ]
  },
  {
   "cell_type": "code",
   "execution_count": 4,
   "metadata": {},
   "outputs": [
    {
     "name": "stdout",
     "output_type": "stream",
     "text": [
      "Ipython active\n"
     ]
    }
   ],
   "source": [
    "import dfconvert as dfC\n",
    "from dfconvert import df_store"
   ]
  },
  {
   "cell_type": "code",
   "execution_count": 91,
   "metadata": {
    "scrolled": true
   },
   "outputs": [
    {
     "name": "stdout",
     "output_type": "stream",
     "text": [
      "Loading pickle: data\\data...\n",
      "dataframe loaded successfully\n",
      "                 date      d1      d2      d3      d4    v  Year  Month  Week  \\\n",
      "0 2002-03-03 19:04:00  0.6100  0.6100  0.6099  0.6100  0.0  2002      3     9   \n",
      "1 2002-03-03 19:05:00  0.6100  0.6100  0.6099  0.6099  0.0  2002      3     9   \n",
      "2 2002-03-03 19:06:00  0.6099  0.6099  0.6099  0.6099  0.0  2002      3     9   \n",
      "3 2002-03-03 19:07:00  0.6099  0.6100  0.6099  0.6100  0.0  2002      3     9   \n",
      "4 2002-03-03 19:08:00  0.6099  0.6101  0.6099  0.6101  0.0  2002      3     9   \n",
      "\n",
      "   Day  ...  Is_month_end  Is_month_start  Is_quarter_end  Is_quarter_start  \\\n",
      "0    3  ...         False           False           False             False   \n",
      "1    3  ...         False           False           False             False   \n",
      "2    3  ...         False           False           False             False   \n",
      "3    3  ...         False           False           False             False   \n",
      "4    3  ...         False           False           False             False   \n",
      "\n",
      "   Is_year_end  Is_year_start  not_dupym  daysinmonth  aggdays  d1_lag-1  \n",
      "0        False          False          1            0        3    0.6100  \n",
      "1        False          False          0            0        3    0.6099  \n",
      "2        False          False          0            0        3    0.6099  \n",
      "3        False          False          0            0        3    0.6099  \n",
      "4        False          False          0            0        3    0.6099  \n",
      "\n",
      "[5 rows x 22 columns]\n"
     ]
    }
   ],
   "source": [
    "df = df_store('data').load_df()\n",
    "print(df.head())\n"
   ]
  },
  {
   "cell_type": "code",
   "execution_count": 92,
   "metadata": {},
   "outputs": [
    {
     "data": {
      "text/plain": [
       "5449388"
      ]
     },
     "execution_count": 92,
     "metadata": {},
     "output_type": "execute_result"
    }
   ],
   "source": [
    "len(df)"
   ]
  },
  {
   "cell_type": "code",
   "execution_count": 6,
   "metadata": {},
   "outputs": [],
   "source": [
    "import matplotlib.pyplot as plt"
   ]
  },
  {
   "cell_type": "code",
   "execution_count": 7,
   "metadata": {
    "scrolled": false
   },
   "outputs": [
    {
     "data": {
      "text/plain": [
       "<plotting.plots at 0x1c4c43b8a20>"
      ]
     },
     "execution_count": 7,
     "metadata": {},
     "output_type": "execute_result"
    },
    {
     "data": {
      "image/png": "[encoded data removed]",
      "text/plain": [
       "<Figure size 432x288 with 1 Axes>"
      ]
     },
     "metadata": {
      "needs_background": "light"
     },
     "output_type": "display_data"
    }
   ],
   "source": [
    "plots(df, None)"
   ]
  },
  {
   "cell_type": "code",
   "execution_count": 58,
   "metadata": {},
   "outputs": [],
   "source": [
    "import numpy as np"
   ]
  },
  {
   "cell_type": "code",
   "execution_count": 64,
   "metadata": {
    "scrolled": true
   },
   "outputs": [
    {
     "data": {
      "text/html": [
       "<div>\n",
       "<style scoped>\n",
       "    .dataframe tbody tr th:only-of-type {\n",
       "        vertical-align: middle;\n",
       "    }\n",
       "\n",
       "    .dataframe tbody tr th {\n",
       "        vertical-align: top;\n",
       "    }\n",
       "\n",
       "    .dataframe thead th {\n",
       "        text-align: right;\n",
       "    }\n",
       "</style>\n",
       "<table border=\"1\" class=\"dataframe\">\n",
       "  <thead>\n",
       "    <tr style=\"text-align: right;\">\n",
       "      <th></th>\n",
       "      <th>d3</th>\n",
       "      <th>diff_t</th>\n",
       "    </tr>\n",
       "  </thead>\n",
       "  <tbody>\n",
       "    <tr>\n",
       "      <th>564134</th>\n",
       "      <td>0.60000</td>\n",
       "      <td>11.399994</td>\n",
       "    </tr>\n",
       "    <tr>\n",
       "      <th>564135</th>\n",
       "      <td>0.66840</td>\n",
       "      <td>10.233388</td>\n",
       "    </tr>\n",
       "    <tr>\n",
       "      <th>4623424</th>\n",
       "      <td>0.90254</td>\n",
       "      <td>2.014316</td>\n",
       "    </tr>\n",
       "    <tr>\n",
       "      <th>4537095</th>\n",
       "      <td>0.82504</td>\n",
       "      <td>1.701735</td>\n",
       "    </tr>\n",
       "    <tr>\n",
       "      <th>4516317</th>\n",
       "      <td>0.78072</td>\n",
       "      <td>1.688188</td>\n",
       "    </tr>\n",
       "    <tr>\n",
       "      <th>4824010</th>\n",
       "      <td>0.84972</td>\n",
       "      <td>1.519325</td>\n",
       "    </tr>\n",
       "    <tr>\n",
       "      <th>1902624</th>\n",
       "      <td>0.91530</td>\n",
       "      <td>1.442148</td>\n",
       "    </tr>\n",
       "    <tr>\n",
       "      <th>3315239</th>\n",
       "      <td>0.85329</td>\n",
       "      <td>1.353578</td>\n",
       "    </tr>\n",
       "    <tr>\n",
       "      <th>4723554</th>\n",
       "      <td>0.88294</td>\n",
       "      <td>1.253767</td>\n",
       "    </tr>\n",
       "    <tr>\n",
       "      <th>4517619</th>\n",
       "      <td>0.81924</td>\n",
       "      <td>1.251156</td>\n",
       "    </tr>\n",
       "  </tbody>\n",
       "</table>\n",
       "</div>"
      ],
      "text/plain": [
       "              d3     diff_t\n",
       "564134   0.60000  11.399994\n",
       "564135   0.66840  10.233388\n",
       "4623424  0.90254   2.014316\n",
       "4537095  0.82504   1.701735\n",
       "4516317  0.78072   1.688188\n",
       "4824010  0.84972   1.519325\n",
       "1902624  0.91530   1.442148\n",
       "3315239  0.85329   1.353578\n",
       "4723554  0.88294   1.253767\n",
       "4517619  0.81924   1.251156"
      ]
     },
     "execution_count": 64,
     "metadata": {},
     "output_type": "execute_result"
    }
   ],
   "source": [
    "#largest = df.filter(['d1'], axis=1)\n",
    "largest = df[['d3']].copy(deep=False)\n",
    "largest['diff_t'] = np.sqrt(((largest['d3'].shift(1) - largest['d3'])/largest['d3'])**2)*100\n",
    "\n",
    "largest = largest.nlargest(10, 'diff_t')\n",
    "largest\n",
    "\n",
    "\n"
   ]
  },
  {
   "cell_type": "code",
   "execution_count": 191,
   "metadata": {},
   "outputs": [
    {
     "data": {
      "text/plain": [
       "[<matplotlib.lines.Line2D at 0x1c49b04c898>]"
      ]
     },
     "execution_count": 191,
     "metadata": {},
     "output_type": "execute_result"
    },
    {
     "data": {
      "image/png": "[encoded data removed]",
      "text/plain": [
       "<Figure size 432x288 with 1 Axes>"
      ]
     },
     "metadata": {},
     "output_type": "display_data"
    }
   ],
   "source": [
    "plt.plot(df['d3'])"
   ]
  },
  {
   "cell_type": "code",
   "execution_count": 234,
   "metadata": {},
   "outputs": [
    {
     "data": {
      "image/png": "[encoded data removed]",
      "text/plain": [
       "<Figure size 432x288 with 1 Axes>"
      ]
     },
     "metadata": {},
     "output_type": "display_data"
    }
   ],
   "source": [
    "import numpy as np\n",
    "\n",
    "\n",
    "class anomoly_detect():\n",
    "    \"\"\"\n",
    "    e.g.\n",
    "    anomoly_detect(df, 'd3').anomolies\n",
    "    d = anomoly_detect(df, 'd3').rm_anomolies(toNaN=False)\n",
    "    \"\"\"\n",
    "    def __init__(self, df, variable, xlen = 10, graph = True):        \n",
    "        self.df = df.copy()\n",
    "        self.variable = variable\n",
    "        self.xlen = xlen\n",
    "        self.graph = graph\n",
    "        \n",
    "        self.anomolies = self.differences_collect()\n",
    "        \n",
    "        if self.graph == True:\n",
    "            self.graph_anomolies(largest, 'diff_t', self.variable, self.xlen)\n",
    "\n",
    "            \n",
    "    def differences_collect(self):\n",
    "        largest = self.df[[self.variable]].copy(deep=False)\n",
    "        largest['diff_t'] = np.sqrt(((largest[self.variable].shift(1) - largest[self.variable])/largest[self.variable])**2)*100\n",
    "        largest = largest.nlargest(self.xlen, 'diff_t')\n",
    "        return largest\n",
    "\n",
    "    def graph_anomolies(self, largest, diff_t, variable, xlen):\n",
    "        plt.style.use('fivethirtyeight')\n",
    "        x_values = list(range(xlen))\n",
    "        plt.bar(x_values, largest[diff_t], orientation='vertical')\n",
    "        plt.ylabel('% diff')\n",
    "        plt.title('Anomolies')\n",
    "        \n",
    "    def rm_anomolies(self, toNaN = True):\n",
    "        anom_list = list(self.anomolies.reset_index()['index'])\n",
    "        for i in range(len(anom_list)-1):\n",
    "            cur = anom_list[i+1]\n",
    "            prev = anom_list[i]\n",
    "            if cur == prev + 1:\n",
    "                if toNaN == False:\n",
    "                    self.df.drop(self.df.index[prev])\n",
    "                elif toNaN != False:\n",
    "                    self.df.loc[self.df.index == prev, self.variable] = np.NaN\n",
    "        return self.df\n",
    "                \n",
    "        \n",
    "\n",
    "a = anomoly_detect(df, 'd3').anomolies\n",
    "d = anomoly_detect(df, 'd3').rm_anomolies(toNaN=False)\n"
   ]
  },
  {
   "cell_type": "code",
   "execution_count": 235,
   "metadata": {
    "scrolled": true
   },
   "outputs": [
    {
     "data": {
      "text/html": [
       "<div>\n",
       "<style scoped>\n",
       "    .dataframe tbody tr th:only-of-type {\n",
       "        vertical-align: middle;\n",
       "    }\n",
       "\n",
       "    .dataframe tbody tr th {\n",
       "        vertical-align: top;\n",
       "    }\n",
       "\n",
       "    .dataframe thead th {\n",
       "        text-align: right;\n",
       "    }\n",
       "</style>\n",
       "<table border=\"1\" class=\"dataframe\">\n",
       "  <thead>\n",
       "    <tr style=\"text-align: right;\">\n",
       "      <th></th>\n",
       "      <th>date</th>\n",
       "      <th>d1</th>\n",
       "      <th>d2</th>\n",
       "      <th>d3</th>\n",
       "      <th>d4</th>\n",
       "      <th>v</th>\n",
       "      <th>Year</th>\n",
       "      <th>Month</th>\n",
       "      <th>Week</th>\n",
       "      <th>Day</th>\n",
       "      <th>...</th>\n",
       "      <th>Is_month_end</th>\n",
       "      <th>Is_month_start</th>\n",
       "      <th>Is_quarter_end</th>\n",
       "      <th>Is_quarter_start</th>\n",
       "      <th>Is_year_end</th>\n",
       "      <th>Is_year_start</th>\n",
       "      <th>not_dupym</th>\n",
       "      <th>daysinmonth</th>\n",
       "      <th>aggdays</th>\n",
       "      <th>d1_lag-1</th>\n",
       "    </tr>\n",
       "  </thead>\n",
       "  <tbody>\n",
       "    <tr>\n",
       "      <th>564133</th>\n",
       "      <td>2004-03-26 16:22:00</td>\n",
       "      <td>0.6684</td>\n",
       "      <td>0.6685</td>\n",
       "      <td>0.6684</td>\n",
       "      <td>0.6684</td>\n",
       "      <td>0.0</td>\n",
       "      <td>2004</td>\n",
       "      <td>3</td>\n",
       "      <td>13</td>\n",
       "      <td>26</td>\n",
       "      <td>...</td>\n",
       "      <td>False</td>\n",
       "      <td>False</td>\n",
       "      <td>False</td>\n",
       "      <td>False</td>\n",
       "      <td>False</td>\n",
       "      <td>False</td>\n",
       "      <td>0</td>\n",
       "      <td>731</td>\n",
       "      <td>757</td>\n",
       "      <td>0.6685</td>\n",
       "    </tr>\n",
       "    <tr>\n",
       "      <th>564134</th>\n",
       "      <td>2004-03-26 16:23:00</td>\n",
       "      <td>0.6685</td>\n",
       "      <td>0.6685</td>\n",
       "      <td>NaN</td>\n",
       "      <td>0.6000</td>\n",
       "      <td>0.0</td>\n",
       "      <td>2004</td>\n",
       "      <td>3</td>\n",
       "      <td>13</td>\n",
       "      <td>26</td>\n",
       "      <td>...</td>\n",
       "      <td>False</td>\n",
       "      <td>False</td>\n",
       "      <td>False</td>\n",
       "      <td>False</td>\n",
       "      <td>False</td>\n",
       "      <td>False</td>\n",
       "      <td>0</td>\n",
       "      <td>731</td>\n",
       "      <td>757</td>\n",
       "      <td>0.6684</td>\n",
       "    </tr>\n",
       "    <tr>\n",
       "      <th>564135</th>\n",
       "      <td>2004-03-28 09:02:00</td>\n",
       "      <td>0.6684</td>\n",
       "      <td>0.6684</td>\n",
       "      <td>0.6684</td>\n",
       "      <td>0.6684</td>\n",
       "      <td>0.0</td>\n",
       "      <td>2004</td>\n",
       "      <td>3</td>\n",
       "      <td>13</td>\n",
       "      <td>28</td>\n",
       "      <td>...</td>\n",
       "      <td>False</td>\n",
       "      <td>False</td>\n",
       "      <td>False</td>\n",
       "      <td>False</td>\n",
       "      <td>False</td>\n",
       "      <td>False</td>\n",
       "      <td>0</td>\n",
       "      <td>731</td>\n",
       "      <td>759</td>\n",
       "      <td>0.6684</td>\n",
       "    </tr>\n",
       "  </tbody>\n",
       "</table>\n",
       "<p>3 rows × 22 columns</p>\n",
       "</div>"
      ],
      "text/plain": [
       "                      date      d1      d2      d3      d4    v  Year  Month  \\\n",
       "564133 2004-03-26 16:22:00  0.6684  0.6685  0.6684  0.6684  0.0  2004      3   \n",
       "564134 2004-03-26 16:23:00  0.6685  0.6685     NaN  0.6000  0.0  2004      3   \n",
       "564135 2004-03-28 09:02:00  0.6684  0.6684  0.6684  0.6684  0.0  2004      3   \n",
       "\n",
       "        Week  Day  ...  Is_month_end  Is_month_start  Is_quarter_end  \\\n",
       "564133    13   26  ...         False           False           False   \n",
       "564134    13   26  ...         False           False           False   \n",
       "564135    13   28  ...         False           False           False   \n",
       "\n",
       "        Is_quarter_start  Is_year_end  Is_year_start  not_dupym  daysinmonth  \\\n",
       "564133             False        False          False          0          731   \n",
       "564134             False        False          False          0          731   \n",
       "564135             False        False          False          0          731   \n",
       "\n",
       "        aggdays  d1_lag-1  \n",
       "564133      757    0.6685  \n",
       "564134      757    0.6684  \n",
       "564135      759    0.6684  \n",
       "\n",
       "[3 rows x 22 columns]"
      ]
     },
     "execution_count": 235,
     "metadata": {},
     "output_type": "execute_result"
    }
   ],
   "source": [
    "d[564133:564136]"
   ]
  },
  {
   "cell_type": "code",
   "execution_count": 229,
   "metadata": {},
   "outputs": [
    {
     "ename": "IndexError",
     "evalue": "index 1902624 is out of bounds for axis 0 with size 10",
     "output_type": "error",
     "traceback": [
      "\u001b[1;31m---------------------------------------------------------------------------\u001b[0m",
      "\u001b[1;31mIndexError\u001b[0m                                Traceback (most recent call last)",
      "\u001b[1;32m<ipython-input-229-97b5eba5d760>\u001b[0m in \u001b[0;36m<module>\u001b[1;34m\u001b[0m\n\u001b[0;32m      1\u001b[0m \u001b[1;33m\u001b[0m\u001b[0m\n\u001b[1;32m----> 2\u001b[1;33m \u001b[0ma\u001b[0m\u001b[1;33m.\u001b[0m\u001b[0mdrop\u001b[0m\u001b[1;33m(\u001b[0m\u001b[0ma\u001b[0m\u001b[1;33m.\u001b[0m\u001b[0mindex\u001b[0m\u001b[1;33m[\u001b[0m\u001b[1;36m1902624\u001b[0m\u001b[1;33m]\u001b[0m\u001b[1;33m)\u001b[0m\u001b[1;33m\u001b[0m\u001b[1;33m\u001b[0m\u001b[0m\n\u001b[0m\u001b[0;32m      3\u001b[0m \u001b[0ma\u001b[0m\u001b[1;33m\u001b[0m\u001b[1;33m\u001b[0m\u001b[0m\n",
      "\u001b[1;32m~\\Anaconda3\\lib\\site-packages\\pandas\\core\\indexes\\base.py\u001b[0m in \u001b[0;36m__getitem__\u001b[1;34m(self, key)\u001b[0m\n\u001b[0;32m   3956\u001b[0m         \u001b[1;32mif\u001b[0m \u001b[0mis_scalar\u001b[0m\u001b[1;33m(\u001b[0m\u001b[0mkey\u001b[0m\u001b[1;33m)\u001b[0m\u001b[1;33m:\u001b[0m\u001b[1;33m\u001b[0m\u001b[1;33m\u001b[0m\u001b[0m\n\u001b[0;32m   3957\u001b[0m             \u001b[0mkey\u001b[0m \u001b[1;33m=\u001b[0m \u001b[0mcom\u001b[0m\u001b[1;33m.\u001b[0m\u001b[0mcast_scalar_indexer\u001b[0m\u001b[1;33m(\u001b[0m\u001b[0mkey\u001b[0m\u001b[1;33m)\u001b[0m\u001b[1;33m\u001b[0m\u001b[1;33m\u001b[0m\u001b[0m\n\u001b[1;32m-> 3958\u001b[1;33m             \u001b[1;32mreturn\u001b[0m \u001b[0mgetitem\u001b[0m\u001b[1;33m(\u001b[0m\u001b[0mkey\u001b[0m\u001b[1;33m)\u001b[0m\u001b[1;33m\u001b[0m\u001b[1;33m\u001b[0m\u001b[0m\n\u001b[0m\u001b[0;32m   3959\u001b[0m \u001b[1;33m\u001b[0m\u001b[0m\n\u001b[0;32m   3960\u001b[0m         \u001b[1;32mif\u001b[0m \u001b[0misinstance\u001b[0m\u001b[1;33m(\u001b[0m\u001b[0mkey\u001b[0m\u001b[1;33m,\u001b[0m \u001b[0mslice\u001b[0m\u001b[1;33m)\u001b[0m\u001b[1;33m:\u001b[0m\u001b[1;33m\u001b[0m\u001b[1;33m\u001b[0m\u001b[0m\n",
      "\u001b[1;31mIndexError\u001b[0m: index 1902624 is out of bounds for axis 0 with size 10"
     ]
    }
   ],
   "source": [
    "\n",
    "a.drop(a.index[1902624])\n",
    "a"
   ]
  },
  {
   "cell_type": "code",
   "execution_count": 230,
   "metadata": {},
   "outputs": [
    {
     "data": {
      "text/html": [
       "<div>\n",
       "<style scoped>\n",
       "    .dataframe tbody tr th:only-of-type {\n",
       "        vertical-align: middle;\n",
       "    }\n",
       "\n",
       "    .dataframe tbody tr th {\n",
       "        vertical-align: top;\n",
       "    }\n",
       "\n",
       "    .dataframe thead th {\n",
       "        text-align: right;\n",
       "    }\n",
       "</style>\n",
       "<table border=\"1\" class=\"dataframe\">\n",
       "  <thead>\n",
       "    <tr style=\"text-align: right;\">\n",
       "      <th></th>\n",
       "      <th>d3</th>\n",
       "      <th>diff_t</th>\n",
       "    </tr>\n",
       "  </thead>\n",
       "  <tbody>\n",
       "    <tr>\n",
       "      <th>4623424</th>\n",
       "      <td>0.90254</td>\n",
       "      <td>2.014316</td>\n",
       "    </tr>\n",
       "    <tr>\n",
       "      <th>4537095</th>\n",
       "      <td>0.82504</td>\n",
       "      <td>1.701735</td>\n",
       "    </tr>\n",
       "    <tr>\n",
       "      <th>4516317</th>\n",
       "      <td>0.78072</td>\n",
       "      <td>1.688188</td>\n",
       "    </tr>\n",
       "    <tr>\n",
       "      <th>4824010</th>\n",
       "      <td>0.84972</td>\n",
       "      <td>1.519325</td>\n",
       "    </tr>\n",
       "    <tr>\n",
       "      <th>1902624</th>\n",
       "      <td>0.91530</td>\n",
       "      <td>1.442148</td>\n",
       "    </tr>\n",
       "    <tr>\n",
       "      <th>3315239</th>\n",
       "      <td>0.85329</td>\n",
       "      <td>1.353578</td>\n",
       "    </tr>\n",
       "    <tr>\n",
       "      <th>4723554</th>\n",
       "      <td>0.88294</td>\n",
       "      <td>1.253767</td>\n",
       "    </tr>\n",
       "    <tr>\n",
       "      <th>4517619</th>\n",
       "      <td>0.81924</td>\n",
       "      <td>1.251156</td>\n",
       "    </tr>\n",
       "    <tr>\n",
       "      <th>1793802</th>\n",
       "      <td>0.85040</td>\n",
       "      <td>1.222961</td>\n",
       "    </tr>\n",
       "    <tr>\n",
       "      <th>4497919</th>\n",
       "      <td>0.77513</td>\n",
       "      <td>1.179159</td>\n",
       "    </tr>\n",
       "  </tbody>\n",
       "</table>\n",
       "</div>"
      ],
      "text/plain": [
       "              d3    diff_t\n",
       "4623424  0.90254  2.014316\n",
       "4537095  0.82504  1.701735\n",
       "4516317  0.78072  1.688188\n",
       "4824010  0.84972  1.519325\n",
       "1902624  0.91530  1.442148\n",
       "3315239  0.85329  1.353578\n",
       "4723554  0.88294  1.253767\n",
       "4517619  0.81924  1.251156\n",
       "1793802  0.85040  1.222961\n",
       "4497919  0.77513  1.179159"
      ]
     },
     "execution_count": 230,
     "metadata": {},
     "output_type": "execute_result"
    }
   ],
   "source": [
    "a"
   ]
  },
  {
   "cell_type": "code",
   "execution_count": null,
   "metadata": {
    "scrolled": true
   },
   "outputs": [],
   "source": [
    "df.mean(numeric_only=True, axis=0)"
   ]
  },
  {
   "cell_type": "code",
   "execution_count": null,
   "metadata": {
    "scrolled": true
   },
   "outputs": [],
   "source": [
    "subset = df.iloc[:10000].reset_index()\n",
    "subset.head()"
   ]
  },
  {
   "cell_type": "code",
   "execution_count": null,
   "metadata": {},
   "outputs": [],
   "source": [
    "subset = s.date_split(subset, 'date')\n"
   ]
  },
  {
   "cell_type": "code",
   "execution_count": null,
   "metadata": {
    "scrolled": true
   },
   "outputs": [],
   "source": [
    "subset.head()"
   ]
  },
  {
   "cell_type": "code",
   "execution_count": null,
   "metadata": {},
   "outputs": [],
   "source": [
    "subset = s.add_rand(subset)\n",
    "subset.head()"
   ]
  },
  {
   "cell_type": "code",
   "execution_count": null,
   "metadata": {},
   "outputs": [],
   "source": [
    "subset['mean'] = subset.mean(numeric_only=True, axis=1)\n"
   ]
  },
  {
   "cell_type": "code",
   "execution_count": null,
   "metadata": {},
   "outputs": [],
   "source": [
    "subset.head()"
   ]
  },
  {
   "cell_type": "code",
   "execution_count": null,
   "metadata": {},
   "outputs": [],
   "source": [
    "features = pd.get_dummies(subset)"
   ]
  },
  {
   "cell_type": "code",
   "execution_count": null,
   "metadata": {},
   "outputs": [],
   "source": [
    "features.iloc[:, 5:14].head()"
   ]
  },
  {
   "cell_type": "code",
   "execution_count": null,
   "metadata": {},
   "outputs": [],
   "source": [
    "def drop_col(df, col_names):\n",
    "    for col in col_names:\n",
    "        if col in df.columns:\n",
    "            df = df.drop(col, axis = 1)\n",
    "    return df\n",
    "\n",
    "features = drop_col(features, ['date', 'd2', 'd3', 'd4', 'index'])"
   ]
  },
  {
   "cell_type": "code",
   "execution_count": null,
   "metadata": {},
   "outputs": [],
   "source": [
    "features.head()"
   ]
  },
  {
   "cell_type": "code",
   "execution_count": null,
   "metadata": {
    "scrolled": true
   },
   "outputs": [],
   "source": [
    "if 'd1' in features:\n",
    "    labels = np.array(features['d1'])\n",
    "    features = features.drop('d1', axis = 1)\n",
    "elif 'rnd' in features:\n",
    "    labels = np.array(features['rnd'])\n",
    "    features = features.drop('rnd', axis = 1)\n",
    "\n",
    "feature_list = list(features.columns)\n",
    "print(feature_list)\n",
    "features = np.array(features)\n",
    "\n",
    "train_features, test_features, train_labels, test_labels = train_test_split(features, labels, test_size = 0.25, random_state=42)\n",
    "print(train_features.shape)\n",
    "print(test_features.shape)\n",
    "print(train_labels.shape)\n",
    "print(test_labels.shape)"
   ]
  },
  {
   "cell_type": "code",
   "execution_count": null,
   "metadata": {},
   "outputs": [],
   "source": [
    "#historical average\n",
    "baseline_preds = test_features[:,feature_list.index('mean')]\n",
    "print(baseline_preds)\n",
    "baseline_errors = abs(baseline_preds - test_labels)\n",
    "baseline_errors[:10]\n"
   ]
  },
  {
   "cell_type": "code",
   "execution_count": null,
   "metadata": {},
   "outputs": [],
   "source": [
    "print('av basline error: ', round(np.mean(baseline_errors), 2))\n"
   ]
  },
  {
   "cell_type": "code",
   "execution_count": null,
   "metadata": {},
   "outputs": [],
   "source": [
    "from sklearn.ensemble import RandomForestRegressor\n",
    "\n",
    "rf = RandomForestRegressor(n_estimators=5, max_depth=50, n_jobs=-1)\n",
    "rf.fit(train_features, train_labels)\n",
    "predictions = rf.predict(test_features)\n",
    "errors = abs(predictions - test_labels)\n",
    "print('mean absolute error: ', np.mean(errors), 'degrees.')\n"
   ]
  },
  {
   "cell_type": "code",
   "execution_count": null,
   "metadata": {},
   "outputs": [],
   "source": [
    "mape = 100 * (errors / test_labels)\n",
    "accuracy = 100 - np.mean(mape)\n",
    "print('accuracy:', round(accuracy, 2), '%.')"
   ]
  },
  {
   "cell_type": "code",
   "execution_count": null,
   "metadata": {},
   "outputs": [],
   "source": [
    "importances = list(rf.feature_importances_)\n",
    "print(importances)\n",
    "feature_importances = [(feature, importance) for feature, importance in zip (feature_list, importances)]\n",
    "feature_importances = sorted(feature_importances, key = lambda x: x[1], reverse = True)\n",
    "[print('variable: {:20} importance : {}'.format(*pair)) for pair in feature_importances]"
   ]
  },
  {
   "cell_type": "code",
   "execution_count": null,
   "metadata": {},
   "outputs": [],
   "source": [
    "important_indices = [feature_list.index('Dayofweek'), feature_list.index('mean')]\n",
    "train_important=train_features[:,important_indices]\n",
    "test_important=test_features[:,important_indices]\n",
    "rf.fit(train_important, train_labels)\n",
    "predictions= rf.predict(test_important)\n",
    "errors = abs(predictions-test_labels)\n",
    "print(errors)"
   ]
  },
  {
   "cell_type": "code",
   "execution_count": null,
   "metadata": {},
   "outputs": [],
   "source": [
    "import matplotlib.pyplot as plt"
   ]
  },
  {
   "cell_type": "code",
   "execution_count": null,
   "metadata": {},
   "outputs": [],
   "source": [
    "plt.style.use('fivethirtyeight')\n",
    "x_values=list(range(len(importances)))\n",
    "plt.bar(x_values, importances, orientation='vertical')\n",
    "plt.xticks(x_values, feature_list, rotation='vertical')\n",
    "plt.ylabel('Importance')\n",
    "plt.xlabel('Variable')\n",
    "plt.title('var importance')\n",
    "\n"
   ]
  },
  {
   "cell_type": "code",
   "execution_count": null,
   "metadata": {},
   "outputs": [],
   "source": [
    "years = test_features[:, feature_list.index('Year')]\n",
    "months = test_features[:feature_list.index('Month')]\n",
    "days = test_features[:, feature_list.index('Day')]\n",
    "print(\"YEARS: \" , years)\n",
    "print(\"MONTHS: \" , months)\n",
    "print(\"DAYS: \" , days)\n",
    "\n"
   ]
  },
  {
   "cell_type": "code",
   "execution_count": null,
   "metadata": {},
   "outputs": [],
   "source": [
    "test_features[:100, 'year']"
   ]
  },
  {
   "cell_type": "code",
   "execution_count": null,
   "metadata": {},
   "outputs": [],
   "source": [
    "a=list(zip(years, months, days))\n",
    "print(a)"
   ]
  },
  {
   "cell_type": "code",
   "execution_count": null,
   "metadata": {},
   "outputs": [],
   "source": [
    "test_dates = [str(int(year)) + '-' + str(int(month))+'-' + str(int(day)) for year, month, day in zip(years, months, days)]\n",
    "\n",
    "test_dates = [datetime.strftime(date, '%Y-%m-%d') for date in test_dates]\n",
    "prediction_data = pd.DataFrame(data = {'date': test_dates, 'prediction': predictions})\n"
   ]
  },
  {
   "cell_type": "code",
   "execution_count": null,
   "metadata": {},
   "outputs": [],
   "source": [
    "\n",
    "plt.plot(prediction_data['prediction'], 'ro', label = 'prediction')\n",
    "plt.xticks(rotation  = '60')\n",
    "plt.ylabel('date')\n",
    "plt.xlabel('actual and predicted')"
   ]
  }
 ],
 "metadata": {
  "kernelspec": {
   "display_name": "Python 3",
   "language": "python",
   "name": "python3"
  },
  "language_info": {
   "codemirror_mode": {
    "name": "ipython",
    "version": 3
   },
   "file_extension": ".py",
   "mimetype": "text/x-python",
   "name": "python",
   "nbconvert_exporter": "python",
   "pygments_lexer": "ipython3",
   "version": "3.7.3"
  }
 },
 "nbformat": 4,
 "nbformat_minor": 2
}
