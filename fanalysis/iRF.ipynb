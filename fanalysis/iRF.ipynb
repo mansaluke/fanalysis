{
 "cells": [
  {
   "cell_type": "code",
   "execution_count": 2,
   "metadata": {},
   "outputs": [],
   "source": [
    "%load_ext autoreload\n",
    "%autoreload 2\n",
    "%matplotlib inline"
   ]
  },
  {
   "cell_type": "code",
   "execution_count": 3,
   "metadata": {},
   "outputs": [
    {
     "name": "stdout",
     "output_type": "stream",
     "text": [
      "Ipython active\n"
     ]
    }
   ],
   "source": [
    "import Random_Forest as r\n",
    "from Random_Forest import df_store, train_test_split, RandomForestRegressor, metrics\n",
    "import matplotlib.pyplot as plt\n",
    "import pandas as pd\n",
    "import numpy as np\n",
    "from datetime import datetime\n",
    "import plotting as p"
   ]
  },
  {
   "cell_type": "code",
   "execution_count": null,
   "metadata": {},
   "outputs": [],
   "source": [
    "from datetime import datetime"
   ]
  },
  {
   "cell_type": "code",
   "execution_count": null,
   "metadata": {},
   "outputs": [],
   "source": [
    "round(datetime.now(), 0)"
   ]
  },
  {
   "cell_type": "code",
   "execution_count": null,
   "metadata": {},
   "outputs": [],
   "source": []
  },
  {
   "cell_type": "code",
   "execution_count": null,
   "metadata": {
    "scrolled": true
   },
   "outputs": [],
   "source": [
    "#df = df_store('data.h5').load_df()\n",
    "df = df_store('EURUSD_tick_historicals.h5').load_df()\n",
    "\n",
    "\n",
    "print(df.head())\n",
    "df.columns"
   ]
  },
  {
   "cell_type": "code",
   "execution_count": null,
   "metadata": {},
   "outputs": [],
   "source": [
    "\n",
    "import structure as s\n",
    "from dfconvert import df_store\n",
    "\n",
    "\n",
    "columns = ['EURUSD.bid']\n",
    "\n",
    "df =df.reset_index()\n",
    "\n",
    "for col in columns:\n",
    "    print(col)\n",
    "    try:\n",
    "        a = s.outlier_detect(df, col, graph = True)\n",
    "        print(a.outliers)\n",
    "        df= a.delete_threshold()\n",
    "    except:\n",
    "        pass\n",
    "\n",
    "p.plots(df)\n",
    "\n",
    "#columns added for RF\n",
    "df = s.date_split(df, datename = 'Date', time=True)\n",
    "#df = s.lag_var(df, 'Bar OPEN Bid Quote', -1)\n",
    "\n",
    "#here we store file in HDF5 format.\n",
    "\n",
    "dfc.df_store('EURUSD_tick_historicals.h5').store_df(df)"
   ]
  },
  {
   "cell_type": "code",
   "execution_count": null,
   "metadata": {},
   "outputs": [],
   "source": [
    "round(len(df)*0.25,0) + round(len(df)*0.75,0) == len(df)"
   ]
  },
  {
   "cell_type": "code",
   "execution_count": null,
   "metadata": {},
   "outputs": [],
   "source": [
    "def test_split_df(df, prop = 0.25):\n",
    "    return df[round(len(df) * (1-prop)):], df[:round(len(df) *(1-prop))]\n",
    "df, test = test_split_df(df)"
   ]
  },
  {
   "cell_type": "code",
   "execution_count": null,
   "metadata": {},
   "outputs": [],
   "source": [
    "#df.describe(include='all').T"
   ]
  },
  {
   "cell_type": "code",
   "execution_count": null,
   "metadata": {
    "scrolled": true
   },
   "outputs": [],
   "source": [
    "df = df.sample(n=10000)\n",
    "\n",
    "\n",
    "df = r.drop_col(df, ['aggdays', 'daysinmonth', 'Bar OPEN Bid Quote_lag-1'])\n",
    "df.iloc[:, 5:].head()"
   ]
  },
  {
   "cell_type": "code",
   "execution_count": null,
   "metadata": {},
   "outputs": [],
   "source": [
    "import Random_Forest as r\n"
   ]
  },
  {
   "cell_type": "code",
   "execution_count": null,
   "metadata": {},
   "outputs": [],
   "source": [
    "rf = r.do_rf(df, n_estimators=25, indep_col = 'EURUSD.bid')\n",
    "rf.predict_out(True)\n",
    "rf.return_error_details()\n",
    "rf.print_score()\n",
    "#rf.draw()"
   ]
  },
  {
   "cell_type": "code",
   "execution_count": null,
   "metadata": {},
   "outputs": [],
   "source": [
    "rf.split_shape"
   ]
  },
  {
   "cell_type": "code",
   "execution_count": null,
   "metadata": {},
   "outputs": [],
   "source": [
    "#%time preds = np.stack([tn.predict(train_dependent) for tn in rf.estimators_])\n",
    "preds = rf.tree_preds()\n",
    "#def get_preds(tn): return tn.predict(train_dependent)\n",
    "#preds = np.stack(r.parallel_trees(rf, get_preds, 2))\n",
    "preds[:,0], np.mean(preds[:,0]), np.std(preds[:,0])"
   ]
  },
  {
   "cell_type": "code",
   "execution_count": null,
   "metadata": {},
   "outputs": [],
   "source": [
    "rf.feature_analysis('Year')"
   ]
  },
  {
   "cell_type": "code",
   "execution_count": null,
   "metadata": {
    "scrolled": true
   },
   "outputs": [],
   "source": [
    "import Random_Forest as r\n",
    "rf = r.do_rf(df, n_estimators=5)\n",
    "rf.predict_out(graph = False)\n",
    "importances = rf.importances(graph = False)"
   ]
  },
  {
   "cell_type": "code",
   "execution_count": null,
   "metadata": {},
   "outputs": [],
   "source": [
    "[k for (k,v) in dict(importances).items() if v == 0]"
   ]
  },
  {
   "cell_type": "code",
   "execution_count": null,
   "metadata": {},
   "outputs": [],
   "source": [
    "df = drop_col(df, [k for (k,v) in dict(importances).items() if v == 0])"
   ]
  },
  {
   "cell_type": "code",
   "execution_count": null,
   "metadata": {
    "scrolled": false
   },
   "outputs": [],
   "source": [
    "df.head()"
   ]
  },
  {
   "cell_type": "code",
   "execution_count": null,
   "metadata": {},
   "outputs": [],
   "source": [
    "rf = r.do_rf(df, n_estimators=5)\n",
    "rf.predict_out(True)\n",
    "rf.return_error_details()\n",
    "rf.print_score()"
   ]
  },
  {
   "cell_type": "code",
   "execution_count": null,
   "metadata": {},
   "outputs": [],
   "source": []
  }
 ],
 "metadata": {
  "kernelspec": {
   "display_name": "fan",
   "language": "python",
   "name": "fan"
  }
 },
 "nbformat": 4,
 "nbformat_minor": 2
}
