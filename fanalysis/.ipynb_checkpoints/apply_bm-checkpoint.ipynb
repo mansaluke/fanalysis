{
 "cells": [
  {
   "cell_type": "code",
   "execution_count": 11,
   "metadata": {},
   "outputs": [],
   "source": [
    "from dfconvert import df_store\n",
    "import numpy as np"
   ]
  },
  {
   "cell_type": "code",
   "execution_count": 7,
   "metadata": {},
   "outputs": [
    {
     "name": "stdout",
     "output_type": "stream",
     "text": [
      "Loading pickle: data\\c...\n",
      "dataframe loaded successfully\n"
     ]
    },
    {
     "data": {
      "text/html": [
       "<div>\n",
       "<style scoped>\n",
       "    .dataframe tbody tr th:only-of-type {\n",
       "        vertical-align: middle;\n",
       "    }\n",
       "\n",
       "    .dataframe tbody tr th {\n",
       "        vertical-align: top;\n",
       "    }\n",
       "\n",
       "    .dataframe thead th {\n",
       "        text-align: right;\n",
       "    }\n",
       "</style>\n",
       "<table border=\"1\" class=\"dataframe\">\n",
       "  <thead>\n",
       "    <tr style=\"text-align: right;\">\n",
       "      <th></th>\n",
       "      <th>date</th>\n",
       "      <th>d1</th>\n",
       "      <th>d2</th>\n",
       "      <th>d3</th>\n",
       "      <th>d4</th>\n",
       "      <th>v</th>\n",
       "    </tr>\n",
       "  </thead>\n",
       "  <tbody>\n",
       "    <tr>\n",
       "      <th>0</th>\n",
       "      <td>2016-01-03 17:00:00</td>\n",
       "      <td>0.73739</td>\n",
       "      <td>0.73739</td>\n",
       "      <td>0.73736</td>\n",
       "      <td>0.73736</td>\n",
       "      <td>0.0</td>\n",
       "    </tr>\n",
       "    <tr>\n",
       "      <th>1</th>\n",
       "      <td>2016-01-03 17:01:00</td>\n",
       "      <td>0.73736</td>\n",
       "      <td>0.73736</td>\n",
       "      <td>0.73735</td>\n",
       "      <td>0.73735</td>\n",
       "      <td>0.0</td>\n",
       "    </tr>\n",
       "    <tr>\n",
       "      <th>2</th>\n",
       "      <td>2016-01-03 17:02:00</td>\n",
       "      <td>0.73735</td>\n",
       "      <td>0.73735</td>\n",
       "      <td>0.73735</td>\n",
       "      <td>0.73735</td>\n",
       "      <td>0.0</td>\n",
       "    </tr>\n",
       "    <tr>\n",
       "      <th>3</th>\n",
       "      <td>2016-01-03 17:03:00</td>\n",
       "      <td>0.73744</td>\n",
       "      <td>0.73744</td>\n",
       "      <td>0.73744</td>\n",
       "      <td>0.73744</td>\n",
       "      <td>0.0</td>\n",
       "    </tr>\n",
       "    <tr>\n",
       "      <th>4</th>\n",
       "      <td>2016-01-03 17:04:00</td>\n",
       "      <td>0.73737</td>\n",
       "      <td>0.73737</td>\n",
       "      <td>0.73737</td>\n",
       "      <td>0.73737</td>\n",
       "      <td>0.0</td>\n",
       "    </tr>\n",
       "  </tbody>\n",
       "</table>\n",
       "</div>"
      ],
      "text/plain": [
       "                 date       d1       d2       d3       d4    v\n",
       "0 2016-01-03 17:00:00  0.73739  0.73739  0.73736  0.73736  0.0\n",
       "1 2016-01-03 17:01:00  0.73736  0.73736  0.73735  0.73735  0.0\n",
       "2 2016-01-03 17:02:00  0.73735  0.73735  0.73735  0.73735  0.0\n",
       "3 2016-01-03 17:03:00  0.73744  0.73744  0.73744  0.73744  0.0\n",
       "4 2016-01-03 17:04:00  0.73737  0.73737  0.73737  0.73737  0.0"
      ]
     },
     "execution_count": 7,
     "metadata": {},
     "output_type": "execute_result"
    }
   ],
   "source": [
    "df = df_store('c').load_df()\n",
    "df.head()"
   ]
  },
  {
   "cell_type": "code",
   "execution_count": null,
   "metadata": {},
   "outputs": [],
   "source": [
    "df['d1'].head()"
   ]
  },
  {
   "cell_type": "code",
   "execution_count": null,
   "metadata": {},
   "outputs": [],
   "source": [
    "def datapoint_return(variable):\n",
    "    returns = []\n",
    "    for i in range(0, len(variable)-1):\n",
    "        current = variable[i+1]\n",
    "        previous = variable[i]\n",
    "        datapoint_return = (current - previous)/previous\n",
    "        returns.append(datapoint_return)\n",
    "    return returns\n",
    "\n",
    "returns = datapoint_return(df['d1'])\n",
    "\n",
    "mu = np.mean(returns)*len(df)           # drift coefficient\n",
    "sig = np.std(returns)*np.sqrt(len(df))  # diffusion coefficient\n",
    "\n",
    "print(mu, sig)"
   ]
  },
  {
   "cell_type": "code",
   "execution_count": null,
   "metadata": {},
   "outputs": [],
   "source": []
  }
 ],
 "metadata": {
  "kernelspec": {
   "display_name": "Python 3",
   "language": "python",
   "name": "python3"
  },
  "language_info": {
   "codemirror_mode": {
    "name": "ipython",
    "version": 3
   },
   "file_extension": ".py",
   "mimetype": "text/x-python",
   "name": "python",
   "nbconvert_exporter": "python",
   "pygments_lexer": "ipython3",
   "version": "3.7.3"
  }
 },
 "nbformat": 4,
 "nbformat_minor": 2
}
