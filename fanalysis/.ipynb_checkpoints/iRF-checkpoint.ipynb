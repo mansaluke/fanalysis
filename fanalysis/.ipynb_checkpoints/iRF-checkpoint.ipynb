{
 "cells": [
  {
   "cell_type": "code",
   "execution_count": 1,
   "metadata": {},
   "outputs": [],
   "source": [
    "%load_ext autoreload\n",
    "%autoreload 2\n",
    "%matplotlib inline"
   ]
  },
  {
   "cell_type": "code",
   "execution_count": 2,
   "metadata": {},
   "outputs": [
    {
     "name": "stdout",
     "output_type": "stream",
     "text": [
      "Ipython active\n"
     ]
    }
   ],
   "source": [
    "import Random_Forest as r\n",
    "from Random_Forest import df_store, plots, train_test_split, RandomForestRegressor, metrics\n",
    "import matplotlib.pyplot as plt\n",
    "import pandas as pd\n",
    "import numpy as np\n",
    "from datetime import datetime\n",
    "import plotting as p"
   ]
  },
  {
   "cell_type": "code",
   "execution_count": 3,
   "metadata": {
    "scrolled": true
   },
   "outputs": [
    {
     "name": "stdout",
     "output_type": "stream",
     "text": [
      "Loading h5: data\\data.h5...\n",
      "dataframe loaded successfully\n",
      "                 date  Bar OPEN Bid Quote  Bar HIGH Bid Quote  \\\n",
      "0 2002-03-03 19:04:00              0.6100              0.6100   \n",
      "1 2002-03-03 19:05:00              0.6100              0.6100   \n",
      "2 2002-03-03 19:06:00              0.6099              0.6099   \n",
      "3 2002-03-03 19:07:00              0.6099              0.6100   \n",
      "4 2002-03-03 19:08:00              0.6099              0.6101   \n",
      "\n",
      "   Bar LOW Bid Quote  Bar CLOSE Bid Quote  Volume  Year  Month  Week  Day  \\\n",
      "0             0.6099               0.6100       0  2002      3     9    3   \n",
      "1             0.6099               0.6099       0  2002      3     9    3   \n",
      "2             0.6099               0.6099       0  2002      3     9    3   \n",
      "3             0.6099               0.6100       0  2002      3     9    3   \n",
      "4             0.6099               0.6101       0  2002      3     9    3   \n",
      "\n",
      "   ...  Is_quarter_start  Is_year_end  Is_year_start  not_dupym  daysinmonth  \\\n",
      "0  ...             False        False          False          1            0   \n",
      "1  ...             False        False          False          0            0   \n",
      "2  ...             False        False          False          0            0   \n",
      "3  ...             False        False          False          0            0   \n",
      "4  ...             False        False          False          0            0   \n",
      "\n",
      "   aggdays  Bar OPEN Bid Quote_lag-1  Hour  Minute  Second  \n",
      "0        3                    0.6100    19       4       0  \n",
      "1        3                    0.6099    19       5       0  \n",
      "2        3                    0.6099    19       6       0  \n",
      "3        3                    0.6099    19       7       0  \n",
      "4        3                    0.6099    19       8       0  \n",
      "\n",
      "[5 rows x 25 columns]\n"
     ]
    },
    {
     "data": {
      "text/plain": [
       "Index(['date', 'Bar OPEN Bid Quote', 'Bar HIGH Bid Quote', 'Bar LOW Bid Quote',\n",
       "       'Bar CLOSE Bid Quote', 'Volume', 'Year', 'Month', 'Week', 'Day',\n",
       "       'Dayofweek', 'Dayofyear', 'Is_month_end', 'Is_month_start',\n",
       "       'Is_quarter_end', 'Is_quarter_start', 'Is_year_end', 'Is_year_start',\n",
       "       'not_dupym', 'daysinmonth', 'aggdays', 'Bar OPEN Bid Quote_lag-1',\n",
       "       'Hour', 'Minute', 'Second'],\n",
       "      dtype='object')"
      ]
     },
     "execution_count": 3,
     "metadata": {},
     "output_type": "execute_result"
    }
   ],
   "source": [
    "df = df_store('data.h5').load_df()\n",
    "print(df.head())\n",
    "df.columns"
   ]
  },
  {
   "cell_type": "code",
   "execution_count": 30,
   "metadata": {},
   "outputs": [
    {
     "data": {
      "text/plain": [
       "['date',\n",
       " 'Bar OPEN Bid Quote',\n",
       " 'Bar HIGH Bid Quote',\n",
       " 'Bar LOW Bid Quote',\n",
       " 'Bar CLOSE Bid Quote',\n",
       " 'Volume',\n",
       " 'Year',\n",
       " 'Month',\n",
       " 'Week',\n",
       " 'Day',\n",
       " 'Dayofweek',\n",
       " 'Dayofyear',\n",
       " 'Is_month_end',\n",
       " 'Is_month_start',\n",
       " 'Is_quarter_end',\n",
       " 'Is_quarter_start',\n",
       " 'Is_year_end',\n",
       " 'Is_year_start',\n",
       " 'not_dupym',\n",
       " 'Hour',\n",
       " 'Minute',\n",
       " 'Second',\n",
       " 'mean']"
      ]
     },
     "execution_count": 30,
     "metadata": {},
     "output_type": "execute_result"
    }
   ],
   "source": [
    "list(df.columns)"
   ]
  },
  {
   "cell_type": "code",
   "execution_count": 4,
   "metadata": {},
   "outputs": [],
   "source": [
    "#df.describe(include='all').T"
   ]
  },
  {
   "cell_type": "code",
   "execution_count": 14,
   "metadata": {},
   "outputs": [
    {
     "data": {
      "text/html": [
       "<div>\n",
       "<style scoped>\n",
       "    .dataframe tbody tr th:only-of-type {\n",
       "        vertical-align: middle;\n",
       "    }\n",
       "\n",
       "    .dataframe tbody tr th {\n",
       "        vertical-align: top;\n",
       "    }\n",
       "\n",
       "    .dataframe thead th {\n",
       "        text-align: right;\n",
       "    }\n",
       "</style>\n",
       "<table border=\"1\" class=\"dataframe\">\n",
       "  <thead>\n",
       "    <tr style=\"text-align: right;\">\n",
       "      <th></th>\n",
       "      <th>Volume</th>\n",
       "      <th>Year</th>\n",
       "      <th>Month</th>\n",
       "      <th>Week</th>\n",
       "      <th>Day</th>\n",
       "      <th>Dayofweek</th>\n",
       "      <th>Dayofyear</th>\n",
       "      <th>Is_month_end</th>\n",
       "      <th>Is_month_start</th>\n",
       "      <th>Is_quarter_end</th>\n",
       "      <th>Is_quarter_start</th>\n",
       "      <th>Is_year_end</th>\n",
       "      <th>Is_year_start</th>\n",
       "      <th>not_dupym</th>\n",
       "      <th>Hour</th>\n",
       "      <th>Minute</th>\n",
       "      <th>Second</th>\n",
       "      <th>mean</th>\n",
       "    </tr>\n",
       "  </thead>\n",
       "  <tbody>\n",
       "    <tr>\n",
       "      <th>5189543</th>\n",
       "      <td>0</td>\n",
       "      <td>2018</td>\n",
       "      <td>4</td>\n",
       "      <td>16</td>\n",
       "      <td>18</td>\n",
       "      <td>2</td>\n",
       "      <td>108</td>\n",
       "      <td>False</td>\n",
       "      <td>False</td>\n",
       "      <td>False</td>\n",
       "      <td>False</td>\n",
       "      <td>False</td>\n",
       "      <td>False</td>\n",
       "      <td>0</td>\n",
       "      <td>10</td>\n",
       "      <td>46</td>\n",
       "      <td>0</td>\n",
       "      <td>0.793968</td>\n",
       "    </tr>\n",
       "    <tr>\n",
       "      <th>1898070</th>\n",
       "      <td>0</td>\n",
       "      <td>2009</td>\n",
       "      <td>3</td>\n",
       "      <td>10</td>\n",
       "      <td>4</td>\n",
       "      <td>2</td>\n",
       "      <td>63</td>\n",
       "      <td>False</td>\n",
       "      <td>False</td>\n",
       "      <td>False</td>\n",
       "      <td>False</td>\n",
       "      <td>False</td>\n",
       "      <td>False</td>\n",
       "      <td>0</td>\n",
       "      <td>3</td>\n",
       "      <td>50</td>\n",
       "      <td>0</td>\n",
       "      <td>0.793968</td>\n",
       "    </tr>\n",
       "    <tr>\n",
       "      <th>5183477</th>\n",
       "      <td>0</td>\n",
       "      <td>2018</td>\n",
       "      <td>4</td>\n",
       "      <td>15</td>\n",
       "      <td>12</td>\n",
       "      <td>3</td>\n",
       "      <td>102</td>\n",
       "      <td>False</td>\n",
       "      <td>False</td>\n",
       "      <td>False</td>\n",
       "      <td>False</td>\n",
       "      <td>False</td>\n",
       "      <td>False</td>\n",
       "      <td>0</td>\n",
       "      <td>3</td>\n",
       "      <td>6</td>\n",
       "      <td>0</td>\n",
       "      <td>0.793968</td>\n",
       "    </tr>\n",
       "    <tr>\n",
       "      <th>1274826</th>\n",
       "      <td>0</td>\n",
       "      <td>2006</td>\n",
       "      <td>11</td>\n",
       "      <td>45</td>\n",
       "      <td>7</td>\n",
       "      <td>1</td>\n",
       "      <td>311</td>\n",
       "      <td>False</td>\n",
       "      <td>False</td>\n",
       "      <td>False</td>\n",
       "      <td>False</td>\n",
       "      <td>False</td>\n",
       "      <td>False</td>\n",
       "      <td>0</td>\n",
       "      <td>0</td>\n",
       "      <td>56</td>\n",
       "      <td>0</td>\n",
       "      <td>0.793968</td>\n",
       "    </tr>\n",
       "    <tr>\n",
       "      <th>1705604</th>\n",
       "      <td>0</td>\n",
       "      <td>2008</td>\n",
       "      <td>8</td>\n",
       "      <td>33</td>\n",
       "      <td>14</td>\n",
       "      <td>3</td>\n",
       "      <td>227</td>\n",
       "      <td>False</td>\n",
       "      <td>False</td>\n",
       "      <td>False</td>\n",
       "      <td>False</td>\n",
       "      <td>False</td>\n",
       "      <td>False</td>\n",
       "      <td>0</td>\n",
       "      <td>1</td>\n",
       "      <td>4</td>\n",
       "      <td>0</td>\n",
       "      <td>0.793968</td>\n",
       "    </tr>\n",
       "  </tbody>\n",
       "</table>\n",
       "</div>"
      ],
      "text/plain": [
       "         Volume  Year  Month  Week  Day  Dayofweek  Dayofyear  Is_month_end  \\\n",
       "5189543       0  2018      4    16   18          2        108         False   \n",
       "1898070       0  2009      3    10    4          2         63         False   \n",
       "5183477       0  2018      4    15   12          3        102         False   \n",
       "1274826       0  2006     11    45    7          1        311         False   \n",
       "1705604       0  2008      8    33   14          3        227         False   \n",
       "\n",
       "         Is_month_start  Is_quarter_end  Is_quarter_start  Is_year_end  \\\n",
       "5189543           False           False             False        False   \n",
       "1898070           False           False             False        False   \n",
       "5183477           False           False             False        False   \n",
       "1274826           False           False             False        False   \n",
       "1705604           False           False             False        False   \n",
       "\n",
       "         Is_year_start  not_dupym  Hour  Minute  Second      mean  \n",
       "5189543          False          0    10      46       0  0.793968  \n",
       "1898070          False          0     3      50       0  0.793968  \n",
       "5183477          False          0     3       6       0  0.793968  \n",
       "1274826          False          0     0      56       0  0.793968  \n",
       "1705604          False          0     1       4       0  0.793968  "
      ]
     },
     "execution_count": 14,
     "metadata": {},
     "output_type": "execute_result"
    }
   ],
   "source": [
    "df = df.sample(n=10000)\n",
    "def drop_col(df, col_names):\n",
    "    for col in col_names:\n",
    "        if col in df.columns:\n",
    "            df = df.drop(col, axis = 1)\n",
    "    return df\n",
    "\n",
    "#labels = np.array(features['Bar OPEN Bid Quote'])\n",
    "df = drop_col(df, ['aggdays', 'daysinmonth', 'Bar OPEN Bid Quote_lag-1'])\n",
    "df.iloc[:, 5:].head()"
   ]
  },
  {
   "cell_type": "code",
   "execution_count": 5,
   "metadata": {},
   "outputs": [],
   "source": [
    "r.set_rf_samples(20000)"
   ]
  },
  {
   "cell_type": "code",
   "execution_count": 15,
   "metadata": {},
   "outputs": [
    {
     "data": {
      "text/html": [
       "<div>\n",
       "<style scoped>\n",
       "    .dataframe tbody tr th:only-of-type {\n",
       "        vertical-align: middle;\n",
       "    }\n",
       "\n",
       "    .dataframe tbody tr th {\n",
       "        vertical-align: top;\n",
       "    }\n",
       "\n",
       "    .dataframe thead th {\n",
       "        text-align: right;\n",
       "    }\n",
       "</style>\n",
       "<table border=\"1\" class=\"dataframe\">\n",
       "  <thead>\n",
       "    <tr style=\"text-align: right;\">\n",
       "      <th></th>\n",
       "      <th>date</th>\n",
       "      <th>Bar OPEN Bid Quote</th>\n",
       "      <th>Bar HIGH Bid Quote</th>\n",
       "      <th>Bar LOW Bid Quote</th>\n",
       "      <th>Bar CLOSE Bid Quote</th>\n",
       "      <th>Volume</th>\n",
       "      <th>Year</th>\n",
       "      <th>Month</th>\n",
       "      <th>Week</th>\n",
       "      <th>Day</th>\n",
       "      <th>...</th>\n",
       "      <th>Is_month_start</th>\n",
       "      <th>Is_quarter_end</th>\n",
       "      <th>Is_quarter_start</th>\n",
       "      <th>Is_year_end</th>\n",
       "      <th>Is_year_start</th>\n",
       "      <th>not_dupym</th>\n",
       "      <th>Hour</th>\n",
       "      <th>Minute</th>\n",
       "      <th>Second</th>\n",
       "      <th>mean</th>\n",
       "    </tr>\n",
       "  </thead>\n",
       "  <tbody>\n",
       "    <tr>\n",
       "      <th>5189543</th>\n",
       "      <td>2018-04-18 10:46:00</td>\n",
       "      <td>0.87020</td>\n",
       "      <td>0.87020</td>\n",
       "      <td>0.86998</td>\n",
       "      <td>0.87002</td>\n",
       "      <td>0</td>\n",
       "      <td>2018</td>\n",
       "      <td>4</td>\n",
       "      <td>16</td>\n",
       "      <td>18</td>\n",
       "      <td>...</td>\n",
       "      <td>False</td>\n",
       "      <td>False</td>\n",
       "      <td>False</td>\n",
       "      <td>False</td>\n",
       "      <td>False</td>\n",
       "      <td>0</td>\n",
       "      <td>10</td>\n",
       "      <td>46</td>\n",
       "      <td>0</td>\n",
       "      <td>0.793968</td>\n",
       "    </tr>\n",
       "    <tr>\n",
       "      <th>1898070</th>\n",
       "      <td>2009-03-04 03:50:00</td>\n",
       "      <td>0.89010</td>\n",
       "      <td>0.89020</td>\n",
       "      <td>0.89000</td>\n",
       "      <td>0.89020</td>\n",
       "      <td>0</td>\n",
       "      <td>2009</td>\n",
       "      <td>3</td>\n",
       "      <td>10</td>\n",
       "      <td>4</td>\n",
       "      <td>...</td>\n",
       "      <td>False</td>\n",
       "      <td>False</td>\n",
       "      <td>False</td>\n",
       "      <td>False</td>\n",
       "      <td>False</td>\n",
       "      <td>0</td>\n",
       "      <td>3</td>\n",
       "      <td>50</td>\n",
       "      <td>0</td>\n",
       "      <td>0.793968</td>\n",
       "    </tr>\n",
       "    <tr>\n",
       "      <th>5183477</th>\n",
       "      <td>2018-04-12 03:06:00</td>\n",
       "      <td>0.87166</td>\n",
       "      <td>0.87177</td>\n",
       "      <td>0.87161</td>\n",
       "      <td>0.87176</td>\n",
       "      <td>0</td>\n",
       "      <td>2018</td>\n",
       "      <td>4</td>\n",
       "      <td>15</td>\n",
       "      <td>12</td>\n",
       "      <td>...</td>\n",
       "      <td>False</td>\n",
       "      <td>False</td>\n",
       "      <td>False</td>\n",
       "      <td>False</td>\n",
       "      <td>False</td>\n",
       "      <td>0</td>\n",
       "      <td>3</td>\n",
       "      <td>6</td>\n",
       "      <td>0</td>\n",
       "      <td>0.793968</td>\n",
       "    </tr>\n",
       "    <tr>\n",
       "      <th>1274826</th>\n",
       "      <td>2006-11-07 00:56:00</td>\n",
       "      <td>0.67040</td>\n",
       "      <td>0.67050</td>\n",
       "      <td>0.67040</td>\n",
       "      <td>0.67040</td>\n",
       "      <td>0</td>\n",
       "      <td>2006</td>\n",
       "      <td>11</td>\n",
       "      <td>45</td>\n",
       "      <td>7</td>\n",
       "      <td>...</td>\n",
       "      <td>False</td>\n",
       "      <td>False</td>\n",
       "      <td>False</td>\n",
       "      <td>False</td>\n",
       "      <td>False</td>\n",
       "      <td>0</td>\n",
       "      <td>0</td>\n",
       "      <td>56</td>\n",
       "      <td>0</td>\n",
       "      <td>0.793968</td>\n",
       "    </tr>\n",
       "    <tr>\n",
       "      <th>1705604</th>\n",
       "      <td>2008-08-14 01:04:00</td>\n",
       "      <td>0.79690</td>\n",
       "      <td>0.79710</td>\n",
       "      <td>0.79690</td>\n",
       "      <td>0.79710</td>\n",
       "      <td>0</td>\n",
       "      <td>2008</td>\n",
       "      <td>8</td>\n",
       "      <td>33</td>\n",
       "      <td>14</td>\n",
       "      <td>...</td>\n",
       "      <td>False</td>\n",
       "      <td>False</td>\n",
       "      <td>False</td>\n",
       "      <td>False</td>\n",
       "      <td>False</td>\n",
       "      <td>0</td>\n",
       "      <td>1</td>\n",
       "      <td>4</td>\n",
       "      <td>0</td>\n",
       "      <td>0.793968</td>\n",
       "    </tr>\n",
       "  </tbody>\n",
       "</table>\n",
       "<p>5 rows × 23 columns</p>\n",
       "</div>"
      ],
      "text/plain": [
       "                       date  Bar OPEN Bid Quote  Bar HIGH Bid Quote  \\\n",
       "5189543 2018-04-18 10:46:00             0.87020             0.87020   \n",
       "1898070 2009-03-04 03:50:00             0.89010             0.89020   \n",
       "5183477 2018-04-12 03:06:00             0.87166             0.87177   \n",
       "1274826 2006-11-07 00:56:00             0.67040             0.67050   \n",
       "1705604 2008-08-14 01:04:00             0.79690             0.79710   \n",
       "\n",
       "         Bar LOW Bid Quote  Bar CLOSE Bid Quote  Volume  Year  Month  Week  \\\n",
       "5189543            0.86998              0.87002       0  2018      4    16   \n",
       "1898070            0.89000              0.89020       0  2009      3    10   \n",
       "5183477            0.87161              0.87176       0  2018      4    15   \n",
       "1274826            0.67040              0.67040       0  2006     11    45   \n",
       "1705604            0.79690              0.79710       0  2008      8    33   \n",
       "\n",
       "         Day  ...  Is_month_start  Is_quarter_end  Is_quarter_start  \\\n",
       "5189543   18  ...           False           False             False   \n",
       "1898070    4  ...           False           False             False   \n",
       "5183477   12  ...           False           False             False   \n",
       "1274826    7  ...           False           False             False   \n",
       "1705604   14  ...           False           False             False   \n",
       "\n",
       "         Is_year_end  Is_year_start  not_dupym  Hour  Minute  Second      mean  \n",
       "5189543        False          False          0    10      46       0  0.793968  \n",
       "1898070        False          False          0     3      50       0  0.793968  \n",
       "5183477        False          False          0     3       6       0  0.793968  \n",
       "1274826        False          False          0     0      56       0  0.793968  \n",
       "1705604        False          False          0     1       4       0  0.793968  \n",
       "\n",
       "[5 rows x 23 columns]"
      ]
     },
     "execution_count": 15,
     "metadata": {},
     "output_type": "execute_result"
    }
   ],
   "source": [
    "df.head()"
   ]
  },
  {
   "cell_type": "code",
   "execution_count": null,
   "metadata": {},
   "outputs": [],
   "source": [
    "import Random_Forest as r\n",
    "rf = r.do_rf(df, n_estimators=5)\n",
    "rf.predict_out(True)\n",
    "rf.return_error_details()\n",
    "rf.print_score()\n",
    "#rf.draw()"
   ]
  },
  {
   "cell_type": "code",
   "execution_count": 44,
   "metadata": {},
   "outputs": [
    {
     "name": "stdout",
     "output_type": "stream",
     "text": [
      "[0.0, 0.9443740466264758, 0.01181263467147254, 0.0129955977398792, 0.003218346557766022, 0.0009539483154575809, 0.01747222643285751, 6.469092562547842e-05, 4.5335991523045924e-05, 3.836686367684443e-05, 1.7056897635413875e-06, 4.237062580786349e-06, 0.0, 0.0, 0.0038947526043147163, 0.005124110518606946, 0.0, 0.0]\n",
      "variable: Year                 importance : 0.9443740466264758\n",
      "variable: Dayofyear            importance : 0.01747222643285751\n",
      "variable: Week                 importance : 0.0129955977398792\n",
      "variable: Month                importance : 0.01181263467147254\n",
      "variable: Minute               importance : 0.005124110518606946\n",
      "variable: Hour                 importance : 0.0038947526043147163\n",
      "variable: Day                  importance : 0.003218346557766022\n",
      "variable: Dayofweek            importance : 0.0009539483154575809\n",
      "variable: Is_month_end         importance : 6.469092562547842e-05\n",
      "variable: Is_month_start       importance : 4.5335991523045924e-05\n",
      "variable: Is_quarter_end       importance : 3.836686367684443e-05\n",
      "variable: Is_year_end          importance : 4.237062580786349e-06\n",
      "variable: Is_quarter_start     importance : 1.7056897635413875e-06\n"
     ]
    },
    {
     "data": {
      "image/png": "[encoded data removed]",
      "text/plain": [
       "<Figure size 432x288 with 1 Axes>"
      ]
     },
     "metadata": {},
     "output_type": "display_data"
    }
   ],
   "source": [
    "rf.importances()"
   ]
  },
  {
   "cell_type": "code",
   "execution_count": 28,
   "metadata": {},
   "outputs": [
    {
     "data": {
      "text/plain": [
       "(array([0.69539231, 0.70032   , 0.70562727, 0.69763846, 0.702375  ]),\n",
       " 0.7002706083916084,\n",
       " 0.003573535256486354)"
      ]
     },
     "execution_count": 28,
     "metadata": {},
     "output_type": "execute_result"
    },
    {
     "data": {
      "image/png": "[encoded data removed]",
      "text/plain": [
       "<Figure size 432x288 with 1 Axes>"
      ]
     },
     "metadata": {
      "needs_background": "light"
     },
     "output_type": "display_data"
    }
   ],
   "source": [
    "#%time preds = np.stack([tn.predict(train_dependent) for tn in rf.estimators_])\n",
    "preds = rf.tree_preds()\n",
    "#def get_preds(tn): return tn.predict(train_dependent)\n",
    "#preds = np.stack(r.parallel_trees(rf, get_preds, 2))\n",
    "preds[:,0], np.mean(preds[:,0]), np.std(preds[:,0])"
   ]
  },
  {
   "cell_type": "code",
   "execution_count": 29,
   "metadata": {},
   "outputs": [
    {
     "name": "stdout",
     "output_type": "stream",
     "text": [
      "   Dayofweek  Bar OPEN Bid Quote  prediction  prediction_std\n",
      "0          0            0.793936    0.793527               1\n",
      "1          1            0.792744    0.793527               1\n",
      "2          2            0.791958    0.793527               1\n",
      "3          3            0.796262    0.793527               1\n",
      "4          4            0.791556    0.793527               1\n",
      "5          5            0.690100    0.793527               1\n",
      "6          6            0.792260    0.793527               1\n"
     ]
    },
    {
     "data": {
      "image/png": "[encoded data removed]",
      "text/plain": [
       "<Figure size 432x288 with 1 Axes>"
      ]
     },
     "metadata": {
      "needs_background": "light"
     },
     "output_type": "display_data"
    }
   ],
   "source": [
    "rf.feature_analysis('Dayofweek')"
   ]
  },
  {
   "cell_type": "code",
   "execution_count": null,
   "metadata": {},
   "outputs": [],
   "source": [
    "import plotting as p"
   ]
  },
  {
   "cell_type": "code",
   "execution_count": null,
   "metadata": {},
   "outputs": [],
   "source": [
    "#we choose aggdays and Dayofyear as the most important features\n",
    "important_indices = [feature_list.index('Year')] #, feature_list.index('Dayofyear')]\n",
    "\n",
    "train_important=train_dependent[:,important_indices]\n",
    "test_important=test_dependent[:,important_indices]\n",
    "\n",
    "rf.fit(train_important, train_independent)\n",
    "\n",
    "predictions= rf.predict(test_important)\n",
    "\n",
    "errors = abs(predictions-test_independent)\n",
    "print(errors)"
   ]
  },
  {
   "cell_type": "code",
   "execution_count": null,
   "metadata": {
    "scrolled": false
   },
   "outputs": [],
   "source": [
    "years = test_dependent[:, feature_list.index('Year')]\n",
    "months = test_dependent[:, feature_list.index('Month')]\n",
    "days = test_dependent[:, feature_list.index('Day')]\n",
    "hours = test_dependent[:, feature_list.index('Hour')]\n",
    "minutes = test_dependent[:, feature_list.index('Minute')]\n",
    "seconds = test_dependent[:, feature_list.index('Second')]\n",
    "print(\"YEARS: \" , years)\n",
    "print(\"MONTHS: \" , months)\n",
    "print(\"DAYS: \" , days)\n",
    "print(\"DAYS: \" , hours)\n",
    "print(\"DAYS: \" , minutes)\n",
    "print(\"DAYS: \" , seconds)"
   ]
  },
  {
   "cell_type": "code",
   "execution_count": null,
   "metadata": {},
   "outputs": [],
   "source": [
    "test_dates = [str(int(year)) + '-' + str(int(month))+'-' + str(int(day)) for year, month, day in zip(years, months, days)]\n",
    "#test_dates = \\\n",
    "#    [str(int(year)) + '-' + str(int(month))+'-' + str(int(day)) + \\\n",
    "#     ' ' + str(int(hour)) + ':' + str(int(minute))+':' + str(int(second)) \\\n",
    "#     for year, month, day, hour, minute, second in zip(years, months, days, hours, minutes, seconds)]\n",
    "\n",
    "\n",
    "test_dates = [datetime.strptime(date, '%Y-%m-%d') for date in test_dates]\n",
    "#test_dates = [datetime.strptime(date, '%Y-%m-%d %H:%M:%S') for date in test_dates]\n",
    "prediction_data = pd.DataFrame(data = {'date': test_dates, 'prediction': predictions})\n"
   ]
  },
  {
   "cell_type": "code",
   "execution_count": null,
   "metadata": {
    "scrolled": true
   },
   "outputs": [],
   "source": [
    "prediction_data.head()"
   ]
  },
  {
   "cell_type": "code",
   "execution_count": null,
   "metadata": {},
   "outputs": [],
   "source": [
    "\n",
    "import matplotlib.dates as mdates\n",
    "fig, ax = plt.subplots()\n",
    "ax.plot(df['date'], df['Bar OPEN Bid Quote'], 'b.', label = 'actual')\n",
    "ax.plot(prediction_data['date'], prediction_data['prediction'], '.', label = 'prediction')\n",
    "# rotate and align the tick labels so they look better\n",
    "fig.autofmt_xdate()\n",
    "# use a more precise date string for the x axis locations in the\n",
    "# toolbar\n",
    "ax.fmt_xdata = mdates.DateFormatter('%Y-%m-%d')\n",
    "ax.set_title('Actual and Predicted Values'); plt.xlabel('Date'); plt.ylabel('rate');\n",
    "plt.show()"
   ]
  },
  {
   "cell_type": "code",
   "execution_count": null,
   "metadata": {},
   "outputs": [],
   "source": [
    "rf = RandomForestRegressor(n_estimators=n_e, min_samples_leaf=3, max_features=0.5, n_jobs=-1, oob_score=True)\n"
   ]
  },
  {
   "cell_type": "code",
   "execution_count": null,
   "metadata": {},
   "outputs": [],
   "source": []
  }
 ],
 "metadata": {
  "kernelspec": {
   "display_name": "fan",
   "language": "python",
   "name": "fan"
  },
  "language_info": {
   "codemirror_mode": {
    "name": "ipython",
    "version": 3
   },
   "file_extension": ".py",
   "mimetype": "text/x-python",
   "name": "python",
   "nbconvert_exporter": "python",
   "pygments_lexer": "ipython3",
   "version": "3.7.3"
  }
 },
 "nbformat": 4,
 "nbformat_minor": 2
}
