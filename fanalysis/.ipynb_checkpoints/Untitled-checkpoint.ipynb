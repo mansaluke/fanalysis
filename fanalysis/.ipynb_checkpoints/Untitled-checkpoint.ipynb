{
 "cells": [
  {
   "cell_type": "code",
   "execution_count": null,
   "metadata": {},
   "outputs": [],
   "source": [
    "%load_ext autoreload\n",
    "%autoreload 2\n",
    "%matplotlib inline"
   ]
  },
  {
   "cell_type": "code",
   "execution_count": 1,
   "metadata": {},
   "outputs": [],
   "source": [
    "import matplotlib.pyplot as plt\n"
   ]
  },
  {
   "cell_type": "code",
   "execution_count": 2,
   "metadata": {},
   "outputs": [],
   "source": [
    "%matplotlib inline"
   ]
  },
  {
   "cell_type": "code",
   "execution_count": 3,
   "metadata": {},
   "outputs": [
    {
     "data": {
      "image/png": "[encoded data removed]",
      "text/plain": [
       "<Figure size 384x360 with 1 Axes>"
      ]
     },
     "metadata": {
      "needs_background": "light"
     },
     "output_type": "display_data"
    }
   ],
   "source": [
    "import matplotlib.patches as mpatches\n",
    "import matplotlib.pyplot as plt\n",
    "\n",
    "styles = mpatches.ArrowStyle.get_styles()\n",
    "\n",
    "ncol = 2\n",
    "nrow = (len(styles) + 1) // ncol\n",
    "figheight = (nrow + 0.5)\n",
    "fig = plt.figure(figsize=(4 * ncol / 1.5, figheight / 1.5))\n",
    "fontsize = 0.2 * 70\n",
    "\n",
    "\n",
    "ax = fig.add_axes([0, 0, 1, 1], frameon=False, aspect=1.)\n",
    "\n",
    "ax.set_xlim(0, 4 * ncol)\n",
    "ax.set_ylim(0, figheight)\n",
    "\n",
    "\n",
    "def to_texstring(s):\n",
    "    s = s.replace(\"<\", r\"$<$\")\n",
    "    s = s.replace(\">\", r\"$>$\")\n",
    "    s = s.replace(\"|\", r\"$|$\")\n",
    "    return s\n",
    "\n",
    "\n",
    "for i, (stylename, styleclass) in enumerate(sorted(styles.items())):\n",
    "    x = 3.2 + (i // nrow) * 4\n",
    "    y = (figheight - 0.7 - i % nrow)  # /figheight\n",
    "    p = mpatches.Circle((x, y), 0.2)\n",
    "    ax.add_patch(p)\n",
    "\n",
    "    ax.annotate(to_texstring(stylename), (x, y),\n",
    "                (x - 1.2, y),\n",
    "                ha=\"right\", va=\"center\",\n",
    "                size=fontsize,\n",
    "                arrowprops=dict(arrowstyle=stylename,\n",
    "                                patchB=p,\n",
    "                                shrinkA=5,\n",
    "                                shrinkB=5,\n",
    "                                fc=\"k\", ec=\"k\",\n",
    "                                connectionstyle=\"arc3,rad=-0.05\",\n",
    "                                ),\n",
    "                bbox=dict(boxstyle=\"square\", fc=\"w\"))\n",
    "\n",
    "ax.xaxis.set_visible(False)\n",
    "ax.yaxis.set_visible(False)\n",
    "\n",
    "plt.show()"
   ]
  },
  {
   "cell_type": "code",
   "execution_count": 4,
   "metadata": {},
   "outputs": [
    {
     "data": {
      "image/png": "[encoded data removed]",
      "text/plain": [
       "<Figure size 432x288 with 1 Axes>"
      ]
     },
     "metadata": {
      "needs_background": "light"
     },
     "output_type": "display_data"
    }
   ],
   "source": [
    "from matplotlib import pyplot as plt\n",
    "from matplotlib.patches import Rectangle, Ellipse\n",
    "from matplotlib.offsetbox import (\n",
    "    AnchoredOffsetbox, AuxTransformBox, DrawingArea, TextArea, VPacker)\n",
    "\n",
    "\n",
    "class AnchoredText(AnchoredOffsetbox):\n",
    "    def __init__(self, s, loc, pad=0.4, borderpad=0.5,\n",
    "                 prop=None, frameon=True):\n",
    "        self.txt = TextArea(s, minimumdescent=False)\n",
    "        super().__init__(loc, pad=pad, borderpad=borderpad,\n",
    "                         child=self.txt, prop=prop, frameon=frameon)\n",
    "\n",
    "\n",
    "def draw_text(ax):\n",
    "    \"\"\"\n",
    "    Draw a text-box anchored to the upper-left corner of the figure.\n",
    "    \"\"\"\n",
    "    at = AnchoredText(\"Figure 1a\", loc='upper left', frameon=True)\n",
    "    at.patch.set_boxstyle(\"round,pad=0.,rounding_size=0.2\")\n",
    "    ax.add_artist(at)\n",
    "\n",
    "\n",
    "class AnchoredDrawingArea(AnchoredOffsetbox):\n",
    "    def __init__(self, width, height, xdescent, ydescent,\n",
    "                 loc, pad=0.4, borderpad=0.5, prop=None, frameon=True):\n",
    "        self.da = DrawingArea(width, height, xdescent, ydescent)\n",
    "        super().__init__(loc, pad=pad, borderpad=borderpad,\n",
    "                         child=self.da, prop=None, frameon=frameon)\n",
    "\n",
    "\n",
    "def draw_circle(ax):\n",
    "    \"\"\"\n",
    "    Draw a circle in axis coordinates\n",
    "    \"\"\"\n",
    "    from matplotlib.patches import Circle\n",
    "    ada = AnchoredDrawingArea(20, 20, 0, 0,\n",
    "                              loc='upper right', pad=0., frameon=False)\n",
    "    p = Circle((10, 10), 10)\n",
    "    ada.da.add_artist(p)\n",
    "    ax.add_artist(ada)\n",
    "\n",
    "\n",
    "class AnchoredEllipse(AnchoredOffsetbox):\n",
    "    def __init__(self, transform, width, height, angle, loc,\n",
    "                 pad=0.1, borderpad=0.1, prop=None, frameon=True):\n",
    "        \"\"\"\n",
    "        Draw an ellipse the size in data coordinate of the give axes.\n",
    "\n",
    "        pad, borderpad in fraction of the legend font size (or prop)\n",
    "        \"\"\"\n",
    "        self._box = AuxTransformBox(transform)\n",
    "        self.ellipse = Ellipse((0, 0), width, height, angle)\n",
    "        self._box.add_artist(self.ellipse)\n",
    "        super().__init__(loc, pad=pad, borderpad=borderpad,\n",
    "                         child=self._box, prop=prop, frameon=frameon)\n",
    "\n",
    "\n",
    "def draw_ellipse(ax):\n",
    "    \"\"\"\n",
    "    Draw an ellipse of width=0.1, height=0.15 in data coordinates\n",
    "    \"\"\"\n",
    "    ae = AnchoredEllipse(ax.transData, width=0.1, height=0.15, angle=0.,\n",
    "                         loc='lower left', pad=0.5, borderpad=0.4,\n",
    "                         frameon=True)\n",
    "\n",
    "    ax.add_artist(ae)\n",
    "\n",
    "\n",
    "class AnchoredSizeBar(AnchoredOffsetbox):\n",
    "    def __init__(self, transform, size, label, loc,\n",
    "                 pad=0.1, borderpad=0.1, sep=2, prop=None, frameon=True):\n",
    "        \"\"\"\n",
    "        Draw a horizontal bar with the size in data coordinate of the given\n",
    "        axes. A label will be drawn underneath (center-aligned).\n",
    "\n",
    "        pad, borderpad in fraction of the legend font size (or prop)\n",
    "        sep in points.\n",
    "        \"\"\"\n",
    "        self.size_bar = AuxTransformBox(transform)\n",
    "        self.size_bar.add_artist(Rectangle((0, 0), size, 0, ec=\"black\", lw=1.0))\n",
    "\n",
    "        self.txt_label = TextArea(label, minimumdescent=False)\n",
    "\n",
    "        self._box = VPacker(children=[self.size_bar, self.txt_label],\n",
    "                            align=\"center\",\n",
    "                            pad=0, sep=sep)\n",
    "\n",
    "        super().__init__(loc, pad=pad, borderpad=borderpad,\n",
    "                         child=self._box, prop=prop, frameon=frameon)\n",
    "\n",
    "\n",
    "def draw_sizebar(ax):\n",
    "    \"\"\"\n",
    "    Draw a horizontal bar with length of 0.1 in data coordinates,\n",
    "    with a fixed label underneath.\n",
    "    \"\"\"\n",
    "    asb = AnchoredSizeBar(ax.transData,\n",
    "                          0.1,\n",
    "                          r\"1$^{\\prime}$\",\n",
    "                          loc='lower center',\n",
    "                          pad=0.1, borderpad=0.5, sep=5,\n",
    "                          frameon=False)\n",
    "    ax.add_artist(asb)\n",
    "\n",
    "\n",
    "ax = plt.gca()\n",
    "ax.set_aspect(1.)\n",
    "\n",
    "draw_text(ax)\n",
    "draw_circle(ax)\n",
    "draw_ellipse(ax)\n",
    "draw_sizebar(ax)\n",
    "\n",
    "plt.show()"
   ]
  },
  {
   "cell_type": "code",
   "execution_count": null,
   "metadata": {},
   "outputs": [],
   "source": []
  }
 ],
 "metadata": {
  "kernelspec": {
   "display_name": "Python 3",
   "language": "python",
   "name": "python3"
  },
  "language_info": {
   "codemirror_mode": {
    "name": "ipython",
    "version": 3
   },
   "file_extension": ".py",
   "mimetype": "text/x-python",
   "name": "python",
   "nbconvert_exporter": "python",
   "pygments_lexer": "ipython3",
   "version": "3.7.3"
  }
 },
 "nbformat": 4,
 "nbformat_minor": 2
}
