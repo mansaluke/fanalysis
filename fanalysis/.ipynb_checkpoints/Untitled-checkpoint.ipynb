{
 "cells": [
  {
   "cell_type": "code",
   "execution_count": 1,
   "metadata": {},
   "outputs": [
    {
     "name": "stdout",
     "output_type": "stream",
     "text": [
      "                 date       d1       d2       d3       d4    v\n",
      "0 2018-01-01 17:01:00  0.88831  0.88831  0.88773  0.88773  0.0\n",
      "1 2018-01-01 17:02:00  0.88800  0.88800  0.88800  0.88800  0.0\n",
      "2 2018-01-01 17:03:00  0.88806  0.88806  0.88806  0.88806  0.0\n",
      "3 2018-01-01 17:04:00  0.88806  0.88806  0.88806  0.88806  0.0\n",
      "4 2018-01-01 17:05:00  0.88818  0.88818  0.88818  0.88818  0.0\n",
      "5 2018-01-01 17:06:00  0.88812  0.88812  0.88812  0.88812  0.0\n",
      "6 2018-01-01 17:07:00  0.88773  0.88773  0.88762  0.88768  0.0\n",
      "7 2018-01-01 17:08:00  0.88770  0.88785  0.88770  0.88785  0.0\n",
      "8 2018-01-01 17:09:00  0.88781  0.88795  0.88781  0.88795  0.0\n",
      "9 2018-01-01 17:10:00  0.88792  0.88792  0.88770  0.88770  0.0\n"
     ]
    },
    {
     "data": {
      "text/html": [
       "<div>\n",
       "<style scoped>\n",
       "    .dataframe tbody tr th:only-of-type {\n",
       "        vertical-align: middle;\n",
       "    }\n",
       "\n",
       "    .dataframe tbody tr th {\n",
       "        vertical-align: top;\n",
       "    }\n",
       "\n",
       "    .dataframe thead th {\n",
       "        text-align: right;\n",
       "    }\n",
       "</style>\n",
       "<table border=\"1\" class=\"dataframe\">\n",
       "  <thead>\n",
       "    <tr style=\"text-align: right;\">\n",
       "      <th></th>\n",
       "      <th>date</th>\n",
       "      <th>d1</th>\n",
       "      <th>d2</th>\n",
       "      <th>d3</th>\n",
       "      <th>d4</th>\n",
       "      <th>v</th>\n",
       "    </tr>\n",
       "  </thead>\n",
       "  <tbody>\n",
       "    <tr>\n",
       "      <th>0</th>\n",
       "      <td>2018-01-01 17:01:00</td>\n",
       "      <td>0.88831</td>\n",
       "      <td>0.88831</td>\n",
       "      <td>0.88773</td>\n",
       "      <td>0.88773</td>\n",
       "      <td>0.0</td>\n",
       "    </tr>\n",
       "    <tr>\n",
       "      <th>1</th>\n",
       "      <td>2018-01-01 17:02:00</td>\n",
       "      <td>0.88800</td>\n",
       "      <td>0.88800</td>\n",
       "      <td>0.88800</td>\n",
       "      <td>0.88800</td>\n",
       "      <td>0.0</td>\n",
       "    </tr>\n",
       "    <tr>\n",
       "      <th>2</th>\n",
       "      <td>2018-01-01 17:03:00</td>\n",
       "      <td>0.88806</td>\n",
       "      <td>0.88806</td>\n",
       "      <td>0.88806</td>\n",
       "      <td>0.88806</td>\n",
       "      <td>0.0</td>\n",
       "    </tr>\n",
       "    <tr>\n",
       "      <th>3</th>\n",
       "      <td>2018-01-01 17:04:00</td>\n",
       "      <td>0.88806</td>\n",
       "      <td>0.88806</td>\n",
       "      <td>0.88806</td>\n",
       "      <td>0.88806</td>\n",
       "      <td>0.0</td>\n",
       "    </tr>\n",
       "    <tr>\n",
       "      <th>4</th>\n",
       "      <td>2018-01-01 17:05:00</td>\n",
       "      <td>0.88818</td>\n",
       "      <td>0.88818</td>\n",
       "      <td>0.88818</td>\n",
       "      <td>0.88818</td>\n",
       "      <td>0.0</td>\n",
       "    </tr>\n",
       "  </tbody>\n",
       "</table>\n",
       "</div>"
      ],
      "text/plain": [
       "                 date       d1       d2       d3       d4    v\n",
       "0 2018-01-01 17:01:00  0.88831  0.88831  0.88773  0.88773  0.0\n",
       "1 2018-01-01 17:02:00  0.88800  0.88800  0.88800  0.88800  0.0\n",
       "2 2018-01-01 17:03:00  0.88806  0.88806  0.88806  0.88806  0.0\n",
       "3 2018-01-01 17:04:00  0.88806  0.88806  0.88806  0.88806  0.0\n",
       "4 2018-01-01 17:05:00  0.88818  0.88818  0.88818  0.88818  0.0"
      ]
     },
     "execution_count": 1,
     "metadata": {},
     "output_type": "execute_result"
    }
   ],
   "source": [
    "from datetime import datetime\n",
    "import pandas as pd\n",
    "import extract as e\n",
    "df = e.use_csvs()\n",
    "df.head()\n"
   ]
  },
  {
   "cell_type": "code",
   "execution_count": 2,
   "metadata": {},
   "outputs": [
    {
     "name": "stdout",
     "output_type": "stream",
     "text": [
      "35.4 ms ± 1.39 ms per loop (mean ± std. dev. of 7 runs, 10 loops each)\n",
      "34.4 ms ± 831 µs per loop (mean ± std. dev. of 7 runs, 10 loops each)\n",
      "45 ms ± 5.85 ms per loop (mean ± std. dev. of 7 runs, 10 loops each)\n",
      "35.9 ms ± 2.03 ms per loop (mean ± std. dev. of 7 runs, 10 loops each)\n",
      "34.1 ms ± 937 µs per loop (mean ± std. dev. of 7 runs, 10 loops each)\n"
     ]
    }
   ],
   "source": [
    "%timeit df['year'] = pd.DatetimeIndex(df['date']).year\n",
    "%timeit df['month'] = pd.DatetimeIndex(df['date']).month\n",
    "%timeit df['week'] = pd.DatetimeIndex(df['date']).week\n",
    "%timeit df['day'] = pd.DatetimeIndex(df['date']).day\n",
    "%timeit df['hour'] = pd.DatetimeIndex(df['date']).hour"
   ]
  },
  {
   "cell_type": "code",
   "execution_count": 4,
   "metadata": {},
   "outputs": [],
   "source": [
    "from calendar import monthrange"
   ]
  },
  {
   "cell_type": "code",
   "execution_count": null,
   "metadata": {},
   "outputs": [],
   "source": [
    "%timeit df['daysinmonth'] = df.apply(lambda row: monthrange(row['year'], row['month']), axis=1).str[1]"
   ]
  },
  {
   "cell_type": "code",
   "execution_count": null,
   "metadata": {},
   "outputs": [],
   "source": []
  }
 ],
 "metadata": {
  "kernelspec": {
   "display_name": "Python 3",
   "language": "python",
   "name": "python3"
  },
  "language_info": {
   "codemirror_mode": {
    "name": "ipython",
    "version": 3
   },
   "file_extension": ".py",
   "mimetype": "text/x-python",
   "name": "python",
   "nbconvert_exporter": "python",
   "pygments_lexer": "ipython3",
   "version": "3.7.1"
  }
 },
 "nbformat": 4,
 "nbformat_minor": 2
}
