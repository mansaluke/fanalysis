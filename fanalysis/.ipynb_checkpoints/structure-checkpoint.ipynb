{
 "cells": [
  {
   "cell_type": "code",
   "execution_count": 1,
   "metadata": {},
   "outputs": [],
   "source": [
    "%load_ext autoreload\n",
    "%autoreload 2\n",
    "%matplotlib inline"
   ]
  },
  {
   "cell_type": "code",
   "execution_count": 6,
   "metadata": {
    "scrolled": true
   },
   "outputs": [
    {
     "name": "stdout",
     "output_type": "stream",
     "text": [
      "2019-08-08 14:20:45,315 - findatapy.market.datavendorweb - INFO - Request Dukascopy data\n",
      "2019-08-08 14:20:45,331 - findatapy.market.datavendorweb - INFO - About to download from Dukascopy... for EURUSD\n",
      "2019-08-08 14:20:45,353 - findatapy.market.datavendorweb - INFO - Downloading... 2019-08-01 00:00:00\n",
      "2019-08-08 14:20:52,539 - findatapy.market.datavendorweb - INFO - Downloading... 2019-08-02 00:00:00\n",
      "2019-08-08 14:21:03,608 - findatapy.market.datavendorweb - INFO - Downloading... 2019-08-03 00:00:00\n",
      "2019-08-08 14:21:05,774 - findatapy.market.datavendorweb - INFO - Downloading... 2019-08-04 00:00:00\n",
      "2019-08-08 14:21:07,846 - findatapy.market.datavendorweb - INFO - Downloading... 2019-08-05 00:00:00\n",
      "2019-08-08 14:21:14,867 - findatapy.market.datavendorweb - INFO - Downloading... 2019-08-06 00:00:00\n",
      "2019-08-08 14:21:22,019 - findatapy.market.datavendorweb - INFO - Completed request from Dukascopy\n",
      "2019-08-08 14:21:23,696 - findatapy.market.ioengine - WARNING - Couldn't push MarketDataRequest_445__abstract_curve_key-None__alpha_vantage_api_key-x__category-fx__category_key-backtest_fx_dukascopy_tick_NYC_EURUSD__cut-NYC__data_source-dukascopy__environment-backtest__expiry_date-NaT__fields-bid__finish_date-2019-08-07 00:00:00__fred_api_key-x__freq-tick__freq_mult-1__gran_freq-None__quandl_api_key-x__resample-None__resample_how-last__start_date-2019-08-01 00:00:00__tickers-EURUSD__trade_side-trade__vendor_fields-None__vendor_tickers-None to Redis: Error 10061 connecting to 127.0.0.1:6379. No connection could be made because the target machine actively refused it.\n",
      "Storing h5: data\\EURUSD_tick_2019_08_07.h5...\n",
      "dataframe stored successfully\n"
     ]
    }
   ],
   "source": [
    "from findatapy.market import MarketDataGenerator, Market, MarketDataRequest\n",
    "from dfconvert import df_store\n",
    "\n",
    "\n",
    "def generate_market_data_for_tests():\n",
    "\n",
    "    md_request = MarketDataRequest(start_date='01 Aug 2019', finish_date='07 Aug 2019', cut='NYC', category='fx',\n",
    "                                   fields=['bid'], freq='tick', data_source='dukascopy',\n",
    "                                   tickers=['EURUSD'])\n",
    "\n",
    "    market = Market(market_data_generator=MarketDataGenerator())\n",
    "    df = market.fetch_market(md_request)\n",
    "    df.head()\n",
    "    df_store('EURUSD_tick_2019_08_07.h5').store_df(df)\n",
    "\n",
    "generate_market_data_for_tests()"
   ]
  },
  {
   "cell_type": "code",
   "execution_count": 104,
   "metadata": {
    "scrolled": true
   },
   "outputs": [
    {
     "name": "stdout",
     "output_type": "stream",
     "text": [
      "Loading h5: data\\EURUSD_tick_2019_08_07.h5...\n",
      "dataframe loaded successfully\n"
     ]
    },
    {
     "data": {
      "text/html": [
       "<div>\n",
       "<style scoped>\n",
       "    .dataframe tbody tr th:only-of-type {\n",
       "        vertical-align: middle;\n",
       "    }\n",
       "\n",
       "    .dataframe tbody tr th {\n",
       "        vertical-align: top;\n",
       "    }\n",
       "\n",
       "    .dataframe thead th {\n",
       "        text-align: right;\n",
       "    }\n",
       "</style>\n",
       "<table border=\"1\" class=\"dataframe\">\n",
       "  <thead>\n",
       "    <tr style=\"text-align: right;\">\n",
       "      <th></th>\n",
       "      <th>EURUSD.bid</th>\n",
       "    </tr>\n",
       "    <tr>\n",
       "      <th>Date</th>\n",
       "      <th></th>\n",
       "    </tr>\n",
       "  </thead>\n",
       "  <tbody>\n",
       "    <tr>\n",
       "      <th>2019-08-01 00:00:00.134</th>\n",
       "      <td>1.10715</td>\n",
       "    </tr>\n",
       "    <tr>\n",
       "      <th>2019-08-01 00:00:00.236</th>\n",
       "      <td>1.10715</td>\n",
       "    </tr>\n",
       "    <tr>\n",
       "      <th>2019-08-01 00:00:00.404</th>\n",
       "      <td>1.10716</td>\n",
       "    </tr>\n",
       "    <tr>\n",
       "      <th>2019-08-01 00:00:00.984</th>\n",
       "      <td>1.10716</td>\n",
       "    </tr>\n",
       "    <tr>\n",
       "      <th>2019-08-01 00:00:01.160</th>\n",
       "      <td>1.10717</td>\n",
       "    </tr>\n",
       "  </tbody>\n",
       "</table>\n",
       "</div>"
      ],
      "text/plain": [
       "                         EURUSD.bid\n",
       "Date                               \n",
       "2019-08-01 00:00:00.134     1.10715\n",
       "2019-08-01 00:00:00.236     1.10715\n",
       "2019-08-01 00:00:00.404     1.10716\n",
       "2019-08-01 00:00:00.984     1.10716\n",
       "2019-08-01 00:00:01.160     1.10717"
      ]
     },
     "execution_count": 104,
     "metadata": {},
     "output_type": "execute_result"
    }
   ],
   "source": [
    "from dfconvert import df_store\n",
    "df = df_store('EURUSD_tick_2019_08_07.h5').load_df()\n",
    "df.head()"
   ]
  },
  {
   "cell_type": "code",
   "execution_count": 105,
   "metadata": {},
   "outputs": [
    {
     "data": {
      "text/plain": [
       "696466"
      ]
     },
     "execution_count": 105,
     "metadata": {},
     "output_type": "execute_result"
    }
   ],
   "source": [
    "len(df)"
   ]
  },
  {
   "cell_type": "code",
   "execution_count": 106,
   "metadata": {},
   "outputs": [],
   "source": [
    "\n",
    "def sampler(df, n):\n",
    "    \"\"\"\n",
    "    e.g. for 1 in every 1000 ticks:\n",
    "    df = sampler(df, 10000)\n",
    "    \"\"\"\n",
    "    a = int(round(len(df)/n, 0))\n",
    "    print(a)\n",
    "    return df.sample(n= a)\n",
    "\n",
    " \n",
    "    \n",
    "    "
   ]
  },
  {
   "cell_type": "code",
   "execution_count": 107,
   "metadata": {},
   "outputs": [
    {
     "name": "stdout",
     "output_type": "stream",
     "text": [
      "69647\n"
     ]
    }
   ],
   "source": [
    "df = sampler(df, 10)"
   ]
  },
  {
   "cell_type": "code",
   "execution_count": 108,
   "metadata": {},
   "outputs": [
    {
     "data": {
      "text/html": [
       "<div>\n",
       "<style scoped>\n",
       "    .dataframe tbody tr th:only-of-type {\n",
       "        vertical-align: middle;\n",
       "    }\n",
       "\n",
       "    .dataframe tbody tr th {\n",
       "        vertical-align: top;\n",
       "    }\n",
       "\n",
       "    .dataframe thead th {\n",
       "        text-align: right;\n",
       "    }\n",
       "</style>\n",
       "<table border=\"1\" class=\"dataframe\">\n",
       "  <thead>\n",
       "    <tr style=\"text-align: right;\">\n",
       "      <th></th>\n",
       "      <th>EURUSD.bid</th>\n",
       "    </tr>\n",
       "    <tr>\n",
       "      <th>Date</th>\n",
       "      <th></th>\n",
       "    </tr>\n",
       "  </thead>\n",
       "  <tbody>\n",
       "    <tr>\n",
       "      <th>2019-08-02 01:24:28.394</th>\n",
       "      <td>1.10873</td>\n",
       "    </tr>\n",
       "    <tr>\n",
       "      <th>2019-08-05 17:55:08.570</th>\n",
       "      <td>1.12061</td>\n",
       "    </tr>\n",
       "    <tr>\n",
       "      <th>2019-08-05 08:58:24.671</th>\n",
       "      <td>1.11458</td>\n",
       "    </tr>\n",
       "    <tr>\n",
       "      <th>2019-08-06 16:43:51.340</th>\n",
       "      <td>1.12011</td>\n",
       "    </tr>\n",
       "    <tr>\n",
       "      <th>2019-08-05 13:58:51.938</th>\n",
       "      <td>1.11791</td>\n",
       "    </tr>\n",
       "  </tbody>\n",
       "</table>\n",
       "</div>"
      ],
      "text/plain": [
       "                         EURUSD.bid\n",
       "Date                               \n",
       "2019-08-02 01:24:28.394     1.10873\n",
       "2019-08-05 17:55:08.570     1.12061\n",
       "2019-08-05 08:58:24.671     1.11458\n",
       "2019-08-06 16:43:51.340     1.12011\n",
       "2019-08-05 13:58:51.938     1.11791"
      ]
     },
     "execution_count": 108,
     "metadata": {},
     "output_type": "execute_result"
    }
   ],
   "source": [
    "\n",
    "df.head()"
   ]
  },
  {
   "cell_type": "code",
   "execution_count": null,
   "metadata": {},
   "outputs": [],
   "source": []
  },
  {
   "cell_type": "code",
   "execution_count": null,
   "metadata": {},
   "outputs": [],
   "source": []
  }
 ],
 "metadata": {
  "kernelspec": {
   "display_name": "fan",
   "language": "python",
   "name": "fan"
  }
 },
 "nbformat": 4,
 "nbformat_minor": 2
}
