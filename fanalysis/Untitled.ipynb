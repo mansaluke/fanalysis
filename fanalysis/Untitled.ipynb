{
 "cells": [
  {
   "cell_type": "code",
   "execution_count": 1,
   "metadata": {},
   "outputs": [],
   "source": [
    "%load_ext autoreload\n",
    "%autoreload 2\n",
    "%matplotlib inline"
   ]
  },
  {
   "cell_type": "code",
   "execution_count": 4,
   "metadata": {},
   "outputs": [],
   "source": [
    "import matplotlib.pyplot as plt\n"
   ]
  },
  {
   "cell_type": "code",
   "execution_count": 3,
   "metadata": {},
   "outputs": [],
   "source": [
    "%matplotlib inline"
   ]
  },
  {
   "cell_type": "code",
   "execution_count": 5,
   "metadata": {},
   "outputs": [
    {
     "data": {
      "image/png": "[encoded data removed]",
      "text/plain": [
       "<Figure size 384x360 with 1 Axes>"
      ]
     },
     "metadata": {
      "needs_background": "light"
     },
     "output_type": "display_data"
    }
   ],
   "source": [
    "import matplotlib.patches as mpatches\n",
    "import matplotlib.pyplot as plt\n",
    "\n",
    "styles = mpatches.ArrowStyle.get_styles()\n",
    "\n",
    "ncol = 2\n",
    "nrow = (len(styles) + 1) // ncol\n",
    "figheight = (nrow + 0.5)\n",
    "fig = plt.figure(figsize=(4 * ncol / 1.5, figheight / 1.5))\n",
    "fontsize = 0.2 * 70\n",
    "\n",
    "\n",
    "ax = fig.add_axes([0, 0, 1, 1], frameon=False, aspect=1.)\n",
    "\n",
    "ax.set_xlim(0, 4 * ncol)\n",
    "ax.set_ylim(0, figheight)\n",
    "\n",
    "\n",
    "def to_texstring(s):\n",
    "    s = s.replace(\"<\", r\"$<$\")\n",
    "    s = s.replace(\">\", r\"$>$\")\n",
    "    s = s.replace(\"|\", r\"$|$\")\n",
    "    return s\n",
    "\n",
    "\n",
    "for i, (stylename, styleclass) in enumerate(sorted(styles.items())):\n",
    "    x = 3.2 + (i // nrow) * 4\n",
    "    y = (figheight - 0.7 - i % nrow)  # /figheight\n",
    "    p = mpatches.Circle((x, y), 0.2)\n",
    "    ax.add_patch(p)\n",
    "\n",
    "    ax.annotate(to_texstring(stylename), (x, y),\n",
    "                (x - 1.2, y),\n",
    "                ha=\"right\", va=\"center\",\n",
    "                size=fontsize,\n",
    "                arrowprops=dict(arrowstyle=stylename,\n",
    "                                patchB=p,\n",
    "                                shrinkA=5,\n",
    "                                shrinkB=5,\n",
    "                                fc=\"k\", ec=\"k\",\n",
    "                                connectionstyle=\"arc3,rad=-0.05\",\n",
    "                                ),\n",
    "                bbox=dict(boxstyle=\"square\", fc=\"w\"))\n",
    "\n",
    "ax.xaxis.set_visible(False)\n",
    "ax.yaxis.set_visible(False)\n",
    "\n",
    "plt.show()"
   ]
  },
  {
   "cell_type": "code",
   "execution_count": 145,
   "metadata": {},
   "outputs": [
    {
     "data": {
      "image/png": "[encoded data removed]",
      "text/plain": [
       "<Figure size 432x288 with 1 Axes>"
      ]
     },
     "metadata": {
      "needs_background": "light"
     },
     "output_type": "display_data"
    }
   ],
   "source": [
    "from matplotlib import pyplot as plt\n",
    "from matplotlib.patches import Rectangle, Ellipse\n",
    "from matplotlib.offsetbox import (\n",
    "    AnchoredOffsetbox, AuxTransformBox, DrawingArea, TextArea, VPacker)\n",
    "\n",
    "\n",
    "class AnchoredText(AnchoredOffsetbox):\n",
    "    def __init__(self, s, loc, pad=0.4, borderpad=0.5,\n",
    "                 prop=None, frameon=True):\n",
    "        self.txt = TextArea(s, minimumdescent=False)\n",
    "        super().__init__(loc, pad=pad, borderpad=borderpad,\n",
    "                         child=self.txt, prop=prop, frameon=frameon)\n",
    "\n",
    "\n",
    "def draw_text(ax):\n",
    "    \"\"\"\n",
    "    Draw a text-box anchored to the upper-left corner of the figure.\n",
    "    \"\"\"\n",
    "    at = AnchoredText(\"Figure 1a\", loc='upper left', frameon=True)\n",
    "    at.patch.set_boxstyle(\"round,pad=0.,rounding_size=0.2\")\n",
    "    ax.add_artist(at)\n",
    "\n",
    "\n",
    "class AnchoredDrawingArea(AnchoredOffsetbox):\n",
    "    def __init__(self, width, height, xdescent, ydescent,\n",
    "                 loc, pad=0.4, borderpad=0.5, prop=None, frameon=True):\n",
    "        self.da = DrawingArea(width, height, xdescent, ydescent)\n",
    "        super().__init__(loc, pad=pad, borderpad=borderpad,\n",
    "                         child=self.da, prop=None, frameon=frameon)\n",
    "\n",
    "\n",
    "def draw_circle(ax):\n",
    "    \"\"\"\n",
    "    Draw a circle in axis coordinates\n",
    "    \"\"\"\n",
    "    from matplotlib.patches import Circle\n",
    "    ada = AnchoredDrawingArea(20, 20, 0, 0,\n",
    "                              loc='upper right', pad=0., frameon=False)\n",
    "    p = Circle((10, 10), 10)\n",
    "    ada.da.add_artist(p)\n",
    "    ax.add_artist(ada)\n",
    "\n",
    "\n",
    "class AnchoredEllipse(AnchoredOffsetbox):\n",
    "    def __init__(self, transform, width, height, angle, loc,\n",
    "                 pad=0.1, borderpad=0.1, prop=None, frameon=True):\n",
    "        \"\"\"\n",
    "        Draw an ellipse the size in data coordinate of the give axes.\n",
    "\n",
    "        pad, borderpad in fraction of the legend font size (or prop)\n",
    "        \"\"\"\n",
    "        self._box = AuxTransformBox(transform)\n",
    "        self.ellipse = Ellipse((0, 0), width, height, angle)\n",
    "        self._box.add_artist(self.ellipse)\n",
    "        super().__init__(loc, pad=pad, borderpad=borderpad,\n",
    "                         child=self._box, prop=prop, frameon=frameon)\n",
    "\n",
    "\n",
    "def draw_ellipse(ax):\n",
    "    \"\"\"\n",
    "    Draw an ellipse of width=0.1, height=0.15 in data coordinates\n",
    "    \"\"\"\n",
    "    ae = AnchoredEllipse(ax.transData, width=0.1, height=0.15, angle=0.,\n",
    "                         loc='lower left', pad=0.5, borderpad=0.4,\n",
    "                         frameon=True)\n",
    "\n",
    "    ax.add_artist(ae)\n",
    "\n",
    "\n",
    "class AnchoredSizeBar(AnchoredOffsetbox):\n",
    "    def __init__(self, transform, size, label, loc,\n",
    "                 pad=0.1, borderpad=0.1, sep=2, prop=None, frameon=True):\n",
    "        \"\"\"\n",
    "        Draw a horizontal bar with the size in data coordinate of the given\n",
    "        axes. A label will be drawn underneath (center-aligned).\n",
    "\n",
    "        pad, borderpad in fraction of the legend font size (or prop)\n",
    "        sep in points.\n",
    "        \"\"\"\n",
    "        self.size_bar = AuxTransformBox(transform)\n",
    "        self.size_bar.add_artist(Rectangle((0, 0), size, 0, ec=\"black\", lw=1.0))\n",
    "\n",
    "        self.txt_label = TextArea(label, minimumdescent=False)\n",
    "\n",
    "        self._box = VPacker(children=[self.size_bar, self.txt_label],\n",
    "                            align=\"center\",\n",
    "                            pad=0, sep=sep)\n",
    "\n",
    "        super().__init__(loc, pad=pad, borderpad=borderpad,\n",
    "                         child=self._box, prop=prop, frameon=frameon)\n",
    "\n",
    "\n",
    "def draw_sizebar(ax):\n",
    "    \"\"\"\n",
    "    Draw a horizontal bar with length of 0.1 in data coordinates,\n",
    "    with a fixed label underneath.\n",
    "    \"\"\"\n",
    "    asb = AnchoredSizeBar(ax.transData,\n",
    "                          0.1,\n",
    "                          r\"1$^{\\prime}$\",\n",
    "                          loc='lower center',\n",
    "                          pad=0.1, borderpad=0.5, sep=5,\n",
    "                          frameon=False)\n",
    "    ax.add_artist(asb)\n",
    "\n",
    "\n",
    "ax = plt.gca()\n",
    "ax.set_aspect(1.)\n",
    "\n",
    "draw_text(ax)\n",
    "draw_circle(ax)\n",
    "draw_ellipse(ax)\n",
    "draw_sizebar(ax)\n",
    "\n",
    "plt.show()"
   ]
  },
  {
   "cell_type": "code",
   "execution_count": 47,
   "metadata": {},
   "outputs": [
    {
     "data": {
      "image/png": "[encoded data removed]",
      "text/plain": [
       "<Figure size 432x288 with 1 Axes>"
      ]
     },
     "metadata": {
      "needs_background": "light"
     },
     "output_type": "display_data"
    }
   ],
   "source": [
    "\n",
    "ax = plt.gca()\n",
    "ax.set_aspect(0.2)\n",
    "\n",
    "plt.show()"
   ]
  },
  {
   "cell_type": "code",
   "execution_count": 24,
   "metadata": {
    "scrolled": true
   },
   "outputs": [
    {
     "name": "stderr",
     "output_type": "stream",
     "text": [
      "C:\\Users\\luke\\Anaconda3\\lib\\site-packages\\matplotlib\\figure.py:445: UserWarning: Matplotlib is currently using module://ipykernel.pylab.backend_inline, which is a non-GUI backend, so cannot show the figure.\n",
      "  % get_backend())\n"
     ]
    },
    {
     "data": {
      "image/png": "[encoded data removed]",
      "text/plain": [
       "<Figure size 432x288 with 1 Axes>"
      ]
     },
     "metadata": {
      "needs_background": "light"
     },
     "output_type": "display_data"
    }
   ],
   "source": [
    "import matplotlib.pyplot as plt\n",
    "import numpy as np\n",
    "from mpl_toolkits.axes_grid1.anchored_artists import AnchoredSizeBar\n",
    "fig, ax = plt.subplots()\n",
    "ax.imshow(np.random.random((10,10)))\n",
    "bar = AnchoredSizeBar(ax.transData, 3, '3 data units', 4)\n",
    "ax.add_artist(bar)\n",
    "fig.show()"
   ]
  },
  {
   "cell_type": "code",
   "execution_count": 27,
   "metadata": {},
   "outputs": [
    {
     "data": {
      "image/png": "[encoded data removed]",
      "text/plain": [
       "<Figure size 432x288 with 1 Axes>"
      ]
     },
     "metadata": {
      "needs_background": "light"
     },
     "output_type": "display_data"
    }
   ],
   "source": [
    "import matplotlib.pyplot as plt\n",
    "import numpy as np\n",
    "import matplotlib.font_manager as fm\n",
    "from mpl_toolkits.axes_grid1.anchored_artists import AnchoredSizeBar\n",
    "fig, ax = plt.subplots()\n",
    "ax.imshow(np.random.random((10,10)))\n",
    "fontprops = fm.FontProperties(size=14, family='monospace')\n",
    "\n",
    "bar = AnchoredSizeBar(ax.transData, 3, '3 units', 4, pad=0.5, sep=5, borderpad=0.5, frameon=False, size_vertical=0.5, color='white', fontproperties=fontprops)\n",
    "ax.add_artist(bar)\n",
    "fig.show()\n",
    "\n"
   ]
  },
  {
   "cell_type": "code",
   "execution_count": 2,
   "metadata": {},
   "outputs": [],
   "source": [
    "from matplotlib.offsetbox import (\n",
    "    AnchoredOffsetbox, AuxTransformBox, DrawingArea, TextArea, VPacker)"
   ]
  },
  {
   "cell_type": "code",
   "execution_count": null,
   "metadata": {},
   "outputs": [],
   "source": [
    "ax = plt.gca()\n",
    "ax = draw_tree.draw_circle(ax)\n",
    "\n"
   ]
  },
  {
   "cell_type": "code",
   "execution_count": 34,
   "metadata": {},
   "outputs": [],
   "source": [
    "def draw_ellipse(ax):\n",
    "    \"\"\"\n",
    "    Draw an ellipse of width=0.1, height=0.15 in data coordinates\n",
    "    \"\"\"\n",
    "    ae = AnchoredEllipse(ax.transData, width=0.1, height=0.15, angle=0.,\n",
    "                         loc='lower left', pad=0.5, borderpad=0.4,\n",
    "                         frameon=True)\n",
    "\n",
    "    ax.add_artist(ae)\n"
   ]
  },
  {
   "cell_type": "code",
   "execution_count": 35,
   "metadata": {},
   "outputs": [
    {
     "data": {
      "image/png": "[encoded data removed]",
      "text/plain": [
       "<Figure size 432x288 with 1 Axes>"
      ]
     },
     "metadata": {
      "needs_background": "light"
     },
     "output_type": "display_data"
    }
   ],
   "source": [
    "ax = plt.gca()\n",
    "ax.set_aspect(1.)\n",
    "\n",
    "draw_ellipse(ax)\n",
    "\n",
    "\n",
    "plt.show()"
   ]
  },
  {
   "cell_type": "code",
   "execution_count": 13,
   "metadata": {
    "scrolled": true
   },
   "outputs": [
    {
     "data": {
      "image/png": "[encoded data removed]",
      "text/plain": [
       "<Figure size 432x288 with 1 Axes>"
      ]
     },
     "metadata": {
      "needs_background": "light"
     },
     "output_type": "display_data"
    }
   ],
   "source": [
    "class AnchoredDrawingArea(AnchoredOffsetbox):\n",
    "    def __init__(self, width, height, xdescent, ydescent,\n",
    "                 loc, pad=0.4, borderpad=0.5, prop=None, frameon=True):\n",
    "        self.da = DrawingArea(width, height, xdescent, ydescent)\n",
    "        super().__init__(loc, pad=pad, borderpad=borderpad,\n",
    "                         child=self.da, prop=None, frameon=frameon)\n",
    "\n",
    "\n",
    "def draw_circle(ax):\n",
    "    \"\"\"\n",
    "    Draw a circle in axis coordinates\n",
    "    \"\"\"\n",
    "    from matplotlib.patches import Circle\n",
    "    ada = AnchoredDrawingArea(40, 40, 0, 0,\n",
    "                              loc='center', pad=0., frameon=True)\n",
    "    p = Circle((10, 10), 20)\n",
    "    ada.da.add_artist(p)\n",
    "    ax.add_artist(ada)\n",
    "    \n",
    "ax = plt.gca()\n",
    "ax = draw_circle(ax)\n",
    "\n",
    "plt.show()    \n",
    "    "
   ]
  },
  {
   "cell_type": "code",
   "execution_count": 20,
   "metadata": {},
   "outputs": [
    {
     "data": {
      "text/plain": [
       "<mpl_toolkits.axes_grid1.anchored_artists.AnchoredDrawingArea at 0x24579ac4358>"
      ]
     },
     "execution_count": 20,
     "metadata": {},
     "output_type": "execute_result"
    },
    {
     "data": {
      "image/png": "[encoded data removed]",
      "text/plain": [
       "<Figure size 432x288 with 1 Axes>"
      ]
     },
     "metadata": {
      "needs_background": "light"
     },
     "output_type": "display_data"
    }
   ],
   "source": [
    "from mpl_toolkits.axes_grid1.anchored_artists import AnchoredDrawingArea\n",
    "from matplotlib.patches import Circle\n",
    "ada = AnchoredDrawingArea(20, 20, 0, 0,\n",
    "                          loc='upper right', pad=0., frameon=True)\n",
    "p1 = Circle((10, 10), 10)\n",
    "ada.drawing_area.add_artist(p1)\n",
    "p2 = Circle((30, 10), 5, fc=\"r\")\n",
    "ada.drawing_area.add_artist(p2)\n",
    "\n",
    "ax = plt.gca()\n",
    "ax.add_artist(ada)\n",
    "\n"
   ]
  },
  {
   "cell_type": "code",
   "execution_count": 137,
   "metadata": {},
   "outputs": [
    {
     "data": {
      "image/png": "[encoded data removed]",
      "text/plain": [
       "<Figure size 432x288 with 1 Axes>"
      ]
     },
     "metadata": {
      "needs_background": "light"
     },
     "output_type": "display_data"
    }
   ],
   "source": [
    "class AnchoredDrawingArea(AnchoredOffsetbox):\n",
    "    def __init__(self, width, height, xdescent, ydescent,\n",
    "                 loc, pad=0.8, borderpad=0.5, prop=None, frameon=True):\n",
    "        self.da = DrawingArea(width, height, xdescent, ydescent)\n",
    "        super().__init__(loc, pad=pad, borderpad=borderpad,\n",
    "                         child=self.da, prop=None, frameon=frameon)\n",
    "\n",
    "\n",
    "def draw_circle(ax):\n",
    "    \"\"\"\n",
    "    Draw a circle in axis coordinates\n",
    "    \"\"\"\n",
    "    from matplotlib.patches import Circle\n",
    "    ada = AnchoredDrawingArea(20, 20, 0, 0,\n",
    "                              loc='center', pad=5., frameon=False)\n",
    "    p = Circle((15, 10), 10, facecolor='none', edgecolor = 'r')\n",
    "    ada.da.add_artist(p)\n",
    "    ax.add_artist(ada)\n",
    "    \n",
    "ax = plt.gca()\n",
    "ax = draw_circle(ax)\n",
    "\n",
    "plt.show()   "
   ]
  },
  {
   "cell_type": "code",
   "execution_count": 88,
   "metadata": {},
   "outputs": [
    {
     "name": "stdout",
     "output_type": "stream",
     "text": [
      "0 ('-', <class 'matplotlib.patches.ArrowStyle.Curve'>)\n",
      "1 ('<-', <class 'matplotlib.patches.ArrowStyle.CurveA'>)\n",
      "2 ('->', <class 'matplotlib.patches.ArrowStyle.CurveB'>)\n",
      "3 ('<->', <class 'matplotlib.patches.ArrowStyle.CurveAB'>)\n",
      "4 ('<|-', <class 'matplotlib.patches.ArrowStyle.CurveFilledA'>)\n",
      "5 ('-|>', <class 'matplotlib.patches.ArrowStyle.CurveFilledB'>)\n",
      "6 ('<|-|>', <class 'matplotlib.patches.ArrowStyle.CurveFilledAB'>)\n",
      "7 (']-[', <class 'matplotlib.patches.ArrowStyle.BracketAB'>)\n",
      "8 (']-', <class 'matplotlib.patches.ArrowStyle.BracketA'>)\n",
      "9 ('-[', <class 'matplotlib.patches.ArrowStyle.BracketB'>)\n",
      "10 ('|-|', <class 'matplotlib.patches.ArrowStyle.BarAB'>)\n",
      "11 ('simple', <class 'matplotlib.patches.ArrowStyle.Simple'>)\n",
      "12 ('fancy', <class 'matplotlib.patches.ArrowStyle.Fancy'>)\n",
      "13 ('wedge', <class 'matplotlib.patches.ArrowStyle.Wedge'>)\n"
     ]
    },
    {
     "data": {
      "image/png": "[encoded data removed]",
      "text/plain": [
       "<Figure size 576x264 with 1 Axes>"
      ]
     },
     "metadata": {
      "needs_background": "light"
     },
     "output_type": "display_data"
    }
   ],
   "source": [
    "styles = mpatches.ArrowStyle.get_styles()\n",
    "\n",
    "ncol = 3\n",
    "nrow = (len(styles) + 1) // ncol\n",
    "figheight = (nrow + 0.5)\n",
    "fig = plt.figure(figsize=(4 * ncol / 1.5, figheight / 1.5))\n",
    "fontsize = 0.2 * 70\n",
    "\n",
    "\n",
    "ax = fig.add_axes([0, 0, 1, 1], frameon=False, aspect=1.)\n",
    "\n",
    "ax.set_xlim(0, 4 * ncol)\n",
    "ax.set_ylim(0, figheight)\n",
    "\n",
    "\n",
    "def to_texstring(s):\n",
    "    s = s.replace(\"<\", r\"$<$\")\n",
    "    s = s.replace(\">\", r\"$>$\")\n",
    "    s = s.replace(\"|\", r\"$|$\")\n",
    "    return s\n",
    "\n",
    "\n",
    "for i, (stylename, styleclass) in enumerate(styles.items()):\n",
    "    print(i, (stylename, styleclass))\n",
    "    x = 3.2 + (i // nrow) * 4\n",
    "    y = (figheight - 0.7 - i % nrow)  # /figheight\n",
    "    p = mpatches.Circle((x, y), 0.2)\n",
    "    ax.add_patch(p)\n",
    "\n",
    "    ax.annotate(to_texstring(stylename), (x, y),\n",
    "                (x - 1.2, y),\n",
    "                ha=\"right\", va=\"center\",\n",
    "                size=fontsize,\n",
    "                arrowprops=dict(arrowstyle=stylename,\n",
    "                                patchB=p,\n",
    "                                shrinkA=5,\n",
    "                                shrinkB=5,\n",
    "                                fc=\"k\", ec=\"k\",\n",
    "                                connectionstyle=\"arc3,rad=-0.05\",\n",
    "                                ),\n",
    "                bbox=dict(boxstyle=\"square\", fc=\"w\"))\n",
    "\n"
   ]
  },
  {
   "cell_type": "code",
   "execution_count": 28,
   "metadata": {
    "scrolled": true
   },
   "outputs": [
    {
     "data": {
      "image/png": "[encoded data removed]",
      "text/plain": [
       "<Figure size 432x288 with 1 Axes>"
      ]
     },
     "metadata": {
      "needs_background": "light"
     },
     "output_type": "display_data"
    }
   ],
   "source": [
    "import numpy as np\n",
    "import matplotlib.pyplot as plt\n",
    "import matplotlib.lines as lines\n",
    "import math\n",
    "\n",
    "\n",
    "x = 0.5\n",
    "y= 0.5\n",
    "r = 0.2\n",
    "\n",
    "d = math.sqrt((r**2.)/2.)\n",
    "\n",
    "ax = plt.gca()\n",
    "ax.set_aspect(1.)\n",
    "\n",
    "line1 = lines.Line2D([x+d, 1], [x-d, 0], color = 'black')\n",
    "line2 = lines.Line2D([x+d, 1], [x+d, 1], color = 'black')\n",
    "p = mpatches.Circle((x, x), r, facecolor='none', edgecolor = 'black')\n",
    "\n",
    "\n",
    "ax.add_line(line1)\n",
    "ax.add_line(line2)\n",
    "ax.add_patch(p)\n",
    "\n",
    "\n",
    "plt.show()\n",
    "\n",
    "\n"
   ]
  },
  {
   "cell_type": "code",
   "execution_count": 75,
   "metadata": {},
   "outputs": [
    {
     "data": {
      "image/png": "[encoded data removed]",
      "text/plain": [
       "<Figure size 432x288 with 1 Axes>"
      ]
     },
     "metadata": {
      "needs_background": "light"
     },
     "output_type": "display_data"
    }
   ],
   "source": [
    "a = 1\n",
    "x = 0.5\n",
    "y= 0.5 *a\n",
    "r = 0.2\n",
    "\n",
    "d = math.sqrt((r**2.)/2.)\n",
    "\n",
    "ax = plt.gca(frameon=False)\n",
    "\n",
    "ax.set_aspect(1.)\n",
    "\n",
    "line1 = lines.Line2D([0.5, 0.5], [0.5+r, 1], color = 'black')\n",
    "line2 = lines.Line2D([0.5, 1], [1, 1], color = 'black')\n",
    "\n",
    "\n",
    "\n",
    "p = mpatches.Circle((x, x), r, facecolor='none', edgecolor = 'black')\n",
    "\n",
    "\n",
    "ax.add_line(line1)\n",
    "ax.add_line(line2)\n",
    "ax.add_patch(p)\n",
    "\n",
    "\n",
    "plt.show()"
   ]
  },
  {
   "cell_type": "code",
   "execution_count": 295,
   "metadata": {},
   "outputs": [
    {
     "data": {
      "image/png": "[encoded data removed]",
      "text/plain": [
       "<Figure size 432x288 with 1 Axes>"
      ]
     },
     "metadata": {
      "needs_background": "light"
     },
     "output_type": "display_data"
    }
   ],
   "source": [
    "class AnchoredDrawingArea(AnchoredOffsetbox):\n",
    "    def __init__(self, width, height, xdescent, ydescent,\n",
    "                 loc, pad=0.8, borderpad=0.05, prop=None, frameon=True):\n",
    "        self.da = DrawingArea(width, height, xdescent, ydescent)\n",
    "        super().__init__(loc, pad=pad, borderpad=borderpad,\n",
    "                         child=self.da, prop=None, frameon=frameon)\n",
    "\n",
    "\n",
    "def draw_circle(ax):\n",
    "    from matplotlib.patches import Circle\n",
    "    ada = AnchoredDrawingArea(100, 100, 0, 0,\n",
    "                              loc='center', pad=5., frameon=True)\n",
    "    p = Circle((5, 5), 0.2, facecolor='none', edgecolor = 'r')\n",
    "    ada.da.add_artist(p)\n",
    "    ax.add_artist(ada)\n",
    "    \n",
    "ax = plt.gca()\n",
    "ax = draw_circle(ax)\n",
    "\n",
    "plt.show() "
   ]
  },
  {
   "cell_type": "code",
   "execution_count": 285,
   "metadata": {},
   "outputs": [
    {
     "data": {
      "image/png": "[encoded data removed]",
      "text/plain": [
       "<Figure size 432x288 with 1 Axes>"
      ]
     },
     "metadata": {
      "needs_background": "light"
     },
     "output_type": "display_data"
    }
   ],
   "source": [
    "import numpy as np\n",
    "import matplotlib.pyplot as plt\n",
    "import matplotlib.lines as lines\n",
    "import math\n",
    "\n",
    "\n",
    "x = 0.5\n",
    "y= 0.5\n",
    "r = 0.2\n",
    "\n",
    "d = math.sqrt((r**2.)/2.)\n",
    "\n",
    "ax = plt.gca()\n",
    "ax.set_aspect(1.)\n",
    "\n",
    "line1 = lines.Line2D([x+d, 1], [x-d, 0], color = 'black')\n",
    "line2 = lines.Line2D([x+d, 1], [x+d, 1], color = 'black')\n",
    "p = mpatches.Circle((x, x), r, facecolor='none', edgecolor = 'black')\n",
    "\n",
    "\n",
    "ax.add_line(line1)\n",
    "ax.add_line(line2)\n",
    "ax.add_patch(p)\n",
    "\n",
    "\n",
    "plt.show()\n"
   ]
  },
  {
   "cell_type": "code",
   "execution_count": 82,
   "metadata": {},
   "outputs": [
    {
     "data": {
      "image/png": "[encoded data removed]",
      "text/plain": [
       "<Figure size 432x288 with 1 Axes>"
      ]
     },
     "metadata": {
      "needs_background": "light"
     },
     "output_type": "display_data"
    }
   ],
   "source": [
    "import numpy as np\n",
    "import matplotlib.pyplot as plt\n",
    "import matplotlib.lines as lines\n",
    "import math\n",
    "\n",
    "\n",
    "\n",
    "y= 0.5\n",
    "r = 0.2\n",
    "x =r\n",
    "d = math.sqrt((r**2.)/2.)\n",
    "\n",
    "ax = plt.gca()\n",
    "ax.set_aspect(1.)\n",
    "\n",
    "line1 = lines.Line2D([x+d, 1], [x-d, 0], color = 'black')\n",
    "line2 = lines.Line2D([x+d, 1], [x+d, 1], color = 'black')\n",
    "p = mpatches.Circle((x, x), r, facecolor='none', edgecolor = 'black')\n",
    "\n",
    "\n",
    "ax.add_line(line1)\n",
    "ax.add_line(line2)\n",
    "ax.add_patch(p)\n",
    "\n",
    "\n",
    "plt.show()"
   ]
  },
  {
   "cell_type": "code",
   "execution_count": 119,
   "metadata": {},
   "outputs": [
    {
     "data": {
      "text/plain": [
       "<matplotlib.patches.Circle at 0x24500772fd0>"
      ]
     },
     "execution_count": 119,
     "metadata": {},
     "output_type": "execute_result"
    },
    {
     "data": {
      "image/png": "[encoded data removed]",
      "text/plain": [
       "<Figure size 432x288 with 1 Axes>"
      ]
     },
     "metadata": {
      "needs_background": "light"
     },
     "output_type": "display_data"
    }
   ],
   "source": [
    "import numpy as np\n",
    "import matplotlib.pyplot as plt\n",
    "import matplotlib.lines as lines\n",
    "import math\n",
    "\n",
    "fig, ax = plt.subplots(frameon=False)\n",
    "#ax = fig.add_axes([0, 0, 1, 1], frameon=False, aspect=1.)\n",
    "\n",
    "\n",
    "y= 0.\n",
    "r = 0.2\n",
    "x =r\n",
    "d = math.sqrt((r**2.)/2.)\n",
    "\n",
    "xlim = [0, 5]\n",
    "ylim = [-5, 5]\n",
    "\n",
    "\n",
    "ax.set_xlim(xlim)\n",
    "ax.set_ylim(ylim)\n",
    "ax.set_aspect(1.)\n",
    "\n",
    "p1 = mpatches.Circle((x, y), r, facecolor='none', edgecolor = 'black')\n",
    "p2 = mpatches.Circle((x+0.75, y), r, facecolor='none', edgecolor = 'black')\n",
    "\n",
    "\n",
    "\n",
    "line1 = lines.Line2D([r, r], [r, 0.75], color = 'black')\n",
    "line2 = lines.Line2D([r, 1], [0.75, 0.75], color = 'black')\n",
    "\n",
    "line3 = lines.Line2D([r, r], [-r, -0.75], color = 'black')\n",
    "line4 = lines.Line2D([r, 1], [-0.75, -0.75], color = 'black')\n",
    "\n",
    "ax.add_line(line1)\n",
    "ax.add_line(line2)\n",
    "ax.add_line(line3)\n",
    "ax.add_line(line4)\n",
    "\n",
    "\n",
    "ax.add_patch(p)\n",
    "\n",
    "\n"
   ]
  },
  {
   "cell_type": "code",
   "execution_count": 97,
   "metadata": {},
   "outputs": [
    {
     "name": "stdout",
     "output_type": "stream",
     "text": [
      "([3, 4], [2, 3], [1, 2])\n"
     ]
    },
    {
     "data": {
      "image/png": "[encoded data removed]",
      "text/plain": [
       "<Figure size 432x288 with 3 Axes>"
      ]
     },
     "metadata": {
      "needs_background": "light"
     },
     "output_type": "display_data"
    }
   ],
   "source": [
    "import matplotlib.pyplot as plt\n",
    "\n",
    "DATA_x = ([1, 2],\n",
    "          [2, 3],\n",
    "          [3, 4])\n",
    "\n",
    "DATA_y = DATA_x[::-1]\n",
    "print(DATA_y)\n",
    "XLIMS = [[0, 10]] * 3\n",
    "YLIMS = [[0, 10]] * 3\n",
    "\n",
    "for j, (x, y, xlim, ylim) in enumerate(zip(DATA_x, DATA_y, XLIMS, YLIMS)):\n",
    "    ax = plt.subplot(1, 3, j + 1)\n",
    "    ax.scatter(x, y)\n",
    "    ax.set_xlim(xlim)\n",
    "    ax.set_ylim(ylim)"
   ]
  },
  {
   "cell_type": "code",
   "execution_count": 268,
   "metadata": {},
   "outputs": [],
   "source": [
    "import matplotlib.pyplot as plt\n",
    "import numpy as np\n",
    "import matplotlib.dates as mdates\n",
    "from datetime import datetime\n",
    "\n",
    "try:\n",
    "    # Try to fetch a list of Matplotlib releases and their dates\n",
    "    # from https://api.github.com/repos/matplotlib/matplotlib/releases\n",
    "    import urllib.request\n",
    "    import json\n",
    "\n",
    "    url = 'https://api.github.com/repos/matplotlib/matplotlib/releases'\n",
    "    url += '?per_page=100'\n",
    "    data = json.loads(urllib.request.urlopen(url, timeout=.4).read().decode())\n",
    "\n",
    "    dates = []\n",
    "    names = []\n",
    "    for item in data:\n",
    "        if 'rc' not in item['tag_name'] and 'b' not in item['tag_name']:\n",
    "            dates.append(item['published_at'].split(\"T\")[0])\n",
    "            names.append(item['tag_name'])\n",
    "    # Convert date strings (e.g. 2014-10-18) to datetime\n",
    "    dates = [datetime.strptime(d, \"%Y-%m-%d\") for d in dates]\n",
    "\n",
    "except Exception:\n",
    "    # In case the above fails, e.g. because of missing internet connection\n",
    "    # use the following lists as fallback.\n",
    "    names = ['v2.2.4', 'v3.0.3', 'v3.0.2', 'v3.0.1', 'v3.0.0', 'v2.2.3',\n",
    "             'v2.2.2', 'v2.2.1', 'v2.2.0', 'v2.1.2', 'v2.1.1', 'v2.1.0',\n",
    "             'v2.0.2', 'v2.0.1', 'v2.0.0', 'v1.5.3', 'v1.5.2', 'v1.5.1',\n",
    "             'v1.5.0', 'v1.4.3', 'v1.4.2', 'v1.4.1', 'v1.4.0']\n",
    "\n",
    "    dates = ['2019-02-26', '2019-02-26', '2018-11-10', '2018-11-10',\n",
    "             '2018-09-18', '2018-08-10', '2018-03-17', '2018-03-16',\n",
    "             '2018-03-06', '2018-01-18', '2017-12-10', '2017-10-07',\n",
    "             '2017-05-10', '2017-05-02', '2017-01-17', '2016-09-09',\n",
    "             '2016-07-03', '2016-01-10', '2015-10-29', '2015-02-16',\n",
    "             '2014-10-26', '2014-10-18', '2014-08-26']\n",
    "\n",
    "    # Convert date strings (e.g. 2014-10-18) to datetime\n",
    "    dates = [datetime.strptime(d, \"%Y-%m-%d\") for d in dates]"
   ]
  },
  {
   "cell_type": "code",
   "execution_count": 275,
   "metadata": {
    "scrolled": true
   },
   "outputs": [
    {
     "data": {
      "text/plain": [
       "<StemContainer object of 3 artists>"
      ]
     },
     "execution_count": 275,
     "metadata": {},
     "output_type": "execute_result"
    },
    {
     "data": {
      "image/png": "[encoded data removed]",
      "text/plain": [
       "<Figure size 633.6x288 with 1 Axes>"
      ]
     },
     "metadata": {
      "needs_background": "light"
     },
     "output_type": "display_data"
    }
   ],
   "source": [
    "levels = np.tile([-5, 5, -3, 3, -1, 1],\n",
    "                 int(np.ceil(len(dates)/6)))[:len(dates)]\n",
    "\n",
    "# Create figure and plot a stem plot with the date\n",
    "fig, ax = plt.subplots(figsize=(8.8, 4), constrained_layout=True)\n",
    "\n",
    "\n",
    "markerline, stemline, baseline = ax.stem(dates, levels)\n",
    "\n",
    "\n"
   ]
  },
  {
   "cell_type": "code",
   "execution_count": 270,
   "metadata": {},
   "outputs": [
    {
     "data": {
      "image/png": "[encoded data removed]",
      "text/plain": [
       "<Figure size 633.6x288 with 1 Axes>"
      ]
     },
     "metadata": {
      "needs_background": "light"
     },
     "output_type": "display_data"
    }
   ],
   "source": [
    "# Choose some nice levels\n",
    "levels = np.tile([-5, 5, -3, 3, -1, 1],\n",
    "                 int(np.ceil(len(dates)/6)))[:len(dates)]\n",
    "\n",
    "# Create figure and plot a stem plot with the date\n",
    "fig, ax = plt.subplots(figsize=(8.8, 4), constrained_layout=True)\n",
    "ax.set(title=\"Matplotlib release dates\")\n",
    "\n",
    "markerline, stemline, baseline = ax.stem(dates, levels,\n",
    "                                         linefmt=\"C3-\", basefmt=\"k-\")\n",
    "\n",
    "plt.setp(markerline, mec=\"k\", mfc=\"w\", zorder=3)\n",
    "\n",
    "# Shift the markers to the baseline by replacing the y-data by zeros.\n",
    "markerline.set_ydata(np.zeros(len(dates)))\n",
    "\n",
    "# annotate lines\n",
    "vert = np.array(['top', 'bottom'])[(levels > 0).astype(int)]\n",
    "for d, l, r, va in zip(dates, levels, names, vert):\n",
    "    ax.annotate(r, xy=(d, l), xytext=(-3, np.sign(l)*3),\n",
    "                textcoords=\"offset points\", va=va, ha=\"right\")\n",
    "\n",
    "# format xaxis with 4 month intervals\n",
    "ax.get_xaxis().set_major_locator(mdates.MonthLocator(interval=4))\n",
    "ax.get_xaxis().set_major_formatter(mdates.DateFormatter(\"%b %Y\"))\n",
    "plt.setp(ax.get_xticklabels(), rotation=30, ha=\"right\")\n",
    "\n",
    "# remove y axis and spines\n",
    "ax.get_yaxis().set_visible(False)\n",
    "for spine in [\"left\", \"top\", \"right\"]:\n",
    "    ax.spines[spine].set_visible(False)\n",
    "\n",
    "ax.margins(y=0.1)\n",
    "plt.show()"
   ]
  },
  {
   "cell_type": "code",
   "execution_count": 80,
   "metadata": {},
   "outputs": [
    {
     "data": {
      "image/png": "[encoded data removed]",
      "text/plain": [
       "<Figure size 432x288 with 1 Axes>"
      ]
     },
     "metadata": {
      "needs_background": "light"
     },
     "output_type": "display_data"
    }
   ],
   "source": [
    "p = [0, 2, 4, 1, 2, 3, 4]\n",
    "a = [0, 0, 0, 0.1, 0.1, 0.1, 0.1]\n",
    "\n",
    "\n",
    "#fig, ax = plt.subplots(constrained_layout=True)\n",
    "ax = plt.gca()\n",
    "\n",
    "markerline, stemline, baseline = ax.stem(a, p)\n",
    "\n",
    "\n",
    "\n",
    "\n",
    "\n",
    "line1 = lines.Line2D([0, 0.1], [0, 0])\n",
    "line1 = lines.Line2D([0, 0.1], [4, 4])\n",
    "\n",
    "ax.add_line(line1)\n",
    "\n",
    "\n",
    "plt.show()"
   ]
  },
  {
   "cell_type": "code",
   "execution_count": null,
   "metadata": {},
   "outputs": [],
   "source": []
  }
 ],
 "metadata": {
  "kernelspec": {
   "display_name": "Python 3",
   "language": "python",
   "name": "python3"
  },
  "language_info": {
   "codemirror_mode": {
    "name": "ipython",
    "version": 3
   },
   "file_extension": ".py",
   "mimetype": "text/x-python",
   "name": "python",
   "nbconvert_exporter": "python",
   "pygments_lexer": "ipython3",
   "version": "3.7.3"
  }
 },
 "nbformat": 4,
 "nbformat_minor": 2
}
